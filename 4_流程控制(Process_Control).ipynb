{
  "cells": [
    {
      "cell_type": "markdown",
      "metadata": {
        "id": "view-in-github",
        "colab_type": "text"
      },
      "source": [
        "<a href=\"https://colab.research.google.com/github/wtlee/python_toturial/blob/main/4_%E6%B5%81%E7%A8%8B%E6%8E%A7%E5%88%B6(Process_Control).ipynb\" target=\"_parent\"><img src=\"https://colab.research.google.com/assets/colab-badge.svg\" alt=\"Open In Colab\"/></a>"
      ]
    },
    {
      "cell_type": "markdown",
      "metadata": {
        "id": "hKj7cJjiEHnU"
      },
      "source": [
        "## 程式的三種主要流程：循序，分支與迴圈!\n",
        "### 分支\n",
        "<code>if 條件式:\n",
        "    [程式區塊] #條件式為True時執行\n",
        "#條件式為False時執行\n",
        "</code>\n"
      ],
      "id": "hKj7cJjiEHnU"
    },
    {
      "cell_type": "code",
      "execution_count": null,
      "metadata": {
        "id": "ClmikEikEHnX",
        "outputId": "576c3ab1-69ed-4ff5-e545-c83cbde57c1a"
      },
      "outputs": [
        {
          "name": "stdout",
          "output_type": "stream",
          "text": [
            "end\n"
          ]
        }
      ],
      "source": [
        "\"\"\"\n",
        "if 判斷條件:\n",
        "    執行的程式碼\n",
        "\"\"\"\n",
        "g = 20\n",
        "\n",
        "if g >= 60:\n",
        "    # code block\n",
        "    # 當 g >= 60 成立後才會執行以下的程式\n",
        "    print(\"pass\")\n",
        "    print(\"good\")\n",
        "print(\"end\") # 不論如何都會執行的程式"
      ],
      "id": "ClmikEikEHnX"
    },
    {
      "cell_type": "markdown",
      "metadata": {
        "id": "IzBHUMbUEHnZ"
      },
      "source": [
        "<code>if 條件式:\n",
        "    [程式區塊1]\n",
        "    #條件式為True時執行\n",
        "else:\n",
        "    [程式區塊2]\n",
        "    #條件式為False時執行\n",
        "</code>"
      ],
      "id": "IzBHUMbUEHnZ"
    },
    {
      "cell_type": "code",
      "execution_count": null,
      "metadata": {
        "id": "C-NTMevTEHnZ",
        "outputId": "5d37cbb1-76a1-41c7-d372-d2d1dfa0a7ce"
      },
      "outputs": [
        {
          "name": "stdout",
          "output_type": "stream",
          "text": [
            "fail\n",
            "not good\n",
            "end\n"
          ]
        }
      ],
      "source": [
        "\"\"\"\n",
        "if else\n",
        "\"\"\"\n",
        "g = 20\n",
        "\n",
        "if g >= 60:\n",
        "    print(\"pass\")\n",
        "    print(\"good\")\n",
        "else:\n",
        "    print(\"fail\")\n",
        "    print(\"not good\")\n",
        "print(\"end\")"
      ],
      "id": "C-NTMevTEHnZ"
    },
    {
      "cell_type": "markdown",
      "metadata": {
        "id": "pA_yFx-7EHna"
      },
      "source": [
        "#### 1.12.3.1 Example 1"
      ],
      "id": "pA_yFx-7EHna"
    },
    {
      "cell_type": "code",
      "execution_count": null,
      "metadata": {
        "id": "OHnA1rcREHna"
      },
      "outputs": [],
      "source": [],
      "id": "OHnA1rcREHna"
    },
    {
      "cell_type": "markdown",
      "metadata": {
        "id": "ycpaBvJjEHna"
      },
      "source": [
        "#### 1.12.3.2 Example 2"
      ],
      "id": "ycpaBvJjEHna"
    },
    {
      "cell_type": "code",
      "execution_count": null,
      "metadata": {
        "id": "dEKovUUuEHna",
        "outputId": "0806e3cf-4e20-4ade-bd59-694c608f236a"
      },
      "outputs": [
        {
          "name": "stdout",
          "output_type": "stream",
          "text": [
            "性別 [女性=0, 男性=1]?1\n",
            "Your gender is male.\n"
          ]
        }
      ],
      "source": [
        "iGender = eval(input('性別 [女性=0, 男性=1]?'))\n",
        "if (iGender == 0):\n",
        "    print('Your gender is female.')\n",
        "if (iGender == 1):\n",
        "    print('Your gender is male.')"
      ],
      "id": "dEKovUUuEHna"
    },
    {
      "cell_type": "markdown",
      "metadata": {
        "id": "Ou7DvHX8EHna"
      },
      "source": [
        "#### 練習: 判斷奇偶數\n",
        "輸入一正整數，判斷該數為奇數或偶數並使用print()列印出來。<br>\n",
        "Hint:使用if else進行判斷"
      ],
      "id": "Ou7DvHX8EHna"
    },
    {
      "cell_type": "code",
      "execution_count": null,
      "metadata": {
        "id": "mSyOS1nFEHnb",
        "outputId": "98ba81b5-7483-4405-f383-734d1d1467da"
      },
      "outputs": [
        {
          "name": "stdout",
          "output_type": "stream",
          "text": [
            "input an integer5\n",
            "奇數\n"
          ]
        }
      ],
      "source": [
        "num = int(input('input an integer'))\n",
        "if num % 2 == 0:\n",
        "    print('偶數')\n",
        "else:\n",
        "    print('奇數')"
      ],
      "id": "mSyOS1nFEHnb"
    },
    {
      "cell_type": "markdown",
      "metadata": {
        "id": "UntG5MITEHnb"
      },
      "source": [
        "### if elif else\n",
        "<code>if 條件1判斷:\n",
        "    [程式區塊1]\n",
        "elif 條件2判斷:\n",
        "    [程式區塊2]\n",
        "else:\n",
        "    [程式區塊3]\n",
        "</code>"
      ],
      "id": "UntG5MITEHnb"
    },
    {
      "cell_type": "code",
      "execution_count": null,
      "metadata": {
        "id": "7S57gitDEHnb",
        "outputId": "e9ceef20-68d6-462b-9110-a456b8364a1c"
      },
      "outputs": [
        {
          "name": "stdout",
          "output_type": "stream",
          "text": [
            "pass\n",
            "good\n",
            "end\n"
          ]
        }
      ],
      "source": [
        "g = 70\n",
        "if g >= 60:\n",
        "    print(\"pass\")\n",
        "    print(\"good\")\n",
        "    if g >= 90:\n",
        "        print(\"excellent\")\n",
        "elif g >= 50:\n",
        "    print(\"almost pass\")\n",
        "else:\n",
        "    print(\"fail\")\n",
        "    print(\"not good\")\n",
        "print(\"end\")"
      ],
      "id": "7S57gitDEHnb"
    },
    {
      "cell_type": "markdown",
      "metadata": {
        "id": "Fe8z_VYEEHnc"
      },
      "source": [
        "#### 練習: 判斷分數是否及格\n",
        "輸入一整數，判斷分數落在哪個區間，並顯示是否及格，區間：<br>\n",
        "60以下、<br>\n",
        "60-69、<br>\n",
        "70-79、<br>\n",
        "80-89、<br>\n",
        "90-100<br>\n",
        "若不在區間中，則顯示輸入範圍，輸出時，請用print()印出<br>\n",
        "Hint:使用if, elif, else"
      ],
      "id": "Fe8z_VYEEHnc"
    },
    {
      "cell_type": "code",
      "execution_count": null,
      "metadata": {
        "id": "lKognnHrEHnc",
        "outputId": "9ec7b709-3bc6-4f27-af08-0c2807979a6d"
      },
      "outputs": [
        {
          "name": "stdout",
          "output_type": "stream",
          "text": [
            "Please input a grade: -2\n",
            "請輸入0~100的整數\n"
          ]
        }
      ],
      "source": [
        "g = int(input('Please input a grade: '))\n",
        "if 90 <= g <= 100:\n",
        "    print(\"90~100\")\n",
        "    print(\"分數及格\")\n",
        "elif 80 <= g <= 89:\n",
        "    print(\"80~89\")\n",
        "    print(\"分數及格\")\n",
        "elif 80 <= g <= 89:\n",
        "    print(\"80~89\")\n",
        "    print(\"分數及格\")\n",
        "elif 70 <= g <= 79:\n",
        "    print(\"70~79\")\n",
        "    print(\"分數及格\")\n",
        "elif 60 <= g <= 69:\n",
        "    print(\"60~69\")\n",
        "    print(\"分數及格\")\n",
        "elif 0 <= g < 60:\n",
        "    print(\"0~59\")\n",
        "    print(\"分數不及格\")\n",
        "else:\n",
        "    print(\"請輸入0~100的整數\")"
      ],
      "id": "lKognnHrEHnc"
    },
    {
      "cell_type": "markdown",
      "metadata": {
        "id": "6TMG-OpyEHnc"
      },
      "source": [
        "## 巢狀if 條件指令\n",
        "<code>if 條件判斷式1:\n",
        "    if 條件判斷式2:\n",
        "        [程式區塊1]\n",
        "    else:\n",
        "        [程式區塊2]\n",
        "else:\n",
        "    if 條件判斷式3\n",
        "        [程式區塊3]\n",
        "    else:\n",
        "        [程式區塊4]\n",
        "</code>"
      ],
      "id": "6TMG-OpyEHnc"
    },
    {
      "cell_type": "code",
      "execution_count": null,
      "metadata": {
        "scrolled": true,
        "id": "WOR5QFz5EHnc",
        "outputId": "e6d845a9-7507-4310-98db-e40d0991f15a"
      },
      "outputs": [
        {
          "name": "stdout",
          "output_type": "stream",
          "text": [
            "變數c最大\n"
          ]
        }
      ],
      "source": [
        "a = 5\n",
        "b = 3\n",
        "c = 8\n",
        "if a > b and a > c:\n",
        "    print('變數a最大')\n",
        "else:\n",
        "    if b > c:\n",
        "        print('變數b最大')\n",
        "    else:\n",
        "        print('變數c最大')"
      ],
      "id": "WOR5QFz5EHnc"
    },
    {
      "cell_type": "code",
      "execution_count": null,
      "metadata": {
        "id": "wwmfVuiWEHnd",
        "outputId": "5ed5ecff-22a4-4047-f8b7-99b85e26609f"
      },
      "outputs": [
        {
          "name": "stdout",
          "output_type": "stream",
          "text": [
            "性別 [女性=0, 男性=1]?1\n",
            "Your gender is male.\n"
          ]
        }
      ],
      "source": [
        "iGender = eval(input('性別 [女性=0, 男性=1]?'))\n",
        "if (iGender == 0):\n",
        "    print('Your gender is female.')\n",
        "if (iGender == 1):\n",
        "    print('Your gender is male.')"
      ],
      "id": "wwmfVuiWEHnd"
    },
    {
      "cell_type": "code",
      "execution_count": null,
      "metadata": {
        "id": "OWpPDgLxEHnd"
      },
      "outputs": [],
      "source": [],
      "id": "OWpPDgLxEHnd"
    },
    {
      "cell_type": "markdown",
      "metadata": {
        "id": "FtNhuKMuEHnd"
      },
      "source": [
        "#### 判斷顯示各式的BMI 結果\n",
        "體重過輕: BMI ＜ 18.5 <br>\n",
        "正常範圍: 18.5 ≦ BMI ＜ 24<br>\n",
        "稍重：24 ≦ BMI ＜ 27<br>\n",
        "輕度肥胖：27 ≦ BMI ＜ 30<br>\n",
        "中度肥胖：30 ≦ BMI ＜ 35<br>\n",
        "重度肥胖：BMI ≧ 35<br>"
      ],
      "id": "FtNhuKMuEHnd"
    },
    {
      "cell_type": "code",
      "execution_count": null,
      "metadata": {
        "id": "sCrO0PyAEHnf",
        "outputId": "499b20e9-9615-404f-ddfc-e4ec975ca0bd"
      },
      "outputs": [
        {
          "name": "stdout",
          "output_type": "stream",
          "text": [
            "What is your height? 1.8\n",
            "What is your weight? 72\n",
            "What is your name? tim\n",
            "tim's BMI is 22.22\n"
          ]
        }
      ],
      "source": [
        "height = float(input(\"What is your height? \"))\n",
        "weight = int(input(\"What is your weight? \"))\n",
        "BMI = weight / (height * height)\n",
        "name = input(\"What is your name? \")\n",
        "print(name + \"'s BMI is {:.2f}\".format(BMI))"
      ],
      "id": "sCrO0PyAEHnf"
    },
    {
      "cell_type": "code",
      "execution_count": null,
      "metadata": {
        "id": "abEj5tfuEHnf",
        "outputId": "238bb500-e980-4bb8-8105-b3d52adff046"
      },
      "outputs": [
        {
          "name": "stdout",
          "output_type": "stream",
          "text": [
            "What is your height? 1.8\n",
            "What is your weight? 72\n",
            "What is your name? Tim\n",
            "Tim's BMI is 22.22, 判斷為 正常範圍\n"
          ]
        }
      ],
      "source": [
        "height = float(input(\"What is your height? \"))\n",
        "weight = int(input(\"What is your weight? \"))\n",
        "BMI = weight / (height * height)\n",
        "name = input(\"What is your name? \")\n",
        "msg = ''\n",
        "if BMI < 18.5:\n",
        "    msg = '體重過輕'\n",
        "elif 18.5 <= BMI < 24:\n",
        "    msg = '正常範圍'\n",
        "elif 24 <= BMI < 27:\n",
        "    msg = '體重稍重'\n",
        "elif 27 <= BMI < 30:\n",
        "    msg = '輕度肥胖'\n",
        "elif 30 <= BMI < 35:\n",
        "    msg = '中度肥胖'\n",
        "elif BMI > 35:\n",
        "    msg = '重度肥胖'\n",
        "\n",
        "print(name + \"'s BMI is {:.2f}, 判斷為 \".format(BMI)+msg)"
      ],
      "id": "abEj5tfuEHnf"
    },
    {
      "cell_type": "code",
      "execution_count": null,
      "metadata": {
        "id": "ABvwv-M9EHng"
      },
      "outputs": [],
      "source": [],
      "id": "ABvwv-M9EHng"
    }
  ],
  "metadata": {
    "kernelspec": {
      "display_name": "Python 3",
      "language": "python",
      "name": "python3"
    },
    "language_info": {
      "codemirror_mode": {
        "name": "ipython",
        "version": 3
      },
      "file_extension": ".py",
      "mimetype": "text/x-python",
      "name": "python",
      "nbconvert_exporter": "python",
      "pygments_lexer": "ipython3",
      "version": "3.8.5"
    },
    "colab": {
      "provenance": [],
      "include_colab_link": true
    }
  },
  "nbformat": 4,
  "nbformat_minor": 5
}
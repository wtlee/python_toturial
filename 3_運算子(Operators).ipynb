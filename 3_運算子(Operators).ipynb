{
  "cells": [
    {
      "cell_type": "markdown",
      "metadata": {
        "id": "view-in-github",
        "colab_type": "text"
      },
      "source": [
        "<a href=\"https://colab.research.google.com/github/wtlee/python_toturial/blob/main/3_%E9%81%8B%E7%AE%97%E5%AD%90(Operators).ipynb\" target=\"_parent\"><img src=\"https://colab.research.google.com/assets/colab-badge.svg\" alt=\"Open In Colab\"/></a>"
      ]
    },
    {
      "cell_type": "markdown",
      "id": "2ab1cc74",
      "metadata": {
        "id": "2ab1cc74"
      },
      "source": [
        "## 3. Python 運算子(Operators)\n",
        "                                    20210715 by Wen-Tin Lee"
      ]
    },
    {
      "cell_type": "markdown",
      "id": "6e1f6d9f",
      "metadata": {
        "id": "6e1f6d9f"
      },
      "source": [
        "### 算術運算子(Arithmetic Operator)"
      ]
    },
    {
      "cell_type": "code",
      "execution_count": 3,
      "id": "bcf720f7",
      "metadata": {
        "id": "bcf720f7",
        "outputId": "55deef18-34f4-42a4-caff-7e5cf4ca81b9",
        "colab": {
          "base_uri": "https://localhost:8080/"
        }
      },
      "outputs": [
        {
          "output_type": "stream",
          "name": "stdout",
          "text": [
            "14\n"
          ]
        }
      ],
      "source": [
        "print(10 + 4)"
      ]
    },
    {
      "cell_type": "code",
      "execution_count": null,
      "id": "53ec11aa",
      "metadata": {
        "id": "53ec11aa",
        "outputId": "03d5d777-0395-4768-d220-9c03d1d568c9"
      },
      "outputs": [
        {
          "data": {
            "text/plain": [
              "6"
            ]
          },
          "execution_count": 2,
          "metadata": {},
          "output_type": "execute_result"
        }
      ],
      "source": [
        "10 - 4"
      ]
    },
    {
      "cell_type": "code",
      "execution_count": null,
      "id": "d7e8937f",
      "metadata": {
        "id": "d7e8937f",
        "outputId": "1d7771b6-1c28-42ee-dcbd-49cb41282262"
      },
      "outputs": [
        {
          "data": {
            "text/plain": [
              "40"
            ]
          },
          "execution_count": 3,
          "metadata": {},
          "output_type": "execute_result"
        }
      ],
      "source": [
        "10 * 4"
      ]
    },
    {
      "cell_type": "code",
      "execution_count": null,
      "id": "02abea54",
      "metadata": {
        "id": "02abea54",
        "outputId": "2c0c19e8-7b45-48f6-aae5-2b10538189a9"
      },
      "outputs": [
        {
          "data": {
            "text/plain": [
              "2.5"
            ]
          },
          "execution_count": 4,
          "metadata": {},
          "output_type": "execute_result"
        }
      ],
      "source": [
        "10 / 4"
      ]
    },
    {
      "cell_type": "code",
      "execution_count": null,
      "id": "7ea95aa0",
      "metadata": {
        "id": "7ea95aa0",
        "outputId": "9c9251c5-9ce5-4738-9800-f79eff635f3f"
      },
      "outputs": [
        {
          "data": {
            "text/plain": [
              "1"
            ]
          },
          "execution_count": 5,
          "metadata": {},
          "output_type": "execute_result"
        }
      ],
      "source": [
        "5 % 4"
      ]
    },
    {
      "cell_type": "code",
      "source": [
        "print(10 / 4)\n",
        "print(10 // 4)\n",
        "print(10 // float(4))\n",
        "print(10 ** 4)"
      ],
      "metadata": {
        "id": "udqfszfEdqAp",
        "colab": {
          "base_uri": "https://localhost:8080/"
        },
        "outputId": "a0634f94-4aa0-492f-c4fb-ca4b8f02df8f"
      },
      "id": "udqfszfEdqAp",
      "execution_count": 2,
      "outputs": [
        {
          "output_type": "stream",
          "name": "stdout",
          "text": [
            "2.5\n",
            "2\n",
            "2.0\n",
            "10000\n"
          ]
        }
      ]
    },
    {
      "cell_type": "code",
      "execution_count": null,
      "id": "b55563bc",
      "metadata": {
        "id": "b55563bc",
        "outputId": "103ff189-ea19-419d-a896-6329f333e1c4",
        "colab": {
          "base_uri": "https://localhost:8080/"
        }
      },
      "outputs": [
        {
          "output_type": "execute_result",
          "data": {
            "text/plain": [
              "3.0"
            ]
          },
          "metadata": {},
          "execution_count": 3
        }
      ],
      "source": [
        "10 // 3.0"
      ]
    },
    {
      "cell_type": "code",
      "execution_count": null,
      "id": "30ee6ed2",
      "metadata": {
        "id": "30ee6ed2",
        "outputId": "e290d1cd-1f2d-4fb3-fe6e-b68b12ed2b6c"
      },
      "outputs": [
        {
          "data": {
            "text/plain": [
              "2.0"
            ]
          },
          "execution_count": 7,
          "metadata": {},
          "output_type": "execute_result"
        }
      ],
      "source": [
        "10 // float(4)"
      ]
    },
    {
      "cell_type": "code",
      "execution_count": null,
      "id": "6ce5e001",
      "metadata": {
        "id": "6ce5e001",
        "outputId": "8d8abd58-3d0e-4782-8c39-7b5e0499f23e",
        "colab": {
          "base_uri": "https://localhost:8080/"
        }
      },
      "outputs": [
        {
          "output_type": "execute_result",
          "data": {
            "text/plain": [
              "100000"
            ]
          },
          "metadata": {},
          "execution_count": 5
        }
      ],
      "source": [
        "10 ** 5"
      ]
    },
    {
      "cell_type": "markdown",
      "id": "ba0e5029",
      "metadata": {
        "id": "ba0e5029"
      },
      "source": [
        "### 邏輯運算子(Logic Operator)"
      ]
    },
    {
      "cell_type": "code",
      "execution_count": null,
      "id": "71519a88",
      "metadata": {
        "id": "71519a88",
        "outputId": "3d83271e-c4f1-4de5-826e-04c25adad45f"
      },
      "outputs": [
        {
          "name": "stdout",
          "output_type": "stream",
          "text": [
            "True False False True False\n"
          ]
        }
      ],
      "source": [
        "## 邏輯運算\n",
        "a = True\n",
        "b = False\n",
        "X = a and b\n",
        "Y = a or b\n",
        "Z = not a\n",
        "print(a, b, X, Y, Z)"
      ]
    },
    {
      "cell_type": "code",
      "execution_count": null,
      "id": "43eef613",
      "metadata": {
        "id": "43eef613",
        "outputId": "f2aea3f7-df74-4676-b63b-524ae5cf6a95"
      },
      "outputs": [
        {
          "data": {
            "text/plain": [
              "False"
            ]
          },
          "execution_count": 10,
          "metadata": {},
          "output_type": "execute_result"
        }
      ],
      "source": [
        "a = False\n",
        "b = False\n",
        "X = a or b\n",
        "X"
      ]
    },
    {
      "cell_type": "code",
      "execution_count": null,
      "id": "a7de874c",
      "metadata": {
        "id": "a7de874c",
        "outputId": "08e665ba-4cad-41c4-dc60-4aee9417fe86"
      },
      "outputs": [
        {
          "data": {
            "text/plain": [
              "True"
            ]
          },
          "execution_count": 11,
          "metadata": {},
          "output_type": "execute_result"
        }
      ],
      "source": [
        "4 < 5 or 5 < 4"
      ]
    },
    {
      "cell_type": "code",
      "execution_count": null,
      "id": "1c54f24f",
      "metadata": {
        "id": "1c54f24f",
        "outputId": "667ecafa-158f-494e-fa9d-d6c93f120b0b"
      },
      "outputs": [
        {
          "data": {
            "text/plain": [
              "False"
            ]
          },
          "execution_count": 12,
          "metadata": {},
          "output_type": "execute_result"
        }
      ],
      "source": [
        "not (3<5 and 3<4)"
      ]
    },
    {
      "cell_type": "code",
      "execution_count": null,
      "id": "7f5ee6d1",
      "metadata": {
        "id": "7f5ee6d1",
        "outputId": "f1f2c67e-31b5-43a1-d799-dc3c0db98dd6"
      },
      "outputs": [
        {
          "name": "stdout",
          "output_type": "stream",
          "text": [
            "False\n",
            "True\n"
          ]
        }
      ],
      "source": [
        "isStudent = True\n",
        "isKid = False\n",
        "print(not isStudent)\n",
        "print(not isKid)"
      ]
    },
    {
      "cell_type": "markdown",
      "id": "8ca1de3c",
      "metadata": {
        "id": "8ca1de3c"
      },
      "source": [
        "### 比較運算子(Compare Operator)"
      ]
    },
    {
      "cell_type": "code",
      "execution_count": null,
      "id": "bbe95fac",
      "metadata": {
        "id": "bbe95fac",
        "outputId": "92589e63-1f13-440d-fa17-2daf0f779320"
      },
      "outputs": [
        {
          "data": {
            "text/plain": [
              "False"
            ]
          },
          "execution_count": 14,
          "metadata": {},
          "output_type": "execute_result"
        }
      ],
      "source": [
        "11 == 2"
      ]
    },
    {
      "cell_type": "code",
      "execution_count": null,
      "id": "7f5d65f0",
      "metadata": {
        "id": "7f5d65f0",
        "outputId": "f64b830b-785c-43bd-e63a-55c76aa381d9"
      },
      "outputs": [
        {
          "data": {
            "text/plain": [
              "True"
            ]
          },
          "execution_count": 15,
          "metadata": {},
          "output_type": "execute_result"
        }
      ],
      "source": [
        "11 != 2"
      ]
    },
    {
      "cell_type": "code",
      "execution_count": null,
      "id": "d1873f6c",
      "metadata": {
        "id": "d1873f6c",
        "outputId": "477f97a1-019b-4be0-f7f6-589221f8aa5e"
      },
      "outputs": [
        {
          "data": {
            "text/plain": [
              "True"
            ]
          },
          "execution_count": 16,
          "metadata": {},
          "output_type": "execute_result"
        }
      ],
      "source": [
        "11 > 2"
      ]
    },
    {
      "cell_type": "code",
      "execution_count": null,
      "id": "0cc31100",
      "metadata": {
        "id": "0cc31100",
        "outputId": "52aaf843-0461-481b-cf1e-a210a7b8c5bf"
      },
      "outputs": [
        {
          "data": {
            "text/plain": [
              "False"
            ]
          },
          "execution_count": 17,
          "metadata": {},
          "output_type": "execute_result"
        }
      ],
      "source": [
        "11 < 2"
      ]
    },
    {
      "cell_type": "code",
      "execution_count": null,
      "id": "341d28b6",
      "metadata": {
        "id": "341d28b6",
        "outputId": "ae48c192-5e82-4c7e-8217-165517a47def"
      },
      "outputs": [
        {
          "data": {
            "text/plain": [
              "True"
            ]
          },
          "execution_count": 18,
          "metadata": {},
          "output_type": "execute_result"
        }
      ],
      "source": [
        "11 >= 11"
      ]
    },
    {
      "cell_type": "code",
      "execution_count": null,
      "id": "14d814fe",
      "metadata": {
        "id": "14d814fe",
        "outputId": "fa42436d-2d4c-4650-b8d2-497ce2b5e4b6"
      },
      "outputs": [
        {
          "data": {
            "text/plain": [
              "False"
            ]
          },
          "execution_count": 19,
          "metadata": {},
          "output_type": "execute_result"
        }
      ],
      "source": [
        "11 <= 2"
      ]
    },
    {
      "cell_type": "code",
      "execution_count": null,
      "id": "d4010b42",
      "metadata": {
        "id": "d4010b42",
        "outputId": "00ec2733-785f-40ff-8fd1-a67a33c45ac2"
      },
      "outputs": [
        {
          "name": "stdout",
          "output_type": "stream",
          "text": [
            "True\n"
          ]
        }
      ],
      "source": [
        "integer = 7\n",
        "print(5 < integer <= 9)"
      ]
    },
    {
      "cell_type": "markdown",
      "id": "434ad983",
      "metadata": {
        "id": "434ad983"
      },
      "source": [
        "### 字串運算子"
      ]
    },
    {
      "cell_type": "code",
      "execution_count": null,
      "id": "6c218478",
      "metadata": {
        "id": "6c218478",
        "outputId": "7772dd69-8ace-4e66-b222-08942ca299de"
      },
      "outputs": [
        {
          "name": "stdout",
          "output_type": "stream",
          "text": [
            "多行字串\n",
            "使用三個單(雙)引號\n",
            "前後括住的字串可以任意換行\n",
            "我的第一個Python程式\n",
            "\n"
          ]
        }
      ],
      "source": [
        "myStr = '''多行字串\n",
        "使用三個單(雙)引號\n",
        "前後括住的字串可以任意換行\n",
        "我的第一個Python程式\n",
        "'''\n",
        "print(myStr)"
      ]
    },
    {
      "cell_type": "code",
      "execution_count": null,
      "id": "800dce6d",
      "metadata": {
        "id": "800dce6d",
        "outputId": "6fd7d839-bf08-4f2d-a158-204a924905d2"
      },
      "outputs": [
        {
          "data": {
            "text/plain": [
              "str"
            ]
          },
          "execution_count": 22,
          "metadata": {},
          "output_type": "execute_result"
        }
      ],
      "source": [
        "type(myStr)"
      ]
    },
    {
      "cell_type": "code",
      "execution_count": null,
      "id": "5f51e66f",
      "metadata": {
        "id": "5f51e66f",
        "outputId": "223d4372-dc11-4c87-bbba-3a58ad298a54"
      },
      "outputs": [
        {
          "name": "stdout",
          "output_type": "stream",
          "text": [
            "m\n",
            "nam\n"
          ]
        }
      ],
      "source": [
        "## 字串運算\n",
        "name = \"My name is Nick\"\n",
        "print(name[5]) # 注意從 0 數起\n",
        "print(name[3:6]) # 注意會印出 3~5, 不是 3~6"
      ]
    },
    {
      "cell_type": "code",
      "execution_count": null,
      "id": "c059eee9",
      "metadata": {
        "id": "c059eee9",
        "outputId": "315c4917-75be-4dae-8485-4b051b80a73b"
      },
      "outputs": [
        {
          "name": "stdout",
          "output_type": "stream",
          "text": [
            "My name is NickMy name is NickMy name is Nick\n"
          ]
        }
      ],
      "source": [
        "print(name*3)"
      ]
    },
    {
      "cell_type": "code",
      "execution_count": null,
      "id": "9e892011",
      "metadata": {
        "id": "9e892011",
        "outputId": "b450ccf1-9e34-4339-fd5f-86e10c4de1c9"
      },
      "outputs": [
        {
          "name": "stdout",
          "output_type": "stream",
          "text": [
            "True\n"
          ]
        }
      ],
      "source": [
        "print('N' in name)"
      ]
    },
    {
      "cell_type": "code",
      "execution_count": null,
      "id": "bd54994c",
      "metadata": {
        "id": "bd54994c",
        "outputId": "da9e5315-794f-4fef-f9f4-a99d9e3c5856"
      },
      "outputs": [
        {
          "name": "stdout",
          "output_type": "stream",
          "text": [
            "False\n"
          ]
        }
      ],
      "source": [
        "print('J' in name)"
      ]
    },
    {
      "cell_type": "code",
      "execution_count": null,
      "id": "744bf310",
      "metadata": {
        "id": "744bf310",
        "outputId": "db283f0f-9635-4005-a9dc-1463ef63731d"
      },
      "outputs": [
        {
          "name": "stdout",
          "output_type": "stream",
          "text": [
            "Hello, World\n"
          ]
        }
      ],
      "source": [
        "hello = \"Hello\" + \",\" + \" World\"\n",
        "print(hello)"
      ]
    },
    {
      "cell_type": "code",
      "execution_count": null,
      "id": "7173914c",
      "metadata": {
        "id": "7173914c",
        "outputId": "1eb53b40-33f2-4bb9-eaea-e642431e837a",
        "colab": {
          "base_uri": "https://localhost:8080/",
          "height": 179
        }
      },
      "outputs": [
        {
          "output_type": "error",
          "ename": "TypeError",
          "evalue": "ignored",
          "traceback": [
            "\u001b[0;31m---------------------------------------------------------------------------\u001b[0m",
            "\u001b[0;31mTypeError\u001b[0m                                 Traceback (most recent call last)",
            "\u001b[0;32m<ipython-input-4-ae1847a38a02>\u001b[0m in \u001b[0;36m<cell line: 1>\u001b[0;34m()\u001b[0m\n\u001b[0;32m----> 1\u001b[0;31m \u001b[0mhello\u001b[0m \u001b[0;34m=\u001b[0m \u001b[0;34m\"Hello, World\"\u001b[0m \u001b[0;34m-\u001b[0m \u001b[0;34m\",\"\u001b[0m \u001b[0;34m-\u001b[0m \u001b[0;34m\" World\"\u001b[0m \u001b[0;31m# Error!\u001b[0m\u001b[0;34m\u001b[0m\u001b[0;34m\u001b[0m\u001b[0m\n\u001b[0m",
            "\u001b[0;31mTypeError\u001b[0m: unsupported operand type(s) for -: 'str' and 'str'"
          ]
        }
      ],
      "source": [
        "hello = \"Hello, World\" - \",\" - \" World\" # Error!"
      ]
    },
    {
      "cell_type": "code",
      "source": [
        "s = 'I like Python'"
      ],
      "metadata": {
        "id": "bbUutw_pgl7l"
      },
      "id": "bbUutw_pgl7l",
      "execution_count": null,
      "outputs": []
    },
    {
      "cell_type": "code",
      "source": [
        "r1 = s.lower()"
      ],
      "metadata": {
        "colab": {
          "base_uri": "https://localhost:8080/",
          "height": 35
        },
        "id": "aaN_zC7VgpXv",
        "outputId": "ba2545e8-bcf5-4a2b-e3bc-42c4c47b5eca"
      },
      "id": "aaN_zC7VgpXv",
      "execution_count": null,
      "outputs": [
        {
          "output_type": "execute_result",
          "data": {
            "text/plain": [
              "'i like python'"
            ],
            "application/vnd.google.colaboratory.intrinsic+json": {
              "type": "string"
            }
          },
          "metadata": {},
          "execution_count": 7
        }
      ]
    },
    {
      "cell_type": "code",
      "source": [
        "r2 = s.upper()\n",
        "r2"
      ],
      "metadata": {
        "colab": {
          "base_uri": "https://localhost:8080/",
          "height": 35
        },
        "id": "5P-oW5y8gr4d",
        "outputId": "63b23714-78c5-4c2a-92b9-2ab264ec754d"
      },
      "id": "5P-oW5y8gr4d",
      "execution_count": null,
      "outputs": [
        {
          "output_type": "execute_result",
          "data": {
            "text/plain": [
              "'I LIKE PYTHON'"
            ],
            "application/vnd.google.colaboratory.intrinsic+json": {
              "type": "string"
            }
          },
          "metadata": {},
          "execution_count": 10
        }
      ]
    },
    {
      "cell_type": "code",
      "source": [
        "r3 = s.startswith('I')\n",
        "r3"
      ],
      "metadata": {
        "colab": {
          "base_uri": "https://localhost:8080/"
        },
        "id": "zdVzvb37g4Um",
        "outputId": "521f0f26-30f3-4c0a-ddcc-db928cee6383"
      },
      "id": "zdVzvb37g4Um",
      "execution_count": null,
      "outputs": [
        {
          "output_type": "execute_result",
          "data": {
            "text/plain": [
              "True"
            ]
          },
          "metadata": {},
          "execution_count": 12
        }
      ]
    },
    {
      "cell_type": "code",
      "source": [
        "r4 = s.endswith('python')\n",
        "r4"
      ],
      "metadata": {
        "colab": {
          "base_uri": "https://localhost:8080/"
        },
        "id": "Mv0DYX_dhB1N",
        "outputId": "c81a645f-1741-4ef1-e11d-05ca1f9b3eb6"
      },
      "id": "Mv0DYX_dhB1N",
      "execution_count": null,
      "outputs": [
        {
          "output_type": "execute_result",
          "data": {
            "text/plain": [
              "False"
            ]
          },
          "metadata": {},
          "execution_count": 13
        }
      ]
    },
    {
      "cell_type": "code",
      "source": [
        "r5 = s.isdigit()\n",
        "r5"
      ],
      "metadata": {
        "colab": {
          "base_uri": "https://localhost:8080/"
        },
        "id": "pmS427XahIPC",
        "outputId": "7a154610-94aa-4350-f4a1-f3135c577489"
      },
      "id": "pmS427XahIPC",
      "execution_count": null,
      "outputs": [
        {
          "output_type": "execute_result",
          "data": {
            "text/plain": [
              "False"
            ]
          },
          "metadata": {},
          "execution_count": 14
        }
      ]
    },
    {
      "cell_type": "code",
      "source": [
        "r6 = s.find('like')\n",
        "\n",
        "r6"
      ],
      "metadata": {
        "colab": {
          "base_uri": "https://localhost:8080/"
        },
        "id": "ggGeUk8CiHGL",
        "outputId": "150f6a72-bf0b-429d-d8be-15f21bc03541"
      },
      "id": "ggGeUk8CiHGL",
      "execution_count": null,
      "outputs": [
        {
          "output_type": "execute_result",
          "data": {
            "text/plain": [
              "2"
            ]
          },
          "metadata": {},
          "execution_count": 15
        }
      ]
    },
    {
      "cell_type": "code",
      "source": [
        "r7 = s.find('hate')\n",
        "r7"
      ],
      "metadata": {
        "colab": {
          "base_uri": "https://localhost:8080/"
        },
        "id": "aY2bLI1QiVZK",
        "outputId": "d8d088ac-c0be-40ac-c225-86a8f085ca50"
      },
      "id": "aY2bLI1QiVZK",
      "execution_count": null,
      "outputs": [
        {
          "output_type": "execute_result",
          "data": {
            "text/plain": [
              "-1"
            ]
          },
          "metadata": {},
          "execution_count": 16
        }
      ]
    },
    {
      "cell_type": "code",
      "source": [
        "r8 = s.replace('like','love')\n",
        "r8"
      ],
      "metadata": {
        "colab": {
          "base_uri": "https://localhost:8080/",
          "height": 35
        },
        "id": "eN6Xr2jaifr8",
        "outputId": "cb803557-f24d-47b7-8ff7-3fab13178bef"
      },
      "id": "eN6Xr2jaifr8",
      "execution_count": null,
      "outputs": [
        {
          "output_type": "execute_result",
          "data": {
            "text/plain": [
              "'I love Python'"
            ],
            "application/vnd.google.colaboratory.intrinsic+json": {
              "type": "string"
            }
          },
          "metadata": {},
          "execution_count": 17
        }
      ]
    },
    {
      "cell_type": "markdown",
      "source": [
        "### String Split"
      ],
      "metadata": {
        "id": "2V800d8tiqxk"
      },
      "id": "2V800d8tiqxk"
    },
    {
      "cell_type": "code",
      "source": [
        "s = 'I like Python'\n",
        "x1 = s.split(' ')\n",
        "x1"
      ],
      "metadata": {
        "colab": {
          "base_uri": "https://localhost:8080/"
        },
        "id": "1jRrbahUioDp",
        "outputId": "0087ce1c-0b76-4515-b0c5-b35e6bf91867"
      },
      "id": "1jRrbahUioDp",
      "execution_count": null,
      "outputs": [
        {
          "output_type": "execute_result",
          "data": {
            "text/plain": [
              "['I', 'like', 'Python']"
            ]
          },
          "metadata": {},
          "execution_count": 6
        }
      ]
    },
    {
      "cell_type": "code",
      "source": [
        "x2 = s.split()\n",
        "x2"
      ],
      "metadata": {
        "colab": {
          "base_uri": "https://localhost:8080/"
        },
        "id": "0E4egW27i1tq",
        "outputId": "89c3b8a1-ae8a-42a8-dc55-3a88f7ecadc2"
      },
      "id": "0E4egW27i1tq",
      "execution_count": null,
      "outputs": [
        {
          "output_type": "execute_result",
          "data": {
            "text/plain": [
              "['I', 'like', 'Python']"
            ]
          },
          "metadata": {},
          "execution_count": 7
        }
      ]
    },
    {
      "cell_type": "code",
      "source": [
        "x3 = s.split(',')\n",
        "x3"
      ],
      "metadata": {
        "colab": {
          "base_uri": "https://localhost:8080/"
        },
        "id": "CAI-GWWUi8dJ",
        "outputId": "5624f7de-eee5-4f24-abc3-a701a1f1f2d9"
      },
      "id": "CAI-GWWUi8dJ",
      "execution_count": null,
      "outputs": [
        {
          "output_type": "execute_result",
          "data": {
            "text/plain": [
              "['I like Python']"
            ]
          },
          "metadata": {},
          "execution_count": 20
        }
      ]
    },
    {
      "cell_type": "code",
      "source": [
        "s2 = 'I like python, he likes java'\n",
        "x4 = s2.split(',')\n",
        "x4"
      ],
      "metadata": {
        "colab": {
          "base_uri": "https://localhost:8080/"
        },
        "id": "mMJmJ8gcjDDG",
        "outputId": "dbe4b4b0-5d07-4ec6-a6d2-f0d3c5d7aed3"
      },
      "id": "mMJmJ8gcjDDG",
      "execution_count": null,
      "outputs": [
        {
          "output_type": "execute_result",
          "data": {
            "text/plain": [
              "['I like python', ' he likes java']"
            ]
          },
          "metadata": {},
          "execution_count": 8
        }
      ]
    },
    {
      "cell_type": "markdown",
      "source": [
        "### 位元運算子"
      ],
      "metadata": {
        "id": "3Uxi5JWMjU27"
      },
      "id": "3Uxi5JWMjU27"
    },
    {
      "cell_type": "code",
      "source": [
        "a = 5 << 2\n",
        "a"
      ],
      "metadata": {
        "colab": {
          "base_uri": "https://localhost:8080/"
        },
        "id": "GasrHroAgyo-",
        "outputId": "023acc05-93ab-4efd-8632-1363ca030036"
      },
      "id": "GasrHroAgyo-",
      "execution_count": null,
      "outputs": [
        {
          "output_type": "execute_result",
          "data": {
            "text/plain": [
              "20"
            ]
          },
          "metadata": {},
          "execution_count": 9
        }
      ]
    },
    {
      "cell_type": "code",
      "source": [
        "a = 5 >> 1\n",
        "a"
      ],
      "metadata": {
        "colab": {
          "base_uri": "https://localhost:8080/"
        },
        "id": "bWx0X_CWjdZR",
        "outputId": "2d78a68d-1673-4ab9-9eb9-e1544c7e500f"
      },
      "id": "bWx0X_CWjdZR",
      "execution_count": null,
      "outputs": [
        {
          "output_type": "execute_result",
          "data": {
            "text/plain": [
              "2"
            ]
          },
          "metadata": {},
          "execution_count": 11
        }
      ]
    },
    {
      "cell_type": "code",
      "source": [],
      "metadata": {
        "id": "KctNcqPbjoDR"
      },
      "id": "KctNcqPbjoDR",
      "execution_count": null,
      "outputs": []
    }
  ],
  "metadata": {
    "kernelspec": {
      "display_name": "Python 3",
      "language": "python",
      "name": "python3"
    },
    "language_info": {
      "codemirror_mode": {
        "name": "ipython",
        "version": 3
      },
      "file_extension": ".py",
      "mimetype": "text/x-python",
      "name": "python",
      "nbconvert_exporter": "python",
      "pygments_lexer": "ipython3",
      "version": "3.8.8"
    },
    "colab": {
      "provenance": [],
      "include_colab_link": true
    }
  },
  "nbformat": 4,
  "nbformat_minor": 5
}
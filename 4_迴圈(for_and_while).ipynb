{
  "cells": [
    {
      "cell_type": "markdown",
      "metadata": {
        "id": "view-in-github",
        "colab_type": "text"
      },
      "source": [
        "<a href=\"https://colab.research.google.com/github/wtlee/python_toturial/blob/main/4_%E8%BF%B4%E5%9C%88(for_and_while).ipynb\" target=\"_parent\"><img src=\"https://colab.research.google.com/assets/colab-badge.svg\" alt=\"Open In Colab\"/></a>"
      ]
    },
    {
      "cell_type": "markdown",
      "id": "8e5a0316",
      "metadata": {
        "id": "8e5a0316"
      },
      "source": [
        "### 迴圈結構(loop)\n",
        "                                                   by Wen-Tin Lee\n",
        "#### 使用迴圈重複執行程式碼區塊"
      ]
    },
    {
      "cell_type": "code",
      "execution_count": null,
      "id": "1c54e3b8",
      "metadata": {
        "id": "1c54e3b8",
        "colab": {
          "base_uri": "https://localhost:8080/"
        },
        "outputId": "45961690-d324-4436-fecd-0321dfe50eb7"
      },
      "outputs": [
        {
          "output_type": "stream",
          "name": "stdout",
          "text": [
            "15\n"
          ]
        }
      ],
      "source": [
        "# 第一種寫法\n",
        "sum = 1+2+3+4+5\n",
        "print(sum)"
      ]
    },
    {
      "cell_type": "code",
      "execution_count": null,
      "id": "35e7f6ba",
      "metadata": {
        "id": "35e7f6ba",
        "colab": {
          "base_uri": "https://localhost:8080/"
        },
        "outputId": "8a37b62d-d75b-40c0-ca00-2ef97f75108a"
      },
      "outputs": [
        {
          "output_type": "stream",
          "name": "stdout",
          "text": [
            "15\n"
          ]
        }
      ],
      "source": [
        "# 第二種寫法\n",
        "sum = 0\n",
        "x = 1\n",
        "sum = sum + x\n",
        "x = x + 1\n",
        "sum = sum + x\n",
        "x = x + 1\n",
        "sum = sum + x\n",
        "x = x + 1\n",
        "sum = sum + x\n",
        "x = x + 1\n",
        "sum = sum + x\n",
        "print(sum)\n"
      ]
    },
    {
      "cell_type": "code",
      "execution_count": null,
      "id": "12da16ec",
      "metadata": {
        "id": "12da16ec",
        "outputId": "d896b093-a7c0-4260-c6ca-1411ab695ea7",
        "colab": {
          "base_uri": "https://localhost:8080/"
        }
      },
      "outputs": [
        {
          "output_type": "stream",
          "name": "stdout",
          "text": [
            "15\n"
          ]
        }
      ],
      "source": [
        "#第三種寫法\n",
        "sum = 0\n",
        "x = 1\n",
        "while x <= 5:\n",
        "    sum = sum + x\n",
        "    x = x + 1\n",
        "print(sum)"
      ]
    },
    {
      "cell_type": "code",
      "execution_count": null,
      "id": "3f34935b",
      "metadata": {
        "id": "3f34935b"
      },
      "outputs": [],
      "source": [
        "i = 0\n",
        "while i < 50:\n",
        "    print(i)"
      ]
    },
    {
      "cell_type": "code",
      "execution_count": null,
      "id": "5c53721a",
      "metadata": {
        "id": "5c53721a",
        "colab": {
          "base_uri": "https://localhost:8080/"
        },
        "outputId": "5f955684-3201-41c0-ca03-6ff09fa02244"
      },
      "outputs": [
        {
          "output_type": "stream",
          "name": "stdout",
          "text": [
            "1\n",
            "2\n",
            "3\n",
            "4\n",
            "5\n",
            "15\n"
          ]
        }
      ],
      "source": [
        "#第四種寫法\n",
        "sum = 0\n",
        "for x in range(1,6):\n",
        "    sum = sum + x\n",
        "    print(x)\n",
        "print(sum)"
      ]
    },
    {
      "cell_type": "markdown",
      "id": "40c76f9b",
      "metadata": {
        "id": "40c76f9b"
      },
      "source": [
        "### while 迴圈\n",
        "<code>\n",
        "while 條件判斷式:\n",
        "\n",
        "    程式區塊\n",
        "    #如果條件判斷式成立，\n",
        "    #執行裡面程式碼\n",
        "</code>"
      ]
    },
    {
      "cell_type": "code",
      "execution_count": null,
      "id": "d9024814",
      "metadata": {
        "id": "d9024814",
        "colab": {
          "base_uri": "https://localhost:8080/"
        },
        "outputId": "5875e130-5271-44de-e785-3226ded255bc"
      },
      "outputs": [
        {
          "output_type": "stream",
          "name": "stdout",
          "text": [
            "20100\n"
          ]
        }
      ],
      "source": [
        "total = 0\n",
        "x = 1\n",
        "while x <= 200:\n",
        "    total = total + x\n",
        "    x = x + 1\n",
        "print(total)"
      ]
    },
    {
      "cell_type": "markdown",
      "id": "72d5c5ee",
      "metadata": {
        "id": "72d5c5ee"
      },
      "source": [
        "### 程式範例: 計算成績總和"
      ]
    },
    {
      "cell_type": "code",
      "execution_count": null,
      "id": "4dcb9eb2",
      "metadata": {
        "id": "4dcb9eb2",
        "colab": {
          "base_uri": "https://localhost:8080/"
        },
        "outputId": "01849ba2-a4f2-4056-d679-dbe22b994ea8"
      },
      "outputs": [
        {
          "output_type": "stream",
          "name": "stdout",
          "text": [
            "input your grade: 5\n",
            "input your grade: 6\n",
            "input your grade: 7\n",
            "input your grade: -999\n",
            "total is 18\n"
          ]
        }
      ],
      "source": [
        "total = 0\n",
        "grade = 0\n",
        "while grade != -999:\n",
        "    total += grade\n",
        "    # total = total + grade\n",
        "    grade = int(input(\"input your grade: \"))\n",
        "print(\"total is\", total)"
      ]
    },
    {
      "cell_type": "markdown",
      "id": "092dd7fd",
      "metadata": {
        "id": "092dd7fd"
      },
      "source": [
        "### while迴圈練習"
      ]
    },
    {
      "cell_type": "markdown",
      "id": "bef7a4e3",
      "metadata": {
        "id": "bef7a4e3"
      },
      "source": [
        "### 數字反向輸出\n",
        "使用while迴圈撰寫Python程式，讓使用者輸入一個整數，並將此整數的每個數字反向輸出，例如輸入123456，程式輸出654321"
      ]
    },
    {
      "cell_type": "code",
      "execution_count": null,
      "id": "ec2f67e6",
      "metadata": {
        "id": "ec2f67e6",
        "colab": {
          "base_uri": "https://localhost:8080/"
        },
        "outputId": "bf8a903c-b92c-422d-ee55-8c50c3d0b94d"
      },
      "outputs": [
        {
          "output_type": "stream",
          "name": "stdout",
          "text": [
            "請輸入任一整數:12345\n",
            "輸出反向數字為:54321"
          ]
        }
      ],
      "source": [
        "number = int(input('請輸入任一整數:'))\n",
        "print('輸出反向數字為:', end='')\n",
        "while number != 0:\n",
        "    print(number % 10, end='')\n",
        "    number //= 10\n"
      ]
    },
    {
      "cell_type": "code",
      "execution_count": null,
      "id": "d0c2398c",
      "metadata": {
        "id": "d0c2398c",
        "colab": {
          "base_uri": "https://localhost:8080/"
        },
        "outputId": "b3ac50d4-94a7-4234-c525-d4f684aa6a2e"
      },
      "outputs": [
        {
          "output_type": "stream",
          "name": "stdout",
          "text": [
            "請輸入任一整數:123456\n",
            "輸出反向數字為:654321"
          ]
        }
      ],
      "source": [
        "number = int(input('請輸入任一整數:'))\n",
        "print('輸出反向數字為:', end='')\n",
        "if number == 0:\n",
        "    print(number)\n",
        "else:\n",
        "    while (number != 0):\n",
        "        print(number%10, end='')\n",
        "        number //= 10"
      ]
    },
    {
      "cell_type": "markdown",
      "id": "0145bde5",
      "metadata": {
        "id": "0145bde5"
      },
      "source": [
        "#### 設計Python程式，利用while迴圈求出使用者所輸入整數的所有正因數"
      ]
    },
    {
      "cell_type": "code",
      "execution_count": null,
      "id": "4fac0308",
      "metadata": {
        "id": "4fac0308",
        "colab": {
          "base_uri": "https://localhost:8080/"
        },
        "outputId": "bcf16d9c-f29a-4fbf-ed7a-2ef7d812bada"
      },
      "outputs": [
        {
          "output_type": "stream",
          "name": "stdout",
          "text": [
            "請輸入一個數字: 36\n",
            "36 的所有正因數有: 1 2 3 4 6 9 12 18 36 "
          ]
        }
      ],
      "source": [
        "num = int(input('請輸入一個數字: '))\n",
        "print(num, '的所有正因數有: ',end='')\n",
        "x = 1\n",
        "while x <= num:\n",
        "    if num % x == 0:\n",
        "        print(x, end=' ')\n",
        "    x += 1\n"
      ]
    },
    {
      "cell_type": "markdown",
      "id": "4326cdd7",
      "metadata": {
        "id": "4326cdd7"
      },
      "source": [
        "### for 迴圈\n",
        "#### for 迴圈用來重複執行一群指令\n",
        "語法:<br>\n",
        "<code>\n",
        "for 變數 in range(初值, 終值, 遞增值):\n",
        "    [\t   程式碼區塊\t\t]\n",
        "</code>\n",
        "- 計數從「初值」開始到「終值」的前一個數字為止 <br>\n",
        "- 每重複一次，迴圈就會執行[程式碼區塊]一次 <br>\n",
        "- 當變數等於終值才會離開迴圈"
      ]
    },
    {
      "cell_type": "code",
      "execution_count": null,
      "id": "0d990166",
      "metadata": {
        "colab": {
          "base_uri": "https://localhost:8080/"
        },
        "id": "0d990166",
        "outputId": "5bfbb753-82fe-474b-dc42-161ebe6ed8b2"
      },
      "outputs": [
        {
          "output_type": "stream",
          "name": "stdout",
          "text": [
            "0123\n"
          ]
        }
      ],
      "source": [
        "\"\"\"\n",
        "for ... range 迴圈\n",
        "\"\"\"\n",
        "# 注意 i 是從 0 開始\n",
        "for i in range(4):\n",
        "    # 利用 end='' 來避免換行\n",
        "    print(str(i), end='')\n",
        "print()"
      ]
    },
    {
      "cell_type": "code",
      "execution_count": null,
      "id": "2b35b8db",
      "metadata": {
        "colab": {
          "base_uri": "https://localhost:8080/"
        },
        "id": "2b35b8db",
        "outputId": "29645a7e-4c7b-43aa-89bb-5803f3129a68"
      },
      "outputs": [
        {
          "output_type": "stream",
          "name": "stdout",
          "text": [
            "*\n",
            "**\n",
            "***\n",
            "****\n"
          ]
        }
      ],
      "source": [
        "for i in range(4):\n",
        "    for j in range(i + 1):\n",
        "        print(\"*\", end='')\n",
        "    print()"
      ]
    },
    {
      "cell_type": "code",
      "execution_count": null,
      "id": "74eacf12",
      "metadata": {
        "colab": {
          "base_uri": "https://localhost:8080/"
        },
        "id": "74eacf12",
        "outputId": "c45dd955-3c26-4b2c-e8db-2e0e493f7ac0"
      },
      "outputs": [
        {
          "output_type": "stream",
          "name": "stdout",
          "text": [
            "0\n",
            "11\n",
            "222\n",
            "3333\n"
          ]
        }
      ],
      "source": [
        "for i in range(4):\n",
        "    for j in range(i + 1):\n",
        "        print(i, end='')\n",
        "    print()"
      ]
    },
    {
      "cell_type": "markdown",
      "id": "9bc5d00f",
      "metadata": {
        "id": "9bc5d00f"
      },
      "source": [
        "#### range (a, b, c) 三個參數"
      ]
    },
    {
      "cell_type": "code",
      "execution_count": null,
      "id": "7a6747df",
      "metadata": {
        "id": "7a6747df"
      },
      "outputs": [],
      "source": [
        "'''\n",
        "range (a, b, c) 三個參數\n",
        "'''\n",
        "total = 0\n",
        "for i in range(11):\n",
        "    total += i\n",
        "    print(i)\n",
        "print(total)"
      ]
    },
    {
      "cell_type": "code",
      "execution_count": null,
      "id": "fc336bd3",
      "metadata": {
        "id": "fc336bd3",
        "colab": {
          "base_uri": "https://localhost:8080/"
        },
        "outputId": "bca600c8-0ca5-4c18-f35b-59f528a55e9b"
      },
      "outputs": [
        {
          "output_type": "stream",
          "name": "stdout",
          "text": [
            "0\n",
            "2\n",
            "4\n",
            "6\n",
            "8\n",
            "10\n",
            "30\n"
          ]
        }
      ],
      "source": [
        "total = 0\n",
        "for i in range(0, 11, 2):\n",
        "    print(i)\n",
        "    total += i\n",
        "print(total)"
      ]
    },
    {
      "cell_type": "code",
      "execution_count": null,
      "id": "5ef07abd",
      "metadata": {
        "id": "5ef07abd"
      },
      "outputs": [],
      "source": [
        "total = 0\n",
        "for i in range(10, 0, -1):\n",
        "    print(i)\n",
        "    total += i\n",
        "print(total)"
      ]
    },
    {
      "cell_type": "markdown",
      "id": "30e667ff",
      "metadata": {
        "id": "30e667ff"
      },
      "source": [
        "#### 迴圈的中斷 break"
      ]
    },
    {
      "cell_type": "code",
      "execution_count": null,
      "id": "85bce785",
      "metadata": {
        "id": "85bce785",
        "colab": {
          "base_uri": "https://localhost:8080/"
        },
        "outputId": "28dbda33-fdbe-43f7-c8a0-d451c22cb4af"
      },
      "outputs": [
        {
          "output_type": "stream",
          "name": "stdout",
          "text": [
            "49994990 9999\n"
          ]
        }
      ],
      "source": [
        "'''\n",
        "break: 跳出迴圈\n",
        "'''\n",
        "total = 0\n",
        "for i in range(10000):\n",
        "    total += i\n",
        "    if i == 10:\n",
        "        break\n",
        "print(total, i)"
      ]
    },
    {
      "cell_type": "markdown",
      "id": "dfc4a65c",
      "metadata": {
        "id": "dfc4a65c"
      },
      "source": [
        "#### 迴圈的continue"
      ]
    },
    {
      "cell_type": "code",
      "execution_count": null,
      "id": "03cf46ee",
      "metadata": {
        "id": "03cf46ee",
        "colab": {
          "base_uri": "https://localhost:8080/"
        },
        "outputId": "8b7af7ce-2820-457d-ac54-1c412df9fcd5"
      },
      "outputs": [
        {
          "output_type": "stream",
          "name": "stdout",
          "text": [
            "0\n",
            "1\n",
            "3\n",
            "4\n"
          ]
        }
      ],
      "source": [
        "'''\n",
        "continue: 直接跳往下一個\n",
        "'''\n",
        "for i in range(5):\n",
        "    if i == 2:\n",
        "        continue\n",
        "    print(i)"
      ]
    },
    {
      "cell_type": "code",
      "source": [
        "def factorial(n):\n",
        "  if (n == 1):  return 1\n",
        "  else:  return n * factorial(n - 1)\n",
        "\n",
        "while True:\n",
        "  num = int(input('Please input a number(0->EXIT):'))\n",
        "  if num == 0:\n",
        "    break\n",
        "  else:\n",
        "    print(num, '!=', factorial(num))"
      ],
      "metadata": {
        "colab": {
          "base_uri": "https://localhost:8080/"
        },
        "id": "VFbhefLz3O0u",
        "outputId": "093c9862-e383-40a2-c4d8-a5b56f88689d"
      },
      "id": "VFbhefLz3O0u",
      "execution_count": null,
      "outputs": [
        {
          "name": "stdout",
          "output_type": "stream",
          "text": [
            "Please input a number(0->EXIT):5\n",
            "5 != 120\n",
            "Please input a number(0->EXIT):10\n",
            "10 != 3628800\n",
            "Please input a number(0->EXIT):0\n"
          ]
        }
      ]
    },
    {
      "cell_type": "markdown",
      "id": "088164f8",
      "metadata": {
        "id": "088164f8"
      },
      "source": [
        "### 最大公因數 GCD（Greatest Common Divisor）<br>\n",
        "是幾個自然數公有因數中最大的一個。例如，16 和40 公約數有：1、2、4、8，其中最大的是8，<br>\n",
        "8 就是16 和40 的最大公因數。<br>\n",
        "思考流程：既是求最大值，所以我們用「遞減」方式依序檢查16 和40 可以最先同時整除哪個數字，該數字就是 GCD。<br>\n",
        "*使用輾轉相除法求最大公因數"
      ]
    },
    {
      "cell_type": "code",
      "execution_count": null,
      "id": "4acfde78",
      "metadata": {
        "id": "4acfde78",
        "colab": {
          "base_uri": "https://localhost:8080/"
        },
        "outputId": "187aa735-3cc8-4b58-dc31-e84cdbc2848b"
      },
      "outputs": [
        {
          "output_type": "stream",
          "name": "stdout",
          "text": [
            "請輸入第1個數字:45454354\n",
            "請輸入第2個數字:65645654\n",
            "最大公因數 GCD = 2\n"
          ]
        }
      ],
      "source": [
        "a = int(input(\"請輸入第1個數字:\"))\n",
        "b = int(input(\"請輸入第2個數字:\"))\n",
        "for c in range(a, 0, -1):\n",
        "    if (a % c == 0 and b % c == 0):\n",
        "        break\n",
        "print(\"最大公因數 GCD =\", c)"
      ]
    },
    {
      "cell_type": "code",
      "source": [
        "num1 = int(input('請輸入第一個數: '))\n",
        "num2 = int(input('請輸入第二個數: '))\n",
        "while num1 > 0 and num2 > 0:\n",
        "  if num1 > num2:\n",
        "    num1 = num1 % num2\n",
        "  else:\n",
        "    num2 = num2 % num1\n",
        "\n",
        "if num1 == 0:\n",
        "  print('最大公因數= ', num2)\n",
        "else:\n",
        "  print('最大公因數= ', num1)"
      ],
      "metadata": {
        "colab": {
          "base_uri": "https://localhost:8080/"
        },
        "id": "6bZNj9_6XQTr",
        "outputId": "796d631c-d782-4847-923b-05717ed50918"
      },
      "id": "6bZNj9_6XQTr",
      "execution_count": null,
      "outputs": [
        {
          "output_type": "stream",
          "name": "stdout",
          "text": [
            "請輸入第一個數: 34324340332432\n",
            "請輸入第二個數: 43243432432432\n",
            "最大公因數=  16\n"
          ]
        }
      ]
    },
    {
      "cell_type": "markdown",
      "id": "dd38f380",
      "metadata": {
        "id": "dd38f380"
      },
      "source": [
        "### 最小公倍數LCM（Lowest Common Multiple）<br>\n",
        "是幾個自然數公有倍數中最小的一個。例如，5 和6 公倍數有：30、60、90、⋯⋯ ，其中最小的是30，30 就是5 和6 的最小公倍數。<br>\n",
        "思考流程：既是求最小值，所以我們用「遞增」方式依序檢查哪個數字可以先同時被5 與6 整除，該數字就是 LCM。\n",
        "<br>\n",
        "*使用輾轉相除法求最小公倍數"
      ]
    },
    {
      "cell_type": "code",
      "execution_count": null,
      "id": "bbd78eae",
      "metadata": {
        "id": "bbd78eae"
      },
      "outputs": [],
      "source": []
    }
  ],
  "metadata": {
    "kernelspec": {
      "display_name": "Python 3",
      "language": "python",
      "name": "python3"
    },
    "language_info": {
      "codemirror_mode": {
        "name": "ipython",
        "version": 3
      },
      "file_extension": ".py",
      "mimetype": "text/x-python",
      "name": "python",
      "nbconvert_exporter": "python",
      "pygments_lexer": "ipython3",
      "version": "3.8.8"
    },
    "colab": {
      "provenance": [],
      "include_colab_link": true
    }
  },
  "nbformat": 4,
  "nbformat_minor": 5
}
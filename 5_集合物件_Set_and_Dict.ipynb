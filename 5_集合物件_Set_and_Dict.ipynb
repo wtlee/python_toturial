{
  "nbformat": 4,
  "nbformat_minor": 0,
  "metadata": {
    "colab": {
      "provenance": [],
      "include_colab_link": true
    },
    "kernelspec": {
      "name": "python3",
      "display_name": "Python 3"
    },
    "language_info": {
      "name": "python"
    }
  },
  "cells": [
    {
      "cell_type": "markdown",
      "metadata": {
        "id": "view-in-github",
        "colab_type": "text"
      },
      "source": [
        "<a href=\"https://colab.research.google.com/github/wtlee/python_tutorial/blob/main/5_%E9%9B%86%E5%90%88%E7%89%A9%E4%BB%B6_Set_and_Dict.ipynb\" target=\"_parent\"><img src=\"https://colab.research.google.com/assets/colab-badge.svg\" alt=\"Open In Colab\"/></a>"
      ]
    },
    {
      "cell_type": "markdown",
      "source": [
        "# Set and Dict 集合物件"
      ],
      "metadata": {
        "id": "k7SchnCqezze"
      }
    },
    {
      "cell_type": "markdown",
      "source": [
        "## Set"
      ],
      "metadata": {
        "id": "dtp6bCgGuMap"
      }
    },
    {
      "cell_type": "code",
      "source": [
        "# create a set\n",
        "basketball = set()  # an empty set\n",
        "print(basketball)\n",
        "basketball = {\"nick\", \"jie\", \"albert\"}\n",
        "print(basketball)\n",
        "basketball = set([\"nick\", \"john\", \"nick\", \"jackie\"])\n",
        "print(basketball)"
      ],
      "metadata": {
        "colab": {
          "base_uri": "https://localhost:8080/"
        },
        "id": "yIYuovhvuNyq",
        "outputId": "d7bf7d57-ce71-4332-b20a-d4851d2db571"
      },
      "execution_count": null,
      "outputs": [
        {
          "output_type": "stream",
          "name": "stdout",
          "text": [
            "set()\n",
            "{'albert', 'nick', 'jie'}\n",
            "{'jackie', 'nick', 'john'}\n"
          ]
        }
      ]
    },
    {
      "cell_type": "code",
      "source": [
        "basketball2 = {}  # this is dict, NOT set\n",
        "type(basketball2)"
      ],
      "metadata": {
        "id": "xajeL3e5uiiK",
        "colab": {
          "base_uri": "https://localhost:8080/"
        },
        "outputId": "1599b996-120a-4949-e022-3fb338a2cec5"
      },
      "execution_count": null,
      "outputs": [
        {
          "output_type": "execute_result",
          "data": {
            "text/plain": [
              "dict"
            ]
          },
          "metadata": {},
          "execution_count": 3
        }
      ]
    },
    {
      "cell_type": "code",
      "source": [
        "# 不會有重複\n",
        "badminton = {'nick', 'nick', 'john'}\n",
        "print(badminton)"
      ],
      "metadata": {
        "id": "-ie2r9p6unPs",
        "colab": {
          "base_uri": "https://localhost:8080/"
        },
        "outputId": "dc2a1a32-6652-4d65-f5e2-d5d49c4ea218"
      },
      "execution_count": null,
      "outputs": [
        {
          "output_type": "stream",
          "name": "stdout",
          "text": [
            "{'nick', 'john'}\n"
          ]
        }
      ]
    },
    {
      "cell_type": "code",
      "source": [
        "print(badminton[0])  # Error, set 沒有順序"
      ],
      "metadata": {
        "id": "_YLgcI01us5C"
      },
      "execution_count": null,
      "outputs": []
    },
    {
      "cell_type": "code",
      "source": [
        "basketball = set([\"nick\", \"john\", \"nick\", \"jackie\"])\n",
        "print(basketball)\n",
        "# 增\n",
        "basketball.add('alex')\n",
        "basketball.add('alex')  # 不會再新增，不會有錯誤訊息\n",
        "print(basketball)"
      ],
      "metadata": {
        "colab": {
          "base_uri": "https://localhost:8080/"
        },
        "id": "k1gZs4uSuItw",
        "outputId": "851f9816-3f24-4cef-871f-5e4f673e7a10"
      },
      "execution_count": null,
      "outputs": [
        {
          "output_type": "stream",
          "name": "stdout",
          "text": [
            "{'jackie', 'nick', 'john'}\n",
            "{'alex', 'jackie', 'nick', 'john'}\n"
          ]
        }
      ]
    },
    {
      "cell_type": "code",
      "source": [
        "# 刪除\n",
        "basketball = {\"nick\", \"jie\", \"albert\"}\n",
        "basketball.remove('nick')\n",
        "print(basketball)\n",
        "# basketball.remove('nick')  # 會產生錯誤\n",
        "basketball.discard('nick')\n",
        "p1 = basketball.pop()  # 移除並回傳\n",
        "print(p1)\n",
        "print(basketball)\n",
        "basketball.clear()  # remove all elements\n",
        "print(basketball)"
      ],
      "metadata": {
        "colab": {
          "base_uri": "https://localhost:8080/"
        },
        "id": "vQ9NrmWPu0Ok",
        "outputId": "cb46a0be-4f17-45c0-d6a0-c22d2d7f28a7"
      },
      "execution_count": null,
      "outputs": [
        {
          "output_type": "stream",
          "name": "stdout",
          "text": [
            "{'albert', 'jie'}\n",
            "albert\n",
            "{'jie'}\n",
            "set()\n"
          ]
        }
      ]
    },
    {
      "cell_type": "code",
      "source": [
        "# 查\n",
        "basketball = {\"nick\", \"jie\", \"albert\"}\n",
        "print(len(basketball))\n",
        "\n",
        "print('allen' in basketball)\n"
      ],
      "metadata": {
        "colab": {
          "base_uri": "https://localhost:8080/"
        },
        "id": "q-QEn3_TvXL1",
        "outputId": "ec3c6341-4c56-46bc-a2a0-ef6142d387fb"
      },
      "execution_count": null,
      "outputs": [
        {
          "output_type": "stream",
          "name": "stdout",
          "text": [
            "3\n",
            "False\n"
          ]
        }
      ]
    },
    {
      "cell_type": "code",
      "source": [
        "for player in basketball:\n",
        "    print(player)"
      ],
      "metadata": {
        "colab": {
          "base_uri": "https://localhost:8080/"
        },
        "id": "wtWB9P3wvgPV",
        "outputId": "6978d49d-1986-48a0-a250-1ea2558151c7"
      },
      "execution_count": null,
      "outputs": [
        {
          "output_type": "stream",
          "name": "stdout",
          "text": [
            "albert\n",
            "nick\n",
            "jie\n"
          ]
        }
      ]
    },
    {
      "cell_type": "code",
      "source": [
        "# create a set\n",
        "basketball = {\"nick\", \"jie\", \"albert\"}\n",
        "baseball = {'nick', 'tim', 'john'}\n",
        "print(basketball, baseball)"
      ],
      "metadata": {
        "colab": {
          "base_uri": "https://localhost:8080/"
        },
        "id": "Xd5YTKx-virM",
        "outputId": "d5b2e0d1-46dd-4c80-abbc-cbbcdf6c1d19"
      },
      "execution_count": null,
      "outputs": [
        {
          "output_type": "stream",
          "name": "stdout",
          "text": [
            "{'albert', 'nick', 'jie'} {'tim', 'nick', 'john'}\n"
          ]
        }
      ]
    },
    {
      "cell_type": "code",
      "source": [
        "# Set operations\n",
        "print(basketball | baseball) \t          # 聯集\n",
        "print(basketball.union(baseball))         # 聯集\n",
        "print(basketball)"
      ],
      "metadata": {
        "colab": {
          "base_uri": "https://localhost:8080/"
        },
        "id": "QA7iv1hwvCo6",
        "outputId": "443ef422-9eac-40c6-e47c-89739ec42c23"
      },
      "execution_count": null,
      "outputs": [
        {
          "output_type": "stream",
          "name": "stdout",
          "text": [
            "{'albert', 'jie', 'tim', 'nick', 'john'}\n",
            "{'albert', 'jie', 'tim', 'nick', 'john'}\n",
            "{'albert', 'jie', 'nick'}\n"
          ]
        }
      ]
    },
    {
      "cell_type": "code",
      "source": [
        "print(basketball.intersection(baseball))  # 交集\n",
        "print(basketball & baseball) \t     # 交集\n",
        "\n",
        "print(basketball - baseball) \t     # 差集\n",
        "print(baseball - basketball)"
      ],
      "metadata": {
        "colab": {
          "base_uri": "https://localhost:8080/"
        },
        "id": "mJmi-6Wju9Gm",
        "outputId": "1d99dda9-54c2-439a-ab29-ef8afb086b4c"
      },
      "execution_count": null,
      "outputs": [
        {
          "output_type": "stream",
          "name": "stdout",
          "text": [
            "{'nick'}\n",
            "{'nick'}\n",
            "{'albert', 'jie'}\n",
            "{'tim', 'john'}\n"
          ]
        }
      ]
    },
    {
      "cell_type": "code",
      "source": [
        "# Get a sorted list of unique elements from a set\n",
        "s2 = sorted(set([9, 0, 2, 1, 0]))  # returns [0, 1, 2, 9]\n",
        "s2"
      ],
      "metadata": {
        "colab": {
          "base_uri": "https://localhost:8080/"
        },
        "id": "tn4cEaGku3st",
        "outputId": "a17c3139-b145-4f8e-daf6-337bced02f26"
      },
      "execution_count": null,
      "outputs": [
        {
          "output_type": "execute_result",
          "data": {
            "text/plain": [
              "[0, 1, 2, 9]"
            ]
          },
          "metadata": {},
          "execution_count": 18
        }
      ]
    },
    {
      "cell_type": "markdown",
      "source": [
        "## dictionary"
      ],
      "metadata": {
        "id": "ibvOP-IcwIK5"
      }
    },
    {
      "cell_type": "code",
      "source": [
        "# create an empty dictionary\n",
        "empty_dict = {}\n",
        "empty_dict = dict()\n",
        "type(empty_dict)"
      ],
      "metadata": {
        "id": "o_YtF8-ywFbf",
        "colab": {
          "base_uri": "https://localhost:8080/"
        },
        "outputId": "94d5825e-6455-4673-8060-bfc316a21c74"
      },
      "execution_count": null,
      "outputs": [
        {
          "output_type": "execute_result",
          "data": {
            "text/plain": [
              "dict"
            ]
          },
          "metadata": {},
          "execution_count": 20
        }
      ]
    },
    {
      "cell_type": "code",
      "source": [
        "# create a dictionary\n",
        "family = {'dad':'Jack'}     # {key:value}\n",
        "family = {'dad':'Jack','mom':'LiLi','size':2}"
      ],
      "metadata": {
        "id": "WGNqPPVfwMDk"
      },
      "execution_count": null,
      "outputs": []
    },
    {
      "cell_type": "code",
      "source": [
        "# 使用 dict 來宣告\n",
        "family = dict(dad='Jack', mom='LiLi', size=2)\n",
        "print(family)"
      ],
      "metadata": {
        "colab": {
          "base_uri": "https://localhost:8080/"
        },
        "id": "iFyqVP_uwOkE",
        "outputId": "d89a4d18-fa2c-47e5-8fb7-9a0a1b8c246d"
      },
      "execution_count": null,
      "outputs": [
        {
          "output_type": "stream",
          "name": "stdout",
          "text": [
            "{'dad': 'Jack', 'mom': 'LiLi', 'size': 2}\n"
          ]
        }
      ]
    },
    {
      "cell_type": "code",
      "source": [
        "# key 可以是 int, string, tuple 等不可修改的形態\n",
        "std_grade = {1:12, 2:100, 3:90}   # 學號, 成績\n",
        "name_grade = {'nick':90, 'jack':50}  # 姓名, 成績\n",
        "class_avg = {('A', 'math'):23,\n",
        "        ('B','eng'):89}     # (班級, 科目), 成績\n",
        "print(std_grade,name_grade,class_avg )"
      ],
      "metadata": {
        "colab": {
          "base_uri": "https://localhost:8080/"
        },
        "id": "n0jMk7zQwQRV",
        "outputId": "5f657819-a198-4d88-bba8-28ef9da7e645"
      },
      "execution_count": null,
      "outputs": [
        {
          "output_type": "stream",
          "name": "stdout",
          "text": [
            "{1: 12, 2: 100, 3: 90} {'nick': 90, 'jack': 50} {('A', 'math'): 23, ('B', 'eng'): 89}\n"
          ]
        }
      ]
    },
    {
      "cell_type": "code",
      "source": [
        "# key 的形態必須 immutable, List 是不行的：\n",
        "grade = {['eng']:12, 'math':100, 'phy':90, 'eng':90} # ERROR!"
      ],
      "metadata": {
        "id": "P9vytMB3wgmB",
        "colab": {
          "base_uri": "https://localhost:8080/",
          "height": 195
        },
        "outputId": "2808ccdf-3605-4f0b-ad96-9936c0ebf7ae"
      },
      "execution_count": null,
      "outputs": [
        {
          "output_type": "error",
          "ename": "TypeError",
          "evalue": "ignored",
          "traceback": [
            "\u001b[0;31m---------------------------------------------------------------------------\u001b[0m",
            "\u001b[0;31mTypeError\u001b[0m                                 Traceback (most recent call last)",
            "\u001b[0;32m<ipython-input-24-0804e6efff7b>\u001b[0m in \u001b[0;36m<cell line: 2>\u001b[0;34m()\u001b[0m\n\u001b[1;32m      1\u001b[0m \u001b[0;31m# key 的形態必須 immutable, List 是不行的：\u001b[0m\u001b[0;34m\u001b[0m\u001b[0;34m\u001b[0m\u001b[0m\n\u001b[0;32m----> 2\u001b[0;31m \u001b[0mgrade\u001b[0m \u001b[0;34m=\u001b[0m \u001b[0;34m{\u001b[0m\u001b[0;34m[\u001b[0m\u001b[0;34m'eng'\u001b[0m\u001b[0;34m]\u001b[0m\u001b[0;34m:\u001b[0m\u001b[0;36m12\u001b[0m\u001b[0;34m,\u001b[0m \u001b[0;34m'math'\u001b[0m\u001b[0;34m:\u001b[0m\u001b[0;36m100\u001b[0m\u001b[0;34m,\u001b[0m \u001b[0;34m'phy'\u001b[0m\u001b[0;34m:\u001b[0m\u001b[0;36m90\u001b[0m\u001b[0;34m,\u001b[0m \u001b[0;34m'eng'\u001b[0m\u001b[0;34m:\u001b[0m\u001b[0;36m90\u001b[0m\u001b[0;34m}\u001b[0m \u001b[0;31m# ERROR!\u001b[0m\u001b[0;34m\u001b[0m\u001b[0;34m\u001b[0m\u001b[0m\n\u001b[0m",
            "\u001b[0;31mTypeError\u001b[0m: unhashable type: 'list'"
          ]
        }
      ]
    },
    {
      "cell_type": "code",
      "source": [
        "# convert a list of tuples into a dictionary\n",
        "t = [('dad', 'Jack'), ('mom', 'LiLi'), ('size', 2)]\n",
        "family = dict(t)\n",
        "type(t)\n",
        "type(family)\n",
        "print(family)"
      ],
      "metadata": {
        "colab": {
          "base_uri": "https://localhost:8080/"
        },
        "id": "zi3IgZGdwslp",
        "outputId": "37f95346-a47b-427a-bb35-e717730e2ac3"
      },
      "execution_count": null,
      "outputs": [
        {
          "output_type": "stream",
          "name": "stdout",
          "text": [
            "{'dad': 'Jack', 'mom': 'LiLi', 'size': 2}\n"
          ]
        }
      ]
    },
    {
      "cell_type": "code",
      "source": [
        "# 增\n",
        "std_grade = {1:12, 2:100, 3:90}  # 學號, 成績\n",
        "std_grade[4] = 30                # 新增一筆 {4: 30}\n",
        "print(std_grade)"
      ],
      "metadata": {
        "colab": {
          "base_uri": "https://localhost:8080/"
        },
        "id": "WkpaCBpLwtGu",
        "outputId": "2c11e2ff-e581-40a7-c09a-4b1b002ca44b"
      },
      "execution_count": null,
      "outputs": [
        {
          "output_type": "stream",
          "name": "stdout",
          "text": [
            "{1: 12, 2: 100, 3: 90, 4: 30}\n"
          ]
        }
      ]
    },
    {
      "cell_type": "code",
      "source": [
        "# 刪\n",
        "std_grade = {1:12, 2:100, 3:90, 4:50}\n",
        "del std_grade[3]      # 移除 {3:} 這一筆\n",
        "print(std_grade)\n",
        "g = std_grade.pop(4)  # 移除並回傳\n",
        "print(g, std_grade)"
      ],
      "metadata": {
        "colab": {
          "base_uri": "https://localhost:8080/"
        },
        "id": "HB1JpEVywwUs",
        "outputId": "dd29ce42-e3bd-4e1e-cafa-59b3f33bae82"
      },
      "execution_count": null,
      "outputs": [
        {
          "output_type": "stream",
          "name": "stdout",
          "text": [
            "{1: 12, 2: 100, 4: 50}\n",
            "50 {1: 12, 2: 100}\n"
          ]
        }
      ]
    },
    {
      "cell_type": "code",
      "source": [
        "# 修\n",
        "std_grade = {1:12, 2:100, 3:90}\n",
        "name_grade = {'nick':90, 'jack':50}\n",
        "std_grade[4] = 100\n",
        "name_grade['nick'] = 100\n",
        "print(std_grade, name_grade)"
      ],
      "metadata": {
        "colab": {
          "base_uri": "https://localhost:8080/"
        },
        "id": "NodYf-6hwzKq",
        "outputId": "7fb755a0-2d02-4cb6-cfb4-fcaa85c208d6"
      },
      "execution_count": null,
      "outputs": [
        {
          "output_type": "stream",
          "name": "stdout",
          "text": [
            "{1: 12, 2: 100, 3: 90, 4: 100} {'nick': 100, 'jack': 50}\n"
          ]
        }
      ]
    },
    {
      "cell_type": "code",
      "source": [
        "std_grade.update({1:90})   # 也可使用 update\n",
        "print(std_grade)"
      ],
      "metadata": {
        "colab": {
          "base_uri": "https://localhost:8080/"
        },
        "id": "Zznmj1Bww9oU",
        "outputId": "2fb007b3-9a12-4d9a-c593-1a5b6f49ec0e"
      },
      "execution_count": null,
      "outputs": [
        {
          "output_type": "stream",
          "name": "stdout",
          "text": [
            "{1: 90, 2: 100, 3: 90, 4: 100}\n"
          ]
        }
      ]
    },
    {
      "cell_type": "code",
      "source": [
        "# 查\n",
        "std_grade = {1:12, 2:100, 3:90}\n",
        "print(std_grade[1])\n",
        "print(std_grade.get(1))\n",
        "print(len(std_grade))\n",
        "print(1 in std_grade)\n",
        "print(100 in std_grade)\n",
        "print('nick' in name_grade)"
      ],
      "metadata": {
        "colab": {
          "base_uri": "https://localhost:8080/"
        },
        "id": "haPk0ADVxALu",
        "outputId": "ee335058-61f8-46aa-ec6a-baa679e7ce1e"
      },
      "execution_count": null,
      "outputs": [
        {
          "output_type": "stream",
          "name": "stdout",
          "text": [
            "12\n",
            "12\n",
            "3\n",
            "True\n",
            "False\n",
            "True\n"
          ]
        }
      ]
    },
    {
      "cell_type": "code",
      "source": [
        "name_grade = {'nick':90, 'jack':50}\n",
        "k = name_grade.keys()\n",
        "print(k)\n",
        "print('nick' in k)"
      ],
      "metadata": {
        "colab": {
          "base_uri": "https://localhost:8080/"
        },
        "id": "1oI6OJXGxD6M",
        "outputId": "1d15cd19-f93c-4add-cd91-11b803670772"
      },
      "execution_count": null,
      "outputs": [
        {
          "output_type": "stream",
          "name": "stdout",
          "text": [
            "dict_keys(['nick', 'jack'])\n",
            "True\n"
          ]
        }
      ]
    },
    {
      "cell_type": "code",
      "source": [
        "v = name_grade.values()\n",
        "print(v)\n",
        "print(50 in v)"
      ],
      "metadata": {
        "colab": {
          "base_uri": "https://localhost:8080/"
        },
        "id": "AWBX7OdwySOw",
        "outputId": "a9f2218d-fa13-488b-c9b9-2b684361a29c"
      },
      "execution_count": null,
      "outputs": [
        {
          "output_type": "stream",
          "name": "stdout",
          "text": [
            "dict_values([90, 50])\n",
            "True\n"
          ]
        }
      ]
    },
    {
      "cell_type": "code",
      "source": [
        "items = name_grade.items()\n",
        "print(items)\n",
        "print(('nick',90) in items)"
      ],
      "metadata": {
        "colab": {
          "base_uri": "https://localhost:8080/"
        },
        "id": "w2VUiD9EyVi_",
        "outputId": "acdd140f-d408-4710-89d2-9d5192aaf7d0"
      },
      "execution_count": null,
      "outputs": [
        {
          "output_type": "stream",
          "name": "stdout",
          "text": [
            "dict_items([('nick', 90), ('jack', 50)])\n",
            "True\n"
          ]
        }
      ]
    },
    {
      "cell_type": "code",
      "source": [
        "# Example\n",
        "family = {'dad':'Jack', 'mom':'LiLi', 'size':6}\n",
        "print(family.items())\n",
        "for (key, value) in family.items():\n",
        "    print(key, value)"
      ],
      "metadata": {
        "colab": {
          "base_uri": "https://localhost:8080/"
        },
        "id": "SEmL1Ys2ybnq",
        "outputId": "71d0cc54-3567-4d4e-c70e-6dd802cf4616"
      },
      "execution_count": null,
      "outputs": [
        {
          "output_type": "stream",
          "name": "stdout",
          "text": [
            "dict_items([('dad', 'Jack'), ('mom', 'LiLi'), ('size', 6)])\n",
            "dad Jack\n",
            "mom LiLi\n",
            "size 6\n"
          ]
        }
      ]
    },
    {
      "cell_type": "code",
      "source": [
        "# dictionary comprehension\n",
        "fruits = ['apple', 'banna', 'cherry']\n",
        "fruits"
      ],
      "metadata": {
        "colab": {
          "base_uri": "https://localhost:8080/"
        },
        "id": "QnrTi96AyiQu",
        "outputId": "30ff5c7f-23ea-4f1a-c119-3fa217a8d815"
      },
      "execution_count": null,
      "outputs": [
        {
          "output_type": "execute_result",
          "data": {
            "text/plain": [
              "['apple', 'banna', 'cherry']"
            ]
          },
          "metadata": {},
          "execution_count": 56
        }
      ]
    },
    {
      "cell_type": "code",
      "source": [
        "# 一行產生一個水果字數的 dict\n",
        "fruit_len = {f:len(f) for f in fruits}\n",
        "print(fruit_len)"
      ],
      "metadata": {
        "colab": {
          "base_uri": "https://localhost:8080/"
        },
        "id": "T5b7jjxrymaT",
        "outputId": "40b98f6f-0558-40af-9d11-735f154af3a2"
      },
      "execution_count": null,
      "outputs": [
        {
          "output_type": "stream",
          "name": "stdout",
          "text": [
            "{'apple': 5, 'banna': 5, 'cherry': 6}\n"
          ]
        }
      ]
    },
    {
      "cell_type": "code",
      "source": [
        "# 建立一個班級人數的 dict\n",
        "classA = ['Jack', 'Mary']\n",
        "classB = ['nick', 'albert', 'jie']\n",
        "allClass = [classA, classB]\n",
        "class_count = {tuple(c):len(c) for c in allClass}\n",
        "print(allClass)\n",
        "print(class_count)"
      ],
      "metadata": {
        "colab": {
          "base_uri": "https://localhost:8080/"
        },
        "id": "MYUdPTV2yr_2",
        "outputId": "7ea9a18d-ea8e-4db4-ea08-05d74ad084a1"
      },
      "execution_count": null,
      "outputs": [
        {
          "output_type": "stream",
          "name": "stdout",
          "text": [
            "[['Jack', 'Mary'], ['nick', 'albert', 'jie']]\n",
            "{('Jack', 'Mary'): 2, ('nick', 'albert', 'jie'): 3}\n"
          ]
        }
      ]
    },
    {
      "cell_type": "code",
      "source": [
        "# zip\n",
        "std = ['nick','john','mac']\n",
        "grade = [100, 90, 80]\n",
        "std_grade = {k:v for (k,v) in list(zip(std, grade))}\n",
        "print(list(zip(std,grade)))\n",
        "print(std_grade)"
      ],
      "metadata": {
        "colab": {
          "base_uri": "https://localhost:8080/"
        },
        "id": "jE1zvOtCy67K",
        "outputId": "8f3d422c-06b9-45d1-8a48-2ae9ca091175"
      },
      "execution_count": null,
      "outputs": [
        {
          "output_type": "stream",
          "name": "stdout",
          "text": [
            "[('nick', 100), ('john', 90), ('mac', 80)]\n",
            "{'nick': 100, 'john': 90, 'mac': 80}\n"
          ]
        }
      ]
    },
    {
      "cell_type": "markdown",
      "source": [],
      "metadata": {
        "id": "jTB4w5YKhbN0"
      }
    },
    {
      "cell_type": "code",
      "source": [
        "a = (\"John\", \"Charles\", \"Mike\")\n",
        "b = (\"Jenny\", \"Christy\", \"Monica\")\n",
        "x = zip(a, b)\n",
        "print(tuple(x))"
      ],
      "metadata": {
        "colab": {
          "base_uri": "https://localhost:8080/"
        },
        "id": "4PxYt-U8y1no",
        "outputId": "97c999a7-af66-4b31-c0cd-884cf4f56270"
      },
      "execution_count": null,
      "outputs": [
        {
          "output_type": "stream",
          "name": "stdout",
          "text": [
            "(('John', 'Jenny'), ('Charles', 'Christy'), ('Mike', 'Monica'))\n"
          ]
        }
      ]
    },
    {
      "cell_type": "markdown",
      "source": [
        "## 中英字典\n",
        "應用dict建立一個英翻中的字典，例如myDict = {“dog”: “狗”, “cat”:“貓” }。依據此字典透過程式產生另一個中翻英字典。 要求使用者選擇: 英翻中, 中翻英, 或離開\n",
        "使用者輸入英文(或中文) 若有此字，輸出翻譯結果，若沒有，則輸出:查無此單字。\n",
        "迴圈直到使用者選擇離開"
      ],
      "metadata": {
        "id": "3Si901dQ0jDT"
      }
    },
    {
      "cell_type": "code",
      "source": [],
      "metadata": {
        "id": "xykMYVOGzT79"
      },
      "execution_count": null,
      "outputs": []
    }
  ]
}
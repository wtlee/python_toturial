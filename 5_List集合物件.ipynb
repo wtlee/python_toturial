{
  "nbformat": 4,
  "nbformat_minor": 0,
  "metadata": {
    "colab": {
      "provenance": [],
      "authorship_tag": "ABX9TyP3HlzkE4dOeqJbMmYFqQaO",
      "include_colab_link": true
    },
    "kernelspec": {
      "name": "python3",
      "display_name": "Python 3"
    },
    "language_info": {
      "name": "python"
    }
  },
  "cells": [
    {
      "cell_type": "markdown",
      "metadata": {
        "id": "view-in-github",
        "colab_type": "text"
      },
      "source": [
        "<a href=\"https://colab.research.google.com/github/wtlee/python_toturial/blob/main/5_List%E9%9B%86%E5%90%88%E7%89%A9%E4%BB%B6.ipynb\" target=\"_parent\"><img src=\"https://colab.research.google.com/assets/colab-badge.svg\" alt=\"Open In Colab\"/></a>"
      ]
    },
    {
      "cell_type": "markdown",
      "source": [
        "# List 集合物件"
      ],
      "metadata": {
        "id": "k7SchnCqezze"
      }
    },
    {
      "cell_type": "code",
      "execution_count": null,
      "metadata": {
        "id": "o31Ok9fxepl_"
      },
      "outputs": [],
      "source": [
        "# 放一群人的姓名，型態都是字串\n",
        "students = ['nick', 'albert', 'jie']"
      ]
    },
    {
      "cell_type": "code",
      "source": [
        "# 放一群人的年齡，型態都是數字\n",
        "age =[12, 56, 40, 22, 59]"
      ],
      "metadata": {
        "id": "qGy4dGfDfBeX"
      },
      "execution_count": null,
      "outputs": []
    },
    {
      "cell_type": "code",
      "source": [
        "# 某學生的資料與成績\n",
        "nick_grade = ['nick', 'S9201201', [90, 72, 100]]\n",
        "albert_grade = ['albert', 'S9201202', [99, 68, 90]]\n"
      ],
      "metadata": {
        "id": "zDSbJZAifCvo"
      },
      "execution_count": null,
      "outputs": []
    },
    {
      "cell_type": "code",
      "source": [
        "# list 中有 list\n",
        "grades = [nick_grade, albert_grade]\n"
      ],
      "metadata": {
        "id": "gepa-xEKfEK_"
      },
      "execution_count": null,
      "outputs": []
    },
    {
      "cell_type": "code",
      "source": [
        "# 建立空的 list\n",
        "empty_list = []\n",
        "empty_list = list()\n"
      ],
      "metadata": {
        "id": "pL2QfBuOfFdU"
      },
      "execution_count": null,
      "outputs": []
    },
    {
      "cell_type": "code",
      "source": [
        "A = [1, 2,'a','b']\n",
        "A.append('d')\n",
        "A"
      ],
      "metadata": {
        "colab": {
          "base_uri": "https://localhost:8080/"
        },
        "id": "UowrquTkfsN6",
        "outputId": "7affbcac-88cb-48a5-ae63-8475d8d5bdf7"
      },
      "execution_count": null,
      "outputs": [
        {
          "output_type": "execute_result",
          "data": {
            "text/plain": [
              "[1, 2, 'a', 'b', 'd']"
            ]
          },
          "metadata": {},
          "execution_count": 2
        }
      ]
    },
    {
      "cell_type": "code",
      "source": [
        "A.remove('a')\n",
        "A"
      ],
      "metadata": {
        "colab": {
          "base_uri": "https://localhost:8080/"
        },
        "id": "1zgagmjDf6pb",
        "outputId": "6665f6c2-a541-482d-d566-7ba3e0636855"
      },
      "execution_count": null,
      "outputs": [
        {
          "output_type": "execute_result",
          "data": {
            "text/plain": [
              "[1, 2, 'b', 'd']"
            ]
          },
          "metadata": {},
          "execution_count": 3
        }
      ]
    },
    {
      "cell_type": "code",
      "source": [
        "A[0]= 100\n",
        "A"
      ],
      "metadata": {
        "colab": {
          "base_uri": "https://localhost:8080/"
        },
        "id": "3RaetP9_f-ZA",
        "outputId": "5d9697cc-cf1b-42f2-b4a8-3049243ffec1"
      },
      "execution_count": null,
      "outputs": [
        {
          "output_type": "execute_result",
          "data": {
            "text/plain": [
              "[100, 2, 'b', 'd']"
            ]
          },
          "metadata": {},
          "execution_count": 4
        }
      ]
    },
    {
      "cell_type": "code",
      "source": [
        "A[2]"
      ],
      "metadata": {
        "colab": {
          "base_uri": "https://localhost:8080/",
          "height": 36
        },
        "id": "6ZAGyZwIgC-P",
        "outputId": "a5aa5678-1e0e-4e49-bd8a-66201147f937"
      },
      "execution_count": null,
      "outputs": [
        {
          "output_type": "execute_result",
          "data": {
            "text/plain": [
              "'b'"
            ],
            "application/vnd.google.colaboratory.intrinsic+json": {
              "type": "string"
            }
          },
          "metadata": {},
          "execution_count": 13
        }
      ]
    },
    {
      "cell_type": "code",
      "source": [
        "A[1:]"
      ],
      "metadata": {
        "colab": {
          "base_uri": "https://localhost:8080/"
        },
        "id": "kJBhrsprgGHc",
        "outputId": "cad426b0-c82e-4176-dcc9-9eccc4cd1360"
      },
      "execution_count": null,
      "outputs": [
        {
          "output_type": "execute_result",
          "data": {
            "text/plain": [
              "[2, 'b', 'a']"
            ]
          },
          "metadata": {},
          "execution_count": 14
        }
      ]
    },
    {
      "cell_type": "code",
      "source": [
        "##### 增\n",
        "students = ['nick', 'albert', 'jie']\n"
      ],
      "metadata": {
        "id": "R6-VTpbPfGhG"
      },
      "execution_count": null,
      "outputs": []
    },
    {
      "cell_type": "code",
      "source": [
        "students"
      ],
      "metadata": {
        "colab": {
          "base_uri": "https://localhost:8080/"
        },
        "id": "7UwXZOPLfIL9",
        "outputId": "b25609fc-da11-426a-d5ab-c216bfe9ab94"
      },
      "execution_count": null,
      "outputs": [
        {
          "output_type": "execute_result",
          "data": {
            "text/plain": [
              "['nick', 'albert', 'jie']"
            ]
          },
          "metadata": {},
          "execution_count": 7
        }
      ]
    },
    {
      "cell_type": "code",
      "source": [
        "st = ['jason', 'allen']\n",
        "\n",
        "students.insert(1, st)\n",
        "students       # 後加"
      ],
      "metadata": {
        "colab": {
          "base_uri": "https://localhost:8080/"
        },
        "id": "NdXwCnS1eD4l",
        "outputId": "8d2de2f2-7005-40b7-99cd-1354af5acfa3"
      },
      "execution_count": null,
      "outputs": [
        {
          "output_type": "execute_result",
          "data": {
            "text/plain": [
              "['maggie',\n",
              " ['jason', 'allen'],\n",
              " 'nick',\n",
              " 'albert',\n",
              " 'jie',\n",
              " 'lisa',\n",
              " 'jason',\n",
              " 'allen']"
            ]
          },
          "metadata": {},
          "execution_count": 11
        }
      ]
    },
    {
      "cell_type": "markdown",
      "source": [
        "刪除list 元素\n",
        "* remove(e): 移除第⼀個e;若沒有e 則會產生例外\n",
        "\n",
        "* pop(): 回傳並移除最後⼀個\n",
        "* pop(index): 回傳並移除index 的元素"
      ],
      "metadata": {
        "id": "8QXjo9PUgNSm"
      }
    },
    {
      "cell_type": "markdown",
      "source": [
        "## 刪除元素"
      ],
      "metadata": {
        "id": "SCt1BBXTrYD6"
      }
    },
    {
      "cell_type": "code",
      "source": [
        "##### 刪\n",
        "students = ['nick', 'albert', 'jie']\n",
        "students.remove('nick') # 移除第一個名為 nick 的元素"
      ],
      "metadata": {
        "id": "nJcwirsdhJME"
      },
      "execution_count": null,
      "outputs": []
    },
    {
      "cell_type": "code",
      "source": [
        "students"
      ],
      "metadata": {
        "colab": {
          "base_uri": "https://localhost:8080/"
        },
        "id": "IR5ZcNwshklw",
        "outputId": "a47bf703-1b4c-4ea9-9149-b66fb5164f91"
      },
      "execution_count": null,
      "outputs": [
        {
          "output_type": "execute_result",
          "data": {
            "text/plain": [
              "['albert', 'jie']"
            ]
          },
          "metadata": {},
          "execution_count": 17
        }
      ]
    },
    {
      "cell_type": "code",
      "source": [
        "print(students.pop())\n",
        "students"
      ],
      "metadata": {
        "colab": {
          "base_uri": "https://localhost:8080/"
        },
        "id": "_ztWQ75OexCt",
        "outputId": "cf26d612-b3f8-4e1e-b6c9-078128be4fec"
      },
      "execution_count": null,
      "outputs": [
        {
          "output_type": "stream",
          "name": "stdout",
          "text": [
            "jie\n"
          ]
        },
        {
          "output_type": "execute_result",
          "data": {
            "text/plain": [
              "['albert']"
            ]
          },
          "metadata": {},
          "execution_count": 18
        }
      ]
    },
    {
      "cell_type": "code",
      "source": [],
      "metadata": {
        "id": "cPOadg9Ke0V1"
      },
      "execution_count": null,
      "outputs": []
    },
    {
      "cell_type": "markdown",
      "source": [
        "## 修改元素"
      ],
      "metadata": {
        "id": "rZA-e-PCrVaS"
      }
    },
    {
      "cell_type": "code",
      "source": [
        "# 修\n",
        "grade = [11, 22, 99, 35, 59]\n",
        "g = grade # 相同參考\n",
        "grade0 = grade.copy() # 不同參考，相同值\n",
        "\n",
        "grade is grade0"
      ],
      "metadata": {
        "colab": {
          "base_uri": "https://localhost:8080/"
        },
        "id": "06bDy4dAnwYw",
        "outputId": "f2c73b53-3cf0-40ab-fc58-2ab75c0fb76b"
      },
      "execution_count": null,
      "outputs": [
        {
          "output_type": "execute_result",
          "data": {
            "text/plain": [
              "False"
            ]
          },
          "metadata": {},
          "execution_count": 26
        }
      ]
    },
    {
      "cell_type": "code",
      "source": [
        "grade == grade0 # 檢查內容是否相同"
      ],
      "metadata": {
        "colab": {
          "base_uri": "https://localhost:8080/"
        },
        "id": "HhOiGvMioA0h",
        "outputId": "f464fa69-88ae-4bee-d7f7-f0598e318441"
      },
      "execution_count": null,
      "outputs": [
        {
          "output_type": "execute_result",
          "data": {
            "text/plain": [
              "True"
            ]
          },
          "metadata": {},
          "execution_count": 25
        }
      ]
    },
    {
      "cell_type": "code",
      "source": [
        "grade is g"
      ],
      "metadata": {
        "colab": {
          "base_uri": "https://localhost:8080/"
        },
        "id": "nuvPiF90oDhP",
        "outputId": "6cd29d47-8062-48d9-c6f6-bdbc1968fead"
      },
      "execution_count": null,
      "outputs": [
        {
          "output_type": "execute_result",
          "data": {
            "text/plain": [
              "True"
            ]
          },
          "metadata": {},
          "execution_count": 30
        }
      ]
    },
    {
      "cell_type": "code",
      "source": [
        "grade == g"
      ],
      "metadata": {
        "colab": {
          "base_uri": "https://localhost:8080/"
        },
        "id": "NAGi_4eDoKxz",
        "outputId": "b6daa116-f54f-4c39-b9a7-60819a5d2e0f"
      },
      "execution_count": null,
      "outputs": [
        {
          "output_type": "execute_result",
          "data": {
            "text/plain": [
              "False"
            ]
          },
          "metadata": {},
          "execution_count": 46
        }
      ]
    },
    {
      "cell_type": "markdown",
      "source": [
        "## 查詢及擷取資料\n",
        "* data[i]: 取得i 位置的值\n",
        "* 資料切片(data slicing)\n",
        "* e in data: 回傳e 是否在data中, True 或 False"
      ],
      "metadata": {
        "id": "Xhdw96hGp6rr"
      }
    },
    {
      "cell_type": "code",
      "source": [
        "# 查(與取值)\n",
        "### 取得片段資料(list slicing [start:end:step])\n",
        "grade =[11, 22, 99, 35, 59]\n",
        "grade[0] # 取第0 筆資料, 11"
      ],
      "metadata": {
        "colab": {
          "base_uri": "https://localhost:8080/"
        },
        "id": "CTK__TJEqFtg",
        "outputId": "9ab6c933-0bab-463e-8d7c-5508186844c5"
      },
      "execution_count": null,
      "outputs": [
        {
          "output_type": "execute_result",
          "data": {
            "text/plain": [
              "11"
            ]
          },
          "metadata": {},
          "execution_count": 47
        }
      ]
    },
    {
      "cell_type": "code",
      "source": [
        "grade[0:3] # [11,22,99]"
      ],
      "metadata": {
        "colab": {
          "base_uri": "https://localhost:8080/"
        },
        "id": "HCAjnAWOqarN",
        "outputId": "000e2e06-78c2-41dd-d92f-75106d48e362"
      },
      "execution_count": null,
      "outputs": [
        {
          "output_type": "execute_result",
          "data": {
            "text/plain": [
              "[11, 22, 99]"
            ]
          },
          "metadata": {},
          "execution_count": 48
        }
      ]
    },
    {
      "cell_type": "code",
      "source": [
        "grade[:3] # 預設從0 開始, [11,22,99]"
      ],
      "metadata": {
        "colab": {
          "base_uri": "https://localhost:8080/"
        },
        "id": "jzT_Y6aJqbk2",
        "outputId": "d322ceac-1f2f-4fea-a1ac-de375c1f0cbe"
      },
      "execution_count": null,
      "outputs": [
        {
          "output_type": "execute_result",
          "data": {
            "text/plain": [
              "[11, 22, 99]"
            ]
          },
          "metadata": {},
          "execution_count": 49
        }
      ]
    },
    {
      "cell_type": "code",
      "source": [
        "grade[3:] # [35,59]"
      ],
      "metadata": {
        "colab": {
          "base_uri": "https://localhost:8080/"
        },
        "id": "oTElC8-8qd9d",
        "outputId": "1c84608d-53c0-4e68-f031-d616983a5d3e"
      },
      "execution_count": null,
      "outputs": [
        {
          "output_type": "execute_result",
          "data": {
            "text/plain": [
              "[35, 59]"
            ]
          },
          "metadata": {},
          "execution_count": 50
        }
      ]
    },
    {
      "cell_type": "code",
      "source": [
        "grade[-1] # 59, 倒數第⼀個"
      ],
      "metadata": {
        "colab": {
          "base_uri": "https://localhost:8080/"
        },
        "id": "IioKaaD4qfIE",
        "outputId": "8b8879c1-3286-48e4-b214-e3c9c2bc88c2"
      },
      "execution_count": null,
      "outputs": [
        {
          "output_type": "execute_result",
          "data": {
            "text/plain": [
              "59"
            ]
          },
          "metadata": {},
          "execution_count": 51
        }
      ]
    },
    {
      "cell_type": "code",
      "source": [
        "grade[::2] # 11,99,59 ⼀次跳兩步"
      ],
      "metadata": {
        "colab": {
          "base_uri": "https://localhost:8080/"
        },
        "id": "Dss3B_kjqgcK",
        "outputId": "9c2719a0-aea3-4abc-89bc-93fc0ee5c808"
      },
      "execution_count": null,
      "outputs": [
        {
          "output_type": "execute_result",
          "data": {
            "text/plain": [
              "[11, 99, 59]"
            ]
          },
          "metadata": {},
          "execution_count": 52
        }
      ]
    },
    {
      "cell_type": "markdown",
      "source": [
        "## List 常用函式"
      ],
      "metadata": {
        "id": "z-_SnEguqtVp"
      }
    },
    {
      "cell_type": "code",
      "source": [
        "students = ['nick', 'albert', 'jie']\n",
        "age =[12, 56, 40]\n",
        "# list 相關函式\n",
        "len(age) # 元素個數"
      ],
      "metadata": {
        "colab": {
          "base_uri": "https://localhost:8080/"
        },
        "id": "JGk-hzDcqveH",
        "outputId": "58b10456-4571-480e-ea5f-df54f6ff14ad"
      },
      "execution_count": null,
      "outputs": [
        {
          "output_type": "execute_result",
          "data": {
            "text/plain": [
              "3"
            ]
          },
          "metadata": {},
          "execution_count": 53
        }
      ]
    },
    {
      "cell_type": "code",
      "source": [
        "max(age) # 取得最大的元素值"
      ],
      "metadata": {
        "colab": {
          "base_uri": "https://localhost:8080/"
        },
        "id": "wah5wT1BqhfY",
        "outputId": "17d8a4db-b17c-425b-80f2-29e005a8f17c"
      },
      "execution_count": null,
      "outputs": [
        {
          "output_type": "execute_result",
          "data": {
            "text/plain": [
              "56"
            ]
          },
          "metadata": {},
          "execution_count": 54
        }
      ]
    },
    {
      "cell_type": "code",
      "source": [
        "min(age) # 取得最小的元素值"
      ],
      "metadata": {
        "colab": {
          "base_uri": "https://localhost:8080/"
        },
        "id": "mk3ZFUlmp3nb",
        "outputId": "3455c89a-f1ff-41ba-c803-10b4fc28e456"
      },
      "execution_count": null,
      "outputs": [
        {
          "output_type": "execute_result",
          "data": {
            "text/plain": [
              "12"
            ]
          },
          "metadata": {},
          "execution_count": 55
        }
      ]
    },
    {
      "cell_type": "code",
      "source": [
        "age2 = sorted(age) # 傳回排序後的結果, age 本身不被排序\n",
        "age2"
      ],
      "metadata": {
        "colab": {
          "base_uri": "https://localhost:8080/"
        },
        "id": "GdTlonnbq1-J",
        "outputId": "8a282980-18e1-4752-d467-7858a4de54e2"
      },
      "execution_count": null,
      "outputs": [
        {
          "output_type": "execute_result",
          "data": {
            "text/plain": [
              "[12, 40, 56]"
            ]
          },
          "metadata": {},
          "execution_count": 57
        }
      ]
    },
    {
      "cell_type": "code",
      "source": [
        "# list method\n",
        "c = students.count('nick') # 符合的元素數量\n",
        "c"
      ],
      "metadata": {
        "colab": {
          "base_uri": "https://localhost:8080/"
        },
        "id": "mVvJbtarq8VA",
        "outputId": "158ddd4d-808b-475b-9fc2-e1fc75e0c3e7"
      },
      "execution_count": null,
      "outputs": [
        {
          "output_type": "execute_result",
          "data": {
            "text/plain": [
              "1"
            ]
          },
          "metadata": {},
          "execution_count": 59
        }
      ]
    },
    {
      "cell_type": "code",
      "source": [
        "idx = students.index('albert') # 所在位置（0 開始）\n",
        "idx"
      ],
      "metadata": {
        "colab": {
          "base_uri": "https://localhost:8080/"
        },
        "id": "6OVLnpvfrEUQ",
        "outputId": "cf1cac0e-9c9c-4e9c-8cfa-199a1d57e4b1"
      },
      "execution_count": null,
      "outputs": [
        {
          "output_type": "execute_result",
          "data": {
            "text/plain": [
              "1"
            ]
          },
          "metadata": {},
          "execution_count": 61
        }
      ]
    },
    {
      "cell_type": "markdown",
      "source": [
        "## 排序\n",
        "* data.sort(): 由小到大排序，sort() 會改變本身的資料;\n",
        "\n",
        "* data.sort(reverse=True): 由大到小排序，sorted()不會改變資料，但會回傳⼀個已排序的"
      ],
      "metadata": {
        "id": "sewRiE8Tru4r"
      }
    },
    {
      "cell_type": "code",
      "source": [],
      "metadata": {
        "id": "rc09dZN7rHSc"
      },
      "execution_count": null,
      "outputs": []
    },
    {
      "cell_type": "code",
      "source": [],
      "metadata": {
        "id": "dn6I3xrVq43U"
      },
      "execution_count": null,
      "outputs": []
    },
    {
      "cell_type": "code",
      "source": [
        "# 把所有不及格的改為60 分, grade0 = [11, 22, 99, 35, 59]\n",
        "grade = grade0.copy()\n",
        "i = 0\n",
        "for s in grade:\n",
        "  if s < 60:\n",
        "    grade[i] = 60\n",
        "  i += 1\n",
        "print(grade)"
      ],
      "metadata": {
        "colab": {
          "base_uri": "https://localhost:8080/"
        },
        "id": "nBvCHYHRnxHs",
        "outputId": "76268c03-7a05-481d-da90-3d3ef3219bd5"
      },
      "execution_count": null,
      "outputs": [
        {
          "output_type": "stream",
          "name": "stdout",
          "text": [
            "[60, 60, 99, 60, 60]\n"
          ]
        }
      ]
    },
    {
      "cell_type": "code",
      "source": [
        "# 利用enumerate 簡化\n",
        "grade = [11,22,99,35,59]\n",
        "print(grade)\n",
        "for j, k in enumerate(grade):\n",
        "  print(j, k)\n",
        "  if g < 60:\n",
        "    grade[j] = 60\n",
        "print(grade)"
      ],
      "metadata": {
        "colab": {
          "base_uri": "https://localhost:8080/"
        },
        "id": "cr7unNJMofee",
        "outputId": "33c5988e-602b-45b8-b802-fc1df557f438"
      },
      "execution_count": null,
      "outputs": [
        {
          "output_type": "stream",
          "name": "stdout",
          "text": [
            "[11, 22, 99, 35, 59]\n",
            "0 11\n",
            "1 22\n",
            "2 99\n",
            "3 35\n",
            "4 59\n",
            "[60, 60, 60, 60, 60]\n"
          ]
        }
      ]
    },
    {
      "cell_type": "code",
      "source": [
        "# List 的比較\n",
        "nums = [10, 20, 40, 50]\n",
        "nums2 = nums\n",
        "nums2[0] = 0 # modifies both\n",
        "nums2"
      ],
      "metadata": {
        "colab": {
          "base_uri": "https://localhost:8080/"
        },
        "id": "2rhBYBPOpLAU",
        "outputId": "4e0a4a73-fc8a-4372-f3d9-52c03fea645f"
      },
      "execution_count": null,
      "outputs": [
        {
          "output_type": "execute_result",
          "data": {
            "text/plain": [
              "[0, 20, 40, 50]"
            ]
          },
          "metadata": {},
          "execution_count": 37
        }
      ]
    },
    {
      "cell_type": "code",
      "source": [
        "nums"
      ],
      "metadata": {
        "colab": {
          "base_uri": "https://localhost:8080/"
        },
        "id": "fyk9FgMppR8q",
        "outputId": "c16fdce6-6c0f-44d0-b593-d4ed78114587"
      },
      "execution_count": null,
      "outputs": [
        {
          "output_type": "execute_result",
          "data": {
            "text/plain": [
              "[0, 20, 40, 50]"
            ]
          },
          "metadata": {},
          "execution_count": 38
        }
      ]
    },
    {
      "cell_type": "code",
      "source": [
        "# copy a list (three ways)\n",
        "nums_copy1 = nums[:]\n",
        "nums_copy2 = list(nums)\n",
        "nums_copy3 = nums.copy()"
      ],
      "metadata": {
        "id": "nsXpFOk8pV55"
      },
      "execution_count": null,
      "outputs": []
    },
    {
      "cell_type": "code",
      "source": [
        "nums_copy1"
      ],
      "metadata": {
        "colab": {
          "base_uri": "https://localhost:8080/"
        },
        "id": "-ShfIN2RpbTh",
        "outputId": "d6ba9d47-ce3b-4db1-e18a-7c1fc70df1e4"
      },
      "execution_count": null,
      "outputs": [
        {
          "output_type": "execute_result",
          "data": {
            "text/plain": [
              "[0, 20, 40, 50]"
            ]
          },
          "metadata": {},
          "execution_count": 40
        }
      ]
    },
    {
      "cell_type": "code",
      "source": [
        "# is 檢驗兩物件是否參考相同\n",
        "nums is nums2 # True; same object"
      ],
      "metadata": {
        "colab": {
          "base_uri": "https://localhost:8080/"
        },
        "id": "GeCcCB1ipc4j",
        "outputId": "88798064-cfa8-4cee-cbb4-4d6645f556d8"
      },
      "execution_count": null,
      "outputs": [
        {
          "output_type": "execute_result",
          "data": {
            "text/plain": [
              "True"
            ]
          },
          "metadata": {},
          "execution_count": 42
        }
      ]
    },
    {
      "cell_type": "code",
      "source": [
        "nums is nums_copy1 # False"
      ],
      "metadata": {
        "colab": {
          "base_uri": "https://localhost:8080/"
        },
        "id": "Y9fJOjXKpmv-",
        "outputId": "185faf4d-33c1-4dc7-af14-c917eea3609d"
      },
      "execution_count": null,
      "outputs": [
        {
          "output_type": "execute_result",
          "data": {
            "text/plain": [
              "False"
            ]
          },
          "metadata": {},
          "execution_count": 43
        }
      ]
    },
    {
      "cell_type": "code",
      "source": [
        "# == 檢驗兩物件是否內容相同\n",
        "nums == nums2 # True"
      ],
      "metadata": {
        "colab": {
          "base_uri": "https://localhost:8080/"
        },
        "id": "GK1dkntVpnHJ",
        "outputId": "dd68cf4c-3407-4d64-dde1-6aff87ad001c"
      },
      "execution_count": null,
      "outputs": [
        {
          "output_type": "execute_result",
          "data": {
            "text/plain": [
              "True"
            ]
          },
          "metadata": {},
          "execution_count": 44
        }
      ]
    },
    {
      "cell_type": "code",
      "source": [
        "nums == nums_copy1 # True; same content"
      ],
      "metadata": {
        "colab": {
          "base_uri": "https://localhost:8080/"
        },
        "id": "4zNzgNjBpqR3",
        "outputId": "81d74086-e8f6-4255-dcbf-79e5c9768a9c"
      },
      "execution_count": null,
      "outputs": [
        {
          "output_type": "execute_result",
          "data": {
            "text/plain": [
              "True"
            ]
          },
          "metadata": {},
          "execution_count": 45
        }
      ]
    },
    {
      "cell_type": "code",
      "source": [
        "### list 是可瀏覽的\n",
        "students = ['nick', 'albert', 'jie']\n",
        "\n",
        "# for list\n",
        "for st in students: # 印出所有學生姓名\n",
        "    print (st)"
      ],
      "metadata": {
        "colab": {
          "base_uri": "https://localhost:8080/"
        },
        "id": "GEsFZZPlh2cr",
        "outputId": "be3dae66-4009-41ce-cd05-44da56de23a4"
      },
      "execution_count": null,
      "outputs": [
        {
          "output_type": "stream",
          "name": "stdout",
          "text": [
            "nick\n",
            "albert\n",
            "jie\n"
          ]
        }
      ]
    },
    {
      "cell_type": "code",
      "source": [
        "# 整體資料的運算\n",
        "sum = 0\n",
        "for g in grade:\n",
        "  sum += g\n",
        "print (sum//len(grade))"
      ],
      "metadata": {
        "colab": {
          "base_uri": "https://localhost:8080/"
        },
        "id": "s99BDbR1iF8W",
        "outputId": "ece0bf55-33f1-4897-bf25-fea72fc10a2f"
      },
      "execution_count": null,
      "outputs": [
        {
          "output_type": "stream",
          "name": "stdout",
          "text": [
            "45\n"
          ]
        }
      ]
    },
    {
      "cell_type": "code",
      "source": [
        "# enumerate\n",
        "### list 是可瀏覽的\n",
        "students = ['nick', 'albert', 'jie']\n",
        "for i, st in enumerate(students):\n",
        "  print (i, st)"
      ],
      "metadata": {
        "colab": {
          "base_uri": "https://localhost:8080/"
        },
        "id": "lNnGeuiciK-W",
        "outputId": "b60f19dd-0951-47c6-d86d-5e5343c04e10"
      },
      "execution_count": null,
      "outputs": [
        {
          "output_type": "stream",
          "name": "stdout",
          "text": [
            "0 nick\n",
            "1 albert\n",
            "2 jie\n"
          ]
        }
      ]
    },
    {
      "cell_type": "code",
      "source": [
        "# count, index\n",
        "students = ['nick', 'albert', 'jie', 'nick']\n",
        "cnt = students.count('nick')\n",
        "idx = students.index('jie')\n",
        "print(cnt, idx)"
      ],
      "metadata": {
        "colab": {
          "base_uri": "https://localhost:8080/"
        },
        "id": "lVxZ4F0ziX67",
        "outputId": "6785f36a-4ba1-495b-f476-f93d13003fbb"
      },
      "execution_count": null,
      "outputs": [
        {
          "output_type": "stream",
          "name": "stdout",
          "text": [
            "2 2\n"
          ]
        }
      ]
    },
    {
      "cell_type": "code",
      "source": [
        "##### list of list\n",
        "# List of List\n",
        "grade = [[11, 22, 33], [44, 55, 66],\n",
        "      [77, 88, 99], [90, 91, 92]]\n",
        "grade[0]    # [77, 88, 99]"
      ],
      "metadata": {
        "colab": {
          "base_uri": "https://localhost:8080/"
        },
        "id": "j9xY0Ooci3l9",
        "outputId": "9ed8eb78-2ab8-449e-cdcd-b4951dc816b9"
      },
      "execution_count": null,
      "outputs": [
        {
          "output_type": "execute_result",
          "data": {
            "text/plain": [
              "[11, 22, 33]"
            ]
          },
          "metadata": {},
          "execution_count": 34
        }
      ]
    },
    {
      "cell_type": "code",
      "source": [
        "grade[2][0] # 77"
      ],
      "metadata": {
        "colab": {
          "base_uri": "https://localhost:8080/"
        },
        "id": "2ps0Rga2jA1y",
        "outputId": "ee9b992c-d841-4b5e-89d3-49a26817d297"
      },
      "execution_count": null,
      "outputs": [
        {
          "output_type": "execute_result",
          "data": {
            "text/plain": [
              "77"
            ]
          },
          "metadata": {},
          "execution_count": 39
        }
      ]
    },
    {
      "cell_type": "code",
      "source": [
        "for row in grade:\n",
        "  for element in row:\n",
        "    print(row, end=' ')\n",
        "    print(element, end=' ')\n",
        "  print()"
      ],
      "metadata": {
        "colab": {
          "base_uri": "https://localhost:8080/"
        },
        "id": "FNGF8PVIspD1",
        "outputId": "b952b615-8935-4929-b9b6-375935560ce0"
      },
      "execution_count": null,
      "outputs": [
        {
          "output_type": "stream",
          "name": "stdout",
          "text": [
            "[11, 22, 33] 11 [11, 22, 33] 22 [11, 22, 33] 33 \n",
            "[44, 55, 66] 44 [44, 55, 66] 55 [44, 55, 66] 66 \n",
            "[77, 88, 99] 77 [77, 88, 99] 88 [77, 88, 99] 99 \n",
            "[90, 91, 92] 90 [90, 91, 92] 91 [90, 91, 92] 92 \n"
          ]
        }
      ]
    },
    {
      "cell_type": "code",
      "source": [
        "a = [i for i in range(0, 10, 2)]\n",
        "# 產生[0, 2, 4, 6, 8]\n",
        "a"
      ],
      "metadata": {
        "id": "xHVu45OFsxXU"
      },
      "execution_count": null,
      "outputs": []
    },
    {
      "cell_type": "code",
      "source": [
        "a = [i for i in range(10)]\n",
        "# 產生[0, 1, 2, 3, 4, 5, 6, 7, 8, 9]\n",
        "a"
      ],
      "metadata": {
        "colab": {
          "base_uri": "https://localhost:8080/"
        },
        "id": "R69jxAOztCto",
        "outputId": "bd455731-b299-442f-cc18-b6e73a0a7613"
      },
      "execution_count": null,
      "outputs": [
        {
          "output_type": "execute_result",
          "data": {
            "text/plain": [
              "[0, 1, 2, 3, 4, 5, 6, 7, 8, 9]"
            ]
          },
          "metadata": {},
          "execution_count": 43
        }
      ]
    },
    {
      "cell_type": "code",
      "source": [
        "# enumerate\n",
        "# List of List\n",
        "# grade = [[11, 22, 33], [44, 55, 66],\n",
        "#      [77, 88, 99], [90, 91, 92]]\n",
        "for i, row in enumerate(grade):\n",
        "    for j, element in enumerate(row):\n",
        "        print ('grade[{}][{}]={}'.format(i,j,element), end='; ')\n",
        "    print ()"
      ],
      "metadata": {
        "colab": {
          "base_uri": "https://localhost:8080/"
        },
        "id": "CDCJ07u8jCwf",
        "outputId": "06b63f42-3708-4492-b71c-c432d2390aa7"
      },
      "execution_count": null,
      "outputs": [
        {
          "output_type": "stream",
          "name": "stdout",
          "text": [
            "grade[0][0]=11; grade[0][1]=22; grade[0][2]=33; \n",
            "grade[1][0]=44; grade[1][1]=55; grade[1][2]=66; \n",
            "grade[2][0]=77; grade[2][1]=88; grade[2][2]=99; \n",
            "grade[3][0]=90; grade[3][1]=91; grade[3][2]=92; \n"
          ]
        }
      ]
    },
    {
      "cell_type": "markdown",
      "source": [
        "## Lab: 計算每科目的總和"
      ],
      "metadata": {
        "id": "MQOTWjOMtbKC"
      }
    },
    {
      "cell_type": "code",
      "source": [
        "# 使用 enumerate 計算每科目的總和\n"
      ],
      "metadata": {
        "id": "XiJcYC44jE-r"
      },
      "execution_count": null,
      "outputs": []
    },
    {
      "cell_type": "markdown",
      "source": [
        "## Tuple"
      ],
      "metadata": {
        "id": "WA_INCWvrj1C"
      }
    },
    {
      "cell_type": "code",
      "source": [
        "# 建立 tuple\n",
        "tup1 = ('Nick', 172, 75)\n",
        "tup2 = (1, 2, 3, 4, 5 )\n",
        "tup3 = \"a\", \"b\", \"c\", \"d\"\n",
        "tup4 = tuple([1, 2, 3, 4, 5])  # 由 List 中建立\n",
        "# tup2[0] = 100                  # ERROR!\n",
        "tup2.append(12)"
      ],
      "metadata": {
        "colab": {
          "base_uri": "https://localhost:8080/",
          "height": 217
        },
        "id": "LYK6dUfiriWD",
        "outputId": "ad4f2906-c26a-4388-c530-c9974a87ce23"
      },
      "execution_count": null,
      "outputs": [
        {
          "output_type": "error",
          "ename": "AttributeError",
          "evalue": "ignored",
          "traceback": [
            "\u001b[0;31m---------------------------------------------------------------------------\u001b[0m",
            "\u001b[0;31mAttributeError\u001b[0m                            Traceback (most recent call last)",
            "\u001b[0;32m<ipython-input-2-4b6eb9b35289>\u001b[0m in \u001b[0;36m<cell line: 7>\u001b[0;34m()\u001b[0m\n\u001b[1;32m      5\u001b[0m \u001b[0mtup4\u001b[0m \u001b[0;34m=\u001b[0m \u001b[0mtuple\u001b[0m\u001b[0;34m(\u001b[0m\u001b[0;34m[\u001b[0m\u001b[0;36m1\u001b[0m\u001b[0;34m,\u001b[0m \u001b[0;36m2\u001b[0m\u001b[0;34m,\u001b[0m \u001b[0;36m3\u001b[0m\u001b[0;34m,\u001b[0m \u001b[0;36m4\u001b[0m\u001b[0;34m,\u001b[0m \u001b[0;36m5\u001b[0m\u001b[0;34m]\u001b[0m\u001b[0;34m)\u001b[0m  \u001b[0;31m# 由 List 中建立\u001b[0m\u001b[0;34m\u001b[0m\u001b[0;34m\u001b[0m\u001b[0m\n\u001b[1;32m      6\u001b[0m \u001b[0;31m# tup2[0] = 100                  # ERROR!\u001b[0m\u001b[0;34m\u001b[0m\u001b[0;34m\u001b[0m\u001b[0m\n\u001b[0;32m----> 7\u001b[0;31m \u001b[0mtup2\u001b[0m\u001b[0;34m.\u001b[0m\u001b[0mappend\u001b[0m\u001b[0;34m(\u001b[0m\u001b[0;36m12\u001b[0m\u001b[0;34m)\u001b[0m\u001b[0;34m\u001b[0m\u001b[0;34m\u001b[0m\u001b[0m\n\u001b[0m",
            "\u001b[0;31mAttributeError\u001b[0m: 'tuple' object has no attribute 'append'"
          ]
        }
      ]
    },
    {
      "cell_type": "code",
      "source": [
        "# Tuple 比較省\n",
        "\n",
        "li_grade = [11, 22, 99, 35, 59] # list\n",
        "tu_grade = (11, 22, 99, 35, 59) # tuple\n"
      ],
      "metadata": {
        "id": "pVaMSqGQrwmw"
      },
      "execution_count": null,
      "outputs": []
    },
    {
      "cell_type": "code",
      "source": [
        "import sys\n",
        "print (sys.getsizeof(li_grade))\n",
        "print (sys.getsizeof(tu_grade))"
      ],
      "metadata": {
        "colab": {
          "base_uri": "https://localhost:8080/"
        },
        "id": "KefeiXserzw4",
        "outputId": "dfcc1547-25cd-496e-80eb-e4d6603bb17a"
      },
      "execution_count": null,
      "outputs": [
        {
          "output_type": "stream",
          "name": "stdout",
          "text": [
            "104\n",
            "80\n"
          ]
        }
      ]
    },
    {
      "cell_type": "code",
      "source": [
        "# Tuple 比較快\n",
        "\n",
        "import timeit\n",
        "do_list = timeit.timeit(stmt = '[1,2,3,4,5]',\n",
        "             number = 10000000)\n",
        "do_tupl = timeit.timeit(stmt = '(1,2,3,4,5)',\n",
        "             number = 10000000)\n",
        "print (do_list)\n",
        "print (do_tupl)"
      ],
      "metadata": {
        "id": "JXoS-D2Fr2Vi",
        "colab": {
          "base_uri": "https://localhost:8080/"
        },
        "outputId": "0c9d65f6-fc71-4304-d872-841fa95d0ce6"
      },
      "execution_count": null,
      "outputs": [
        {
          "output_type": "stream",
          "name": "stdout",
          "text": [
            "0.6575866610000389\n",
            "0.14420568899998898\n"
          ]
        }
      ]
    },
    {
      "cell_type": "code",
      "source": [
        "print (do_list)\n",
        "print (do_tupl)"
      ],
      "metadata": {
        "colab": {
          "base_uri": "https://localhost:8080/"
        },
        "id": "XkSHCs5nrqSZ",
        "outputId": "63410008-997b-4a86-9815-6df4ade44ba8"
      },
      "execution_count": null,
      "outputs": [
        {
          "output_type": "stream",
          "name": "stdout",
          "text": [
            "1.2718315649999994\n",
            "0.25921322900001087\n"
          ]
        }
      ]
    },
    {
      "cell_type": "code",
      "source": [
        "'''\n",
        " Tuple 資料的查取，和 List 幾乎一樣\n",
        " tup1 = ('Nick', 172, 75)\n",
        " tup2 = (1, 2, 3, 4, 5 )\n",
        " tup3 = \"a\", \"b\", \"c\", \"d\"\n",
        " tup4 = tuple([1, 2, 3, 4, 5])  # 由 List 中建立\n",
        "'''\n",
        "# Get the elements\n",
        "print(tup1[0])\n",
        "print(tup2(1:4))   # ERROR\n",
        "print(tup2[1:4])   # (2, 3, 4)\n",
        "print(tup2[-1])    # 5"
      ],
      "metadata": {
        "colab": {
          "base_uri": "https://localhost:8080/",
          "height": 146
        },
        "id": "J1KJbOxfsAkB",
        "outputId": "142cc2d1-4ecb-4355-949d-77e81f7001fc"
      },
      "execution_count": null,
      "outputs": [
        {
          "output_type": "error",
          "ename": "SyntaxError",
          "evalue": "ignored",
          "traceback": [
            "\u001b[0;36m  File \u001b[0;32m\"<ipython-input-8-b23cf7615813>\"\u001b[0;36m, line \u001b[0;32m10\u001b[0m\n\u001b[0;31m    print(tup2(1:4))   # ERROR\u001b[0m\n\u001b[0m                ^\u001b[0m\n\u001b[0;31mSyntaxError\u001b[0m\u001b[0;31m:\u001b[0m invalid syntax\n"
          ]
        }
      ]
    },
    {
      "cell_type": "code",
      "source": [
        "# Function and method\n",
        "len(tup2) \t\t# 5"
      ],
      "metadata": {
        "colab": {
          "base_uri": "https://localhost:8080/"
        },
        "id": "HdQBEiCnsHGV",
        "outputId": "c0bb2450-28b1-4723-fa84-7e0b60eba9e7"
      },
      "execution_count": null,
      "outputs": [
        {
          "output_type": "execute_result",
          "data": {
            "text/plain": [
              "5"
            ]
          },
          "metadata": {},
          "execution_count": 9
        }
      ]
    },
    {
      "cell_type": "code",
      "source": [
        "tup2.count(1)\t# 1"
      ],
      "metadata": {
        "colab": {
          "base_uri": "https://localhost:8080/"
        },
        "id": "YQL1rEjwsWkF",
        "outputId": "e8ff64c0-012d-41c7-8b55-7ea6b7be81e2"
      },
      "execution_count": null,
      "outputs": [
        {
          "output_type": "execute_result",
          "data": {
            "text/plain": [
              "1"
            ]
          },
          "metadata": {},
          "execution_count": 9
        }
      ]
    },
    {
      "cell_type": "code",
      "source": [
        "tup2.index(1)\t# 0"
      ],
      "metadata": {
        "colab": {
          "base_uri": "https://localhost:8080/"
        },
        "id": "W17l9sIcsYup",
        "outputId": "13381a53-b365-4f8e-ca93-5f4ffcfa2595"
      },
      "execution_count": null,
      "outputs": [
        {
          "output_type": "execute_result",
          "data": {
            "text/plain": [
              "0"
            ]
          },
          "metadata": {},
          "execution_count": 10
        }
      ]
    },
    {
      "cell_type": "code",
      "source": [
        "tup2 = tup2 + tuple([6])\t# ok(1,2,3,4,5,6)\n",
        "tup2"
      ],
      "metadata": {
        "colab": {
          "base_uri": "https://localhost:8080/"
        },
        "id": "W4ANuLOFsbET",
        "outputId": "1a9c6328-82ca-4b38-ffd8-22b2ed063691"
      },
      "execution_count": null,
      "outputs": [
        {
          "output_type": "execute_result",
          "data": {
            "text/plain": [
              "(1, 2, 3, 4, 5, 6)"
            ]
          },
          "metadata": {},
          "execution_count": 10
        }
      ]
    },
    {
      "cell_type": "code",
      "source": [
        "tup2 = tup2 + (6)\t        # error\n",
        "tup2"
      ],
      "metadata": {
        "id": "Hits88fYscyY",
        "colab": {
          "base_uri": "https://localhost:8080/",
          "height": 199
        },
        "outputId": "adc714e8-6c78-4fb1-e39f-37b0d78d1000"
      },
      "execution_count": null,
      "outputs": [
        {
          "output_type": "error",
          "ename": "TypeError",
          "evalue": "ignored",
          "traceback": [
            "\u001b[0;31m---------------------------------------------------------------------------\u001b[0m",
            "\u001b[0;31mTypeError\u001b[0m                                 Traceback (most recent call last)",
            "\u001b[0;32m<ipython-input-11-193ccea1baf0>\u001b[0m in \u001b[0;36m<cell line: 1>\u001b[0;34m()\u001b[0m\n\u001b[0;32m----> 1\u001b[0;31m \u001b[0mtup2\u001b[0m \u001b[0;34m=\u001b[0m \u001b[0mtup2\u001b[0m \u001b[0;34m+\u001b[0m \u001b[0;34m(\u001b[0m\u001b[0;36m6\u001b[0m\u001b[0;34m)\u001b[0m               \u001b[0;31m# error\u001b[0m\u001b[0;34m\u001b[0m\u001b[0;34m\u001b[0m\u001b[0m\n\u001b[0m\u001b[1;32m      2\u001b[0m \u001b[0mtup2\u001b[0m\u001b[0;34m\u001b[0m\u001b[0;34m\u001b[0m\u001b[0m\n",
            "\u001b[0;31mTypeError\u001b[0m: can only concatenate tuple (not \"int\") to tuple"
          ]
        }
      ]
    },
    {
      "cell_type": "code",
      "source": [
        "(3, 4) * 2  # returns (3, 4, 3, 4)"
      ],
      "metadata": {
        "colab": {
          "base_uri": "https://localhost:8080/"
        },
        "id": "zsLdRL5Ps9pE",
        "outputId": "9156cbbd-0821-4430-9ccb-a037e23a1f55"
      },
      "execution_count": null,
      "outputs": [
        {
          "output_type": "execute_result",
          "data": {
            "text/plain": [
              "(3, 4, 3, 4)"
            ]
          },
          "metadata": {},
          "execution_count": 14
        }
      ]
    },
    {
      "cell_type": "code",
      "source": [
        "# Sort a list of tuples\n",
        "tens = [(20, 60), (10, 40), (20, 30)]\n",
        "s2 = sorted(tens)\n",
        "s2"
      ],
      "metadata": {
        "colab": {
          "base_uri": "https://localhost:8080/"
        },
        "id": "Sbo4kMnUs_oy",
        "outputId": "0bc310a5-fea9-4412-c0ed-3e1470df28c1"
      },
      "execution_count": null,
      "outputs": [
        {
          "output_type": "execute_result",
          "data": {
            "text/plain": [
              "[10, 20, 20, 30, 40, 60]"
            ]
          },
          "metadata": {},
          "execution_count": 12
        }
      ]
    },
    {
      "cell_type": "code",
      "source": [
        "# Tuple unpacking\n",
        "person = ('male', 10, 'nick')   # create a tuple\n",
        "(sex, age, surname) = person    # assign three values at once\n",
        "print(sex, age, surname)"
      ],
      "metadata": {
        "colab": {
          "base_uri": "https://localhost:8080/"
        },
        "id": "eKtd-GAptDBk",
        "outputId": "f5886431-3caf-454d-8d05-b6163fedb8e3"
      },
      "execution_count": null,
      "outputs": [
        {
          "output_type": "stream",
          "name": "stdout",
          "text": [
            "male 10 nick\n"
          ]
        }
      ]
    },
    {
      "cell_type": "code",
      "source": [
        "sex, age, surname = person      # assign three values at once"
      ],
      "metadata": {
        "id": "lYyoeQ82uCHW"
      },
      "execution_count": null,
      "outputs": []
    },
    {
      "cell_type": "code",
      "source": [
        "sex, age = person          # ERROR"
      ],
      "metadata": {
        "id": "TLuXLpYhtBwn",
        "colab": {
          "base_uri": "https://localhost:8080/",
          "height": 182
        },
        "outputId": "821f9117-658f-4e17-a2a7-0b57da98c009"
      },
      "execution_count": null,
      "outputs": [
        {
          "output_type": "error",
          "ename": "ValueError",
          "evalue": "ignored",
          "traceback": [
            "\u001b[0;31m---------------------------------------------------------------------------\u001b[0m",
            "\u001b[0;31mValueError\u001b[0m                                Traceback (most recent call last)",
            "\u001b[0;32m<ipython-input-15-54aa67a7f444>\u001b[0m in \u001b[0;36m<cell line: 1>\u001b[0;34m()\u001b[0m\n\u001b[0;32m----> 1\u001b[0;31m \u001b[0msex\u001b[0m\u001b[0;34m,\u001b[0m \u001b[0mage\u001b[0m \u001b[0;34m=\u001b[0m \u001b[0mperson\u001b[0m          \u001b[0;31m# ERROR\u001b[0m\u001b[0;34m\u001b[0m\u001b[0;34m\u001b[0m\u001b[0m\n\u001b[0m",
            "\u001b[0;31mValueError\u001b[0m: too many values to unpack (expected 2)"
          ]
        }
      ]
    },
    {
      "cell_type": "markdown",
      "source": [
        "## Set"
      ],
      "metadata": {
        "id": "dtp6bCgGuMap"
      }
    },
    {
      "cell_type": "code",
      "source": [
        "# create a set\n",
        "basketball = set()  # an empty set\n",
        "basketball = {\"nick\", \"jie\", \"albert\"}\n",
        "basketball = set([\"nick\", \"john\", \"nick\", \"jackie\"])\n",
        "print(basketball)"
      ],
      "metadata": {
        "colab": {
          "base_uri": "https://localhost:8080/"
        },
        "id": "yIYuovhvuNyq",
        "outputId": "02cb6279-ec65-427e-e319-fe7abc3f5afe"
      },
      "execution_count": null,
      "outputs": [
        {
          "output_type": "stream",
          "name": "stdout",
          "text": [
            "{'jackie', 'nick', 'john'}\n"
          ]
        }
      ]
    },
    {
      "cell_type": "code",
      "source": [
        "basketball2 = {}  # this is dict, NOT set\n",
        "type(basketball2)"
      ],
      "metadata": {
        "colab": {
          "base_uri": "https://localhost:8080/"
        },
        "id": "xajeL3e5uiiK",
        "outputId": "21acf2c3-ec9f-43e0-f814-8d477b5197d2"
      },
      "execution_count": null,
      "outputs": [
        {
          "output_type": "execute_result",
          "data": {
            "text/plain": [
              "dict"
            ]
          },
          "metadata": {},
          "execution_count": 17
        }
      ]
    },
    {
      "cell_type": "code",
      "source": [
        "# 不會有重複\n",
        "badminton = {'nick', 'nick', 'john'}\n",
        "print(badminton)"
      ],
      "metadata": {
        "colab": {
          "base_uri": "https://localhost:8080/"
        },
        "id": "-ie2r9p6unPs",
        "outputId": "2d982a44-fdef-4da0-e182-4a752bde3999"
      },
      "execution_count": null,
      "outputs": [
        {
          "output_type": "stream",
          "name": "stdout",
          "text": [
            "{'nick', 'john'}\n"
          ]
        }
      ]
    },
    {
      "cell_type": "code",
      "source": [
        "print(badminton[0])  # Error, set 沒有順序"
      ],
      "metadata": {
        "id": "_YLgcI01us5C",
        "colab": {
          "base_uri": "https://localhost:8080/",
          "height": 182
        },
        "outputId": "b0df19ea-2a93-40af-c6b7-22b99152729a"
      },
      "execution_count": null,
      "outputs": [
        {
          "output_type": "error",
          "ename": "TypeError",
          "evalue": "ignored",
          "traceback": [
            "\u001b[0;31m---------------------------------------------------------------------------\u001b[0m",
            "\u001b[0;31mTypeError\u001b[0m                                 Traceback (most recent call last)",
            "\u001b[0;32m<ipython-input-19-4ce519bd96db>\u001b[0m in \u001b[0;36m<cell line: 1>\u001b[0;34m()\u001b[0m\n\u001b[0;32m----> 1\u001b[0;31m \u001b[0mprint\u001b[0m\u001b[0;34m(\u001b[0m\u001b[0mbadminton\u001b[0m\u001b[0;34m[\u001b[0m\u001b[0;36m0\u001b[0m\u001b[0;34m]\u001b[0m\u001b[0;34m)\u001b[0m  \u001b[0;31m# Error, set 沒有順序\u001b[0m\u001b[0;34m\u001b[0m\u001b[0;34m\u001b[0m\u001b[0m\n\u001b[0m",
            "\u001b[0;31mTypeError\u001b[0m: 'set' object is not subscriptable"
          ]
        }
      ]
    },
    {
      "cell_type": "code",
      "source": [
        "basketball = set([\"nick\", \"john\", \"nick\", \"jackie\"])\n",
        "# 增\n",
        "basketball.add('alex')\n",
        "basketball.add('alex')  # 不會再新增，不會有錯誤訊息\n",
        "print(basketball)"
      ],
      "metadata": {
        "colab": {
          "base_uri": "https://localhost:8080/"
        },
        "id": "k1gZs4uSuItw",
        "outputId": "3166954e-af3a-4500-c971-2247a2240a3a"
      },
      "execution_count": null,
      "outputs": [
        {
          "output_type": "stream",
          "name": "stdout",
          "text": [
            "{'jackie', 'nick', 'alex', 'john'}\n"
          ]
        }
      ]
    },
    {
      "cell_type": "code",
      "source": [
        "# 刪除\n",
        "basketball = {\"nick\", \"jie\", \"albert\"}\n",
        "basketball.remove('nick')\n",
        "#basketball.remove('nick')  # 會產生錯誤\n",
        "basketball.discard('nick')\n",
        "p1 = basketball.pop()  # 移除並回傳\n",
        "print(p1, basketball)\n",
        "basketball.clear()  # remove all elements\n",
        "print(basketball)"
      ],
      "metadata": {
        "colab": {
          "base_uri": "https://localhost:8080/"
        },
        "id": "vQ9NrmWPu0Ok",
        "outputId": "18b5f0c3-82d6-455d-9677-c625cdb31094"
      },
      "execution_count": null,
      "outputs": [
        {
          "output_type": "stream",
          "name": "stdout",
          "text": [
            "jie {'albert'}\n",
            "set()\n"
          ]
        }
      ]
    },
    {
      "cell_type": "code",
      "source": [
        "# 查\n",
        "basketball = {\"nick\", \"jie\", \"albert\"}\n",
        "print(len(basketball))\n",
        "\n",
        "print('nick' in basketball)\n"
      ],
      "metadata": {
        "colab": {
          "base_uri": "https://localhost:8080/"
        },
        "id": "q-QEn3_TvXL1",
        "outputId": "6e7ac1f7-323e-4896-cef8-4b795e6210a4"
      },
      "execution_count": null,
      "outputs": [
        {
          "output_type": "stream",
          "name": "stdout",
          "text": [
            "3\n",
            "True\n"
          ]
        }
      ]
    },
    {
      "cell_type": "code",
      "source": [
        "for player in basketball:\n",
        "    print(player)"
      ],
      "metadata": {
        "colab": {
          "base_uri": "https://localhost:8080/"
        },
        "id": "wtWB9P3wvgPV",
        "outputId": "b5655df6-2147-4df9-e6dc-d98445044164"
      },
      "execution_count": null,
      "outputs": [
        {
          "output_type": "stream",
          "name": "stdout",
          "text": [
            "nick\n",
            "jie\n",
            "albert\n"
          ]
        }
      ]
    },
    {
      "cell_type": "code",
      "source": [
        "# create a set\n",
        "basketball = {\"nick\", \"jie\", \"albert\"}\n",
        "baseball = {'nick', 'tim', 'john'}\n",
        "print(basketball, baseball)"
      ],
      "metadata": {
        "colab": {
          "base_uri": "https://localhost:8080/"
        },
        "id": "Xd5YTKx-virM",
        "outputId": "fe996dd7-87c2-4dc5-d1ec-453d73cb4d62"
      },
      "execution_count": null,
      "outputs": [
        {
          "output_type": "stream",
          "name": "stdout",
          "text": [
            "{'nick', 'jie', 'albert'} {'nick', 'john', 'tim'}\n"
          ]
        }
      ]
    },
    {
      "cell_type": "code",
      "source": [
        "# Set operations\n",
        "print(basketball | baseball) \t          # 聯集\n",
        "print(basketball.union(baseball))         # 聯集\n",
        "print(basketball)"
      ],
      "metadata": {
        "colab": {
          "base_uri": "https://localhost:8080/"
        },
        "id": "QA7iv1hwvCo6",
        "outputId": "63332290-daf3-40af-a272-7deb75bb8030"
      },
      "execution_count": null,
      "outputs": [
        {
          "output_type": "stream",
          "name": "stdout",
          "text": [
            "{'tim', 'jie', 'albert', 'nick', 'john'}\n",
            "{'tim', 'jie', 'albert', 'nick', 'john'}\n",
            "{'nick', 'jie', 'albert'}\n"
          ]
        }
      ]
    },
    {
      "cell_type": "code",
      "source": [
        "print(basketball.intersection(baseball))  # 交集\n",
        "print(basketball & baseball) \t     # 交集\n",
        "\n",
        "print(basketball - baseball) \t     # 差集\n",
        "print(baseball - basketball)"
      ],
      "metadata": {
        "colab": {
          "base_uri": "https://localhost:8080/"
        },
        "id": "mJmi-6Wju9Gm",
        "outputId": "7e23f70c-4362-4b69-c961-e3c60c5d13ed"
      },
      "execution_count": null,
      "outputs": [
        {
          "output_type": "stream",
          "name": "stdout",
          "text": [
            "{'nick'}\n",
            "{'nick'}\n",
            "{'jie', 'albert'}\n",
            "{'john', 'tim'}\n"
          ]
        }
      ]
    },
    {
      "cell_type": "code",
      "source": [
        "# Get a sorted list of unique elements from a set\n",
        "s2 = sorted(set([9, 0, 2, 1, 0]))  # returns [0, 1, 2, 9]\n",
        "s2"
      ],
      "metadata": {
        "colab": {
          "base_uri": "https://localhost:8080/"
        },
        "id": "tn4cEaGku3st",
        "outputId": "dc5ee097-f3c5-404c-8dc9-0c9ad4b11c55"
      },
      "execution_count": null,
      "outputs": [
        {
          "output_type": "execute_result",
          "data": {
            "text/plain": [
              "[0, 0, 1, 2, 9]"
            ]
          },
          "metadata": {},
          "execution_count": 33
        }
      ]
    },
    {
      "cell_type": "markdown",
      "source": [
        "## dictionary"
      ],
      "metadata": {
        "id": "ibvOP-IcwIK5"
      }
    },
    {
      "cell_type": "code",
      "source": [
        "# create an empty dictionary\n",
        "empty_dict = {}\n",
        "empty_dict = dict()"
      ],
      "metadata": {
        "id": "o_YtF8-ywFbf"
      },
      "execution_count": null,
      "outputs": []
    },
    {
      "cell_type": "code",
      "source": [
        "# create a dictionary\n",
        "family = {'dad':'Jack'}     # {key:value}\n",
        "family = {'dad':'Jack','mom':'LiLi','size':2}"
      ],
      "metadata": {
        "id": "WGNqPPVfwMDk"
      },
      "execution_count": null,
      "outputs": []
    },
    {
      "cell_type": "code",
      "source": [
        "# 使用 dict 來宣告\n",
        "family = dict(dad='Jack', mom='LiLi', size=2)\n",
        "print(family)"
      ],
      "metadata": {
        "colab": {
          "base_uri": "https://localhost:8080/"
        },
        "id": "iFyqVP_uwOkE",
        "outputId": "d61c7285-c057-4f39-a4c7-fa2d024a772c"
      },
      "execution_count": null,
      "outputs": [
        {
          "output_type": "stream",
          "name": "stdout",
          "text": [
            "{'dad': 'Jack', 'mom': 'LiLi', 'size': 2}\n"
          ]
        }
      ]
    },
    {
      "cell_type": "code",
      "source": [
        "# key 可以是 int, string, tuple 等不可修改的形態\n",
        "std_grade = [1:12, 2:100, 3:90]   # 學號, 成績\n",
        "name_grade = {'nick':90, 'jack':50}  # 姓名, 成績\n",
        "class_avg = {('A', 'math'):23,\n",
        "        ('B','eng'):89}     # (班級, 科目), 成績\n",
        "print(std_grade,name_grade,class_avg )"
      ],
      "metadata": {
        "colab": {
          "base_uri": "https://localhost:8080/"
        },
        "id": "n0jMk7zQwQRV",
        "outputId": "f415abc7-f1d2-4630-ea20-aae8db10b6d4"
      },
      "execution_count": null,
      "outputs": [
        {
          "output_type": "stream",
          "name": "stdout",
          "text": [
            "[1, 12, 2]\n",
            "[1, 12, 2, 100, 3, 90] {'nick': 90, 'jack': 50} {('A', 'math'): 23, ('B', 'eng'): 89}\n"
          ]
        }
      ]
    },
    {
      "cell_type": "code",
      "source": [
        "# key 的形態必須 immutable, List 是不行的：\n",
        "grade = {['eng']:12, 'math':100, 'phy':90, 'eng':90} # ERROR!"
      ],
      "metadata": {
        "id": "P9vytMB3wgmB",
        "colab": {
          "base_uri": "https://localhost:8080/",
          "height": 199
        },
        "outputId": "26d50a36-610c-48ea-bed8-ad7b45d4df11"
      },
      "execution_count": null,
      "outputs": [
        {
          "output_type": "error",
          "ename": "TypeError",
          "evalue": "ignored",
          "traceback": [
            "\u001b[0;31m---------------------------------------------------------------------------\u001b[0m",
            "\u001b[0;31mTypeError\u001b[0m                                 Traceback (most recent call last)",
            "\u001b[0;32m<ipython-input-39-0804e6efff7b>\u001b[0m in \u001b[0;36m<cell line: 2>\u001b[0;34m()\u001b[0m\n\u001b[1;32m      1\u001b[0m \u001b[0;31m# key 的形態必須 immutable, List 是不行的：\u001b[0m\u001b[0;34m\u001b[0m\u001b[0;34m\u001b[0m\u001b[0m\n\u001b[0;32m----> 2\u001b[0;31m \u001b[0mgrade\u001b[0m \u001b[0;34m=\u001b[0m \u001b[0;34m{\u001b[0m\u001b[0;34m[\u001b[0m\u001b[0;34m'eng'\u001b[0m\u001b[0;34m]\u001b[0m\u001b[0;34m:\u001b[0m\u001b[0;36m12\u001b[0m\u001b[0;34m,\u001b[0m \u001b[0;34m'math'\u001b[0m\u001b[0;34m:\u001b[0m\u001b[0;36m100\u001b[0m\u001b[0;34m,\u001b[0m \u001b[0;34m'phy'\u001b[0m\u001b[0;34m:\u001b[0m\u001b[0;36m90\u001b[0m\u001b[0;34m,\u001b[0m \u001b[0;34m'eng'\u001b[0m\u001b[0;34m:\u001b[0m\u001b[0;36m90\u001b[0m\u001b[0;34m}\u001b[0m \u001b[0;31m# ERROR!\u001b[0m\u001b[0;34m\u001b[0m\u001b[0;34m\u001b[0m\u001b[0m\n\u001b[0m",
            "\u001b[0;31mTypeError\u001b[0m: unhashable type: 'list'"
          ]
        }
      ]
    },
    {
      "cell_type": "code",
      "source": [
        "# convert a list of tuples into a dictionary\n",
        "t = [('dad', 'Jack'), ('mom', 'LiLi'), ('size', 2)]\n",
        "family = dict(t)\n",
        "type(t)\n",
        "type(family)\n",
        "print(family)"
      ],
      "metadata": {
        "colab": {
          "base_uri": "https://localhost:8080/"
        },
        "id": "zi3IgZGdwslp",
        "outputId": "a01c69e6-e1a1-4fbe-b790-580f9c4d9523"
      },
      "execution_count": null,
      "outputs": [
        {
          "output_type": "stream",
          "name": "stdout",
          "text": [
            "{'dad': 'Jack', 'mom': 'LiLi', 'size': 2}\n"
          ]
        }
      ]
    },
    {
      "cell_type": "code",
      "source": [
        "# 增\n",
        "std_grade = {1:12, 2:100, 3:90}  # 學號, 成績\n",
        "std_grade[4] = 30                # 新增一筆 {4: 30}\n",
        "print(std_grade)"
      ],
      "metadata": {
        "colab": {
          "base_uri": "https://localhost:8080/"
        },
        "id": "WkpaCBpLwtGu",
        "outputId": "dde2f82f-7a25-45db-eb68-dcf533d68686"
      },
      "execution_count": null,
      "outputs": [
        {
          "output_type": "stream",
          "name": "stdout",
          "text": [
            "{1: 12, 2: 100, 3: 90, 4: 30}\n"
          ]
        }
      ]
    },
    {
      "cell_type": "code",
      "source": [
        "# 刪\n",
        "std_grade = {1:12, 2:100, 3:90, 4:50}\n",
        "del std_grade[3]      # 移除 {3:} 這一筆\n",
        "print(std_grade)\n",
        "g = std_grade.pop(4)  # 移除並回傳\n",
        "print(g, std_grade)"
      ],
      "metadata": {
        "colab": {
          "base_uri": "https://localhost:8080/"
        },
        "id": "HB1JpEVywwUs",
        "outputId": "30b2295d-13f1-4675-be4f-b41dcaab5bf5"
      },
      "execution_count": null,
      "outputs": [
        {
          "output_type": "stream",
          "name": "stdout",
          "text": [
            "{1: 12, 2: 100, 4: 50}\n",
            "50 {1: 12, 2: 100}\n"
          ]
        }
      ]
    },
    {
      "cell_type": "code",
      "source": [
        "# 修\n",
        "std_grade = {1:12, 2:100, 3:90}\n",
        "name_grade = {'nick':90, 'jack':50}\n",
        "std_grade[4] = 100\n",
        "name_grade['nick'] = 100\n",
        "print(std_grade, name_grade)"
      ],
      "metadata": {
        "colab": {
          "base_uri": "https://localhost:8080/"
        },
        "id": "NodYf-6hwzKq",
        "outputId": "9a84a5d4-3b01-4423-d05a-4fd764c27667"
      },
      "execution_count": null,
      "outputs": [
        {
          "output_type": "stream",
          "name": "stdout",
          "text": [
            "{1: 12, 2: 100, 3: 90, 4: 100} {'nick': 100, 'jack': 50}\n"
          ]
        }
      ]
    },
    {
      "cell_type": "code",
      "source": [
        "std_grade.update({1:90})   # 也可使用 update\n",
        "print(std_grade)"
      ],
      "metadata": {
        "colab": {
          "base_uri": "https://localhost:8080/"
        },
        "id": "Zznmj1Bww9oU",
        "outputId": "a1cbb70c-9f0a-495c-dff0-4778f996cba0"
      },
      "execution_count": null,
      "outputs": [
        {
          "output_type": "stream",
          "name": "stdout",
          "text": [
            "{1: 90, 2: 100, 3: 90, 4: 100}\n"
          ]
        }
      ]
    },
    {
      "cell_type": "code",
      "source": [
        "# 查\n",
        "std_grade = {1:12, 2:100, 3:90}\n",
        "print(std_grade[1])\n",
        "print(len(std_grade))\n",
        "print(1 in std_grade)\n",
        "print(100 in std_grade)\n",
        "print('nick' in name_grade)"
      ],
      "metadata": {
        "colab": {
          "base_uri": "https://localhost:8080/"
        },
        "id": "haPk0ADVxALu",
        "outputId": "1aa50af0-c8f6-44cd-99cc-bfaec292c1ef"
      },
      "execution_count": null,
      "outputs": [
        {
          "output_type": "stream",
          "name": "stdout",
          "text": [
            "12\n",
            "3\n",
            "True\n",
            "False\n",
            "True\n"
          ]
        }
      ]
    },
    {
      "cell_type": "code",
      "source": [
        "name_grade = {'nick':90, 'jack':50}\n",
        "k = name_grade.keys()\n",
        "print(k)\n",
        "print('nick' in k)"
      ],
      "metadata": {
        "colab": {
          "base_uri": "https://localhost:8080/"
        },
        "id": "1oI6OJXGxD6M",
        "outputId": "e5bd630f-ffbe-43ca-b1b5-0b396021d7cc"
      },
      "execution_count": null,
      "outputs": [
        {
          "output_type": "stream",
          "name": "stdout",
          "text": [
            "dict_keys(['nick', 'jack'])\n",
            "True\n"
          ]
        }
      ]
    },
    {
      "cell_type": "code",
      "source": [
        "v = name_grade.values()\n",
        "print(v)\n",
        "print(50 in v)"
      ],
      "metadata": {
        "colab": {
          "base_uri": "https://localhost:8080/"
        },
        "id": "AWBX7OdwySOw",
        "outputId": "a80c72e5-40e1-4024-a4b2-23bf36d2968d"
      },
      "execution_count": null,
      "outputs": [
        {
          "output_type": "stream",
          "name": "stdout",
          "text": [
            "dict_values([90, 50])\n",
            "True\n"
          ]
        }
      ]
    },
    {
      "cell_type": "code",
      "source": [
        "items = name_grade.items()\n",
        "print(items)\n",
        "print(('nick',90) in items)"
      ],
      "metadata": {
        "colab": {
          "base_uri": "https://localhost:8080/"
        },
        "id": "w2VUiD9EyVi_",
        "outputId": "cc6ec572-d0f3-4085-bf66-630d4dbbf637"
      },
      "execution_count": null,
      "outputs": [
        {
          "output_type": "stream",
          "name": "stdout",
          "text": [
            "dict_items([('nick', 90), ('jack', 50)])\n",
            "True\n"
          ]
        }
      ]
    },
    {
      "cell_type": "code",
      "source": [
        "# Example\n",
        "family = {'dad':'Jack', 'mom':'LiLi', 'size':6}\n",
        "print(family.items())\n",
        "for (key, value) in family.items():\n",
        "    print(key, value)"
      ],
      "metadata": {
        "colab": {
          "base_uri": "https://localhost:8080/"
        },
        "id": "SEmL1Ys2ybnq",
        "outputId": "71d0cc54-3567-4d4e-c70e-6dd802cf4616"
      },
      "execution_count": null,
      "outputs": [
        {
          "output_type": "stream",
          "name": "stdout",
          "text": [
            "dict_items([('dad', 'Jack'), ('mom', 'LiLi'), ('size', 6)])\n",
            "dad Jack\n",
            "mom LiLi\n",
            "size 6\n"
          ]
        }
      ]
    },
    {
      "cell_type": "code",
      "source": [
        "# dictionary comprehension\n",
        "fruits = ['apple', 'banna', 'cherry']\n",
        "fruits"
      ],
      "metadata": {
        "colab": {
          "base_uri": "https://localhost:8080/"
        },
        "id": "QnrTi96AyiQu",
        "outputId": "30ff5c7f-23ea-4f1a-c119-3fa217a8d815"
      },
      "execution_count": null,
      "outputs": [
        {
          "output_type": "execute_result",
          "data": {
            "text/plain": [
              "['apple', 'banna', 'cherry']"
            ]
          },
          "metadata": {},
          "execution_count": 56
        }
      ]
    },
    {
      "cell_type": "code",
      "source": [
        "# 一行產生一個水果字數的 dict\n",
        "fruit_len = {f:len(f) for f in fruits}\n",
        "print(fruit_len)"
      ],
      "metadata": {
        "colab": {
          "base_uri": "https://localhost:8080/"
        },
        "id": "T5b7jjxrymaT",
        "outputId": "40b98f6f-0558-40af-9d11-735f154af3a2"
      },
      "execution_count": null,
      "outputs": [
        {
          "output_type": "stream",
          "name": "stdout",
          "text": [
            "{'apple': 5, 'banna': 5, 'cherry': 6}\n"
          ]
        }
      ]
    },
    {
      "cell_type": "code",
      "source": [
        "# 建立一個班級人數的 dict\n",
        "classA = ['Jack', 'Mary']\n",
        "classB = ['nick', 'albert', 'jie']\n",
        "allClass = [classA, classB]\n",
        "class_count = {tuple(c):len(c) for c in allClass}\n",
        "print(allClass)\n",
        "print(class_count)"
      ],
      "metadata": {
        "colab": {
          "base_uri": "https://localhost:8080/"
        },
        "id": "MYUdPTV2yr_2",
        "outputId": "7ea9a18d-ea8e-4db4-ea08-05d74ad084a1"
      },
      "execution_count": null,
      "outputs": [
        {
          "output_type": "stream",
          "name": "stdout",
          "text": [
            "[['Jack', 'Mary'], ['nick', 'albert', 'jie']]\n",
            "{('Jack', 'Mary'): 2, ('nick', 'albert', 'jie'): 3}\n"
          ]
        }
      ]
    },
    {
      "cell_type": "code",
      "source": [
        "# zip\n",
        "std = ['nick','john','mac']\n",
        "grade = [100, 90, 80]\n",
        "std_grade = {k:v for (k,v) in list(zip(std, grade))}\n",
        "print(list(zip(std,grade)))\n",
        "print(std_grade)"
      ],
      "metadata": {
        "colab": {
          "base_uri": "https://localhost:8080/"
        },
        "id": "jE1zvOtCy67K",
        "outputId": "8f3d422c-06b9-45d1-8a48-2ae9ca091175"
      },
      "execution_count": null,
      "outputs": [
        {
          "output_type": "stream",
          "name": "stdout",
          "text": [
            "[('nick', 100), ('john', 90), ('mac', 80)]\n",
            "{'nick': 100, 'john': 90, 'mac': 80}\n"
          ]
        }
      ]
    },
    {
      "cell_type": "markdown",
      "source": [],
      "metadata": {
        "id": "jTB4w5YKhbN0"
      }
    },
    {
      "cell_type": "code",
      "source": [
        "a = (\"John\", \"Charles\", \"Mike\")\n",
        "b = (\"Jenny\", \"Christy\", \"Monica\")\n",
        "x = zip(a, b)\n",
        "print(tuple(x))"
      ],
      "metadata": {
        "colab": {
          "base_uri": "https://localhost:8080/"
        },
        "id": "4PxYt-U8y1no",
        "outputId": "97c999a7-af66-4b31-c0cd-884cf4f56270"
      },
      "execution_count": null,
      "outputs": [
        {
          "output_type": "stream",
          "name": "stdout",
          "text": [
            "(('John', 'Jenny'), ('Charles', 'Christy'), ('Mike', 'Monica'))\n"
          ]
        }
      ]
    },
    {
      "cell_type": "markdown",
      "source": [
        "## 中英字典\n",
        "應用dict建立一個英翻中的字典，例如myDict = {“dog”: “狗”, “cat”:“貓” }。依據此字典透過程式產生另一個中翻英字典。 要求使用者選擇: 英翻中, 中翻英, 或離開\n",
        "使用者輸入英文(或中文) 若有此字，輸出翻譯結果，若沒有，則輸出:查無此單字。\n",
        "迴圈直到使用者選擇離開"
      ],
      "metadata": {
        "id": "3Si901dQ0jDT"
      }
    },
    {
      "cell_type": "code",
      "source": [],
      "metadata": {
        "id": "xykMYVOGzT79"
      },
      "execution_count": null,
      "outputs": []
    }
  ]
}
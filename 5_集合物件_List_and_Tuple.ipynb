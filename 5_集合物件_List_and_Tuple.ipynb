{
  "nbformat": 4,
  "nbformat_minor": 0,
  "metadata": {
    "colab": {
      "provenance": [],
      "include_colab_link": true
    },
    "kernelspec": {
      "name": "python3",
      "display_name": "Python 3"
    },
    "language_info": {
      "name": "python"
    }
  },
  "cells": [
    {
      "cell_type": "markdown",
      "metadata": {
        "id": "view-in-github",
        "colab_type": "text"
      },
      "source": [
        "<a href=\"https://colab.research.google.com/github/wtlee/python_tutorial/blob/main/5_%E9%9B%86%E5%90%88%E7%89%A9%E4%BB%B6_List_and_Tuple.ipynb\" target=\"_parent\"><img src=\"https://colab.research.google.com/assets/colab-badge.svg\" alt=\"Open In Colab\"/></a>"
      ]
    },
    {
      "cell_type": "markdown",
      "source": [
        "# List 集合物件"
      ],
      "metadata": {
        "id": "k7SchnCqezze"
      }
    },
    {
      "cell_type": "markdown",
      "source": [
        "### 建立串列(List)\n",
        "中括號( 方括號)"
      ],
      "metadata": {
        "id": "tPAxMaS-XvPI"
      }
    },
    {
      "cell_type": "code",
      "execution_count": null,
      "metadata": {
        "id": "o31Ok9fxepl_",
        "colab": {
          "base_uri": "https://localhost:8080/"
        },
        "outputId": "db486cff-e02e-402c-f158-e44878e75f63"
      },
      "outputs": [
        {
          "output_type": "execute_result",
          "data": {
            "text/plain": [
              "['nick', 'albert', 'jie']"
            ]
          },
          "metadata": {},
          "execution_count": 2
        }
      ],
      "source": [
        "# 放一群人的姓名，型態都是字串\n",
        "students = ['nick', 'albert', 'jie']\n",
        "students"
      ]
    },
    {
      "cell_type": "code",
      "source": [
        "# 放一群人的年齡，型態都是數字\n",
        "age =[12, 56, 40, 22, 59]\n",
        "age\n",
        "age[4]"
      ],
      "metadata": {
        "id": "qGy4dGfDfBeX",
        "colab": {
          "base_uri": "https://localhost:8080/"
        },
        "outputId": "6e22b7af-c3c2-4c2e-ef90-8632db469f90"
      },
      "execution_count": null,
      "outputs": [
        {
          "output_type": "execute_result",
          "data": {
            "text/plain": [
              "59"
            ]
          },
          "metadata": {},
          "execution_count": 6
        }
      ]
    },
    {
      "cell_type": "code",
      "source": [
        "# 複合串列：某學生的資料與成績\n",
        "nick_grade = ['nick', 'S9201201', 9, [90, 72, 100]]\n",
        "albert_grade = ['albert', 'S9201202', [99, 68, 90]]\n",
        "nick_grade"
      ],
      "metadata": {
        "id": "zDSbJZAifCvo",
        "colab": {
          "base_uri": "https://localhost:8080/"
        },
        "outputId": "970c07c4-008d-4604-c47f-f39233b8dbec"
      },
      "execution_count": null,
      "outputs": [
        {
          "output_type": "execute_result",
          "data": {
            "text/plain": [
              "['nick', 'S9201201', 9, [90, 72, 100]]"
            ]
          },
          "metadata": {},
          "execution_count": 8
        }
      ]
    },
    {
      "cell_type": "code",
      "source": [
        "# list 中有 list\n",
        "grades = [nick_grade, albert_grade]\n",
        "grades"
      ],
      "metadata": {
        "id": "gepa-xEKfEK_",
        "colab": {
          "base_uri": "https://localhost:8080/"
        },
        "outputId": "6a69c70a-0003-4825-c8b9-fb876357ecc3"
      },
      "execution_count": null,
      "outputs": [
        {
          "output_type": "execute_result",
          "data": {
            "text/plain": [
              "[['nick', 'S9201201', 9, [90, 72, 100]], ['albert', 'S9201202', [99, 68, 90]]]"
            ]
          },
          "metadata": {},
          "execution_count": 9
        }
      ]
    },
    {
      "cell_type": "markdown",
      "source": [
        "list()"
      ],
      "metadata": {
        "id": "WvZlsys6Ybe2"
      }
    },
    {
      "cell_type": "code",
      "source": [
        "# 建立空的 list\n",
        "empty_list = []\n",
        "empty_list = list()\n",
        "\n",
        "word_list = list('Hello World')\n",
        "word_list"
      ],
      "metadata": {
        "id": "pL2QfBuOfFdU",
        "colab": {
          "base_uri": "https://localhost:8080/"
        },
        "outputId": "14773428-3397-4b19-8246-ce372e152c7c"
      },
      "execution_count": null,
      "outputs": [
        {
          "output_type": "execute_result",
          "data": {
            "text/plain": [
              "['H', 'e', 'l', 'l', 'o', ' ', 'W', 'o', 'r', 'l', 'd']"
            ]
          },
          "metadata": {},
          "execution_count": 12
        }
      ]
    },
    {
      "cell_type": "markdown",
      "source": [
        "split()建立文字串列"
      ],
      "metadata": {
        "id": "oJrDIvnzYz75"
      }
    },
    {
      "cell_type": "code",
      "source": [
        "a = 'Hello, World'\n",
        "b = a.split(',')\n",
        "b"
      ],
      "metadata": {
        "id": "YK_G3ZgFY4Ne",
        "colab": {
          "base_uri": "https://localhost:8080/"
        },
        "outputId": "f569f43f-a199-4cd8-b35f-68be3de671db"
      },
      "execution_count": null,
      "outputs": [
        {
          "output_type": "execute_result",
          "data": {
            "text/plain": [
              "['Hello', ' World']"
            ]
          },
          "metadata": {},
          "execution_count": 15
        }
      ]
    },
    {
      "cell_type": "markdown",
      "source": [
        "串列( List )方法"
      ],
      "metadata": {
        "id": "Dam88dTRZSaM"
      }
    },
    {
      "cell_type": "code",
      "source": [
        "A = [1, 2,'a','b']\n",
        "A.append('d')\n",
        "A"
      ],
      "metadata": {
        "id": "UowrquTkfsN6",
        "colab": {
          "base_uri": "https://localhost:8080/"
        },
        "outputId": "c906816b-9e68-438a-8d97-c276e26593ff"
      },
      "execution_count": null,
      "outputs": [
        {
          "output_type": "execute_result",
          "data": {
            "text/plain": [
              "[1, 2, 'a', 'b', 'd']"
            ]
          },
          "metadata": {},
          "execution_count": 16
        }
      ]
    },
    {
      "cell_type": "code",
      "source": [
        "A.remove('a')\n",
        "A"
      ],
      "metadata": {
        "id": "1zgagmjDf6pb",
        "colab": {
          "base_uri": "https://localhost:8080/"
        },
        "outputId": "465764b9-a27e-448d-c85c-17018240c44c"
      },
      "execution_count": null,
      "outputs": [
        {
          "output_type": "execute_result",
          "data": {
            "text/plain": [
              "[1, 2, 'b', 'd']"
            ]
          },
          "metadata": {},
          "execution_count": 17
        }
      ]
    },
    {
      "cell_type": "code",
      "source": [
        "A[0]= 100\n",
        "A"
      ],
      "metadata": {
        "id": "3RaetP9_f-ZA",
        "colab": {
          "base_uri": "https://localhost:8080/"
        },
        "outputId": "d203ecea-6411-4f2a-f17b-3c7f803321af"
      },
      "execution_count": null,
      "outputs": [
        {
          "output_type": "execute_result",
          "data": {
            "text/plain": [
              "[100, 2, 'b', 'd']"
            ]
          },
          "metadata": {},
          "execution_count": 18
        }
      ]
    },
    {
      "cell_type": "code",
      "source": [
        "A[2]"
      ],
      "metadata": {
        "id": "6ZAGyZwIgC-P",
        "colab": {
          "base_uri": "https://localhost:8080/",
          "height": 35
        },
        "outputId": "897bd7b8-1593-419e-9703-206838f4d117"
      },
      "execution_count": null,
      "outputs": [
        {
          "output_type": "execute_result",
          "data": {
            "text/plain": [
              "'b'"
            ],
            "application/vnd.google.colaboratory.intrinsic+json": {
              "type": "string"
            }
          },
          "metadata": {},
          "execution_count": 19
        }
      ]
    },
    {
      "cell_type": "code",
      "source": [
        "A[1:]"
      ],
      "metadata": {
        "id": "kJBhrsprgGHc",
        "colab": {
          "base_uri": "https://localhost:8080/"
        },
        "outputId": "77d735b1-0776-49a7-db9b-5ffbd568809f"
      },
      "execution_count": null,
      "outputs": [
        {
          "output_type": "execute_result",
          "data": {
            "text/plain": [
              "[2, 'b', 'd']"
            ]
          },
          "metadata": {},
          "execution_count": 20
        }
      ]
    },
    {
      "cell_type": "markdown",
      "source": [
        "新增list 元素"
      ],
      "metadata": {
        "id": "xqYQL9IYZhJr"
      }
    },
    {
      "cell_type": "code",
      "source": [
        "##### 增\n",
        "students = ['nick', 'albert', 'jie']\n",
        "students"
      ],
      "metadata": {
        "id": "R6-VTpbPfGhG",
        "colab": {
          "base_uri": "https://localhost:8080/"
        },
        "outputId": "f44cbeae-5e2a-4959-eb40-89a9cf4216d2"
      },
      "execution_count": null,
      "outputs": [
        {
          "output_type": "execute_result",
          "data": {
            "text/plain": [
              "['nick', 'albert', 'jie']"
            ]
          },
          "metadata": {},
          "execution_count": 25
        }
      ]
    },
    {
      "cell_type": "code",
      "source": [
        "students.append('lisa')\n",
        "students"
      ],
      "metadata": {
        "id": "FouUU5Xhc761",
        "colab": {
          "base_uri": "https://localhost:8080/"
        },
        "outputId": "ba3c3c44-706b-48d3-b189-998636b53c1f"
      },
      "execution_count": null,
      "outputs": [
        {
          "output_type": "execute_result",
          "data": {
            "text/plain": [
              "['nick', 'albert', 'jie', 'lisa']"
            ]
          },
          "metadata": {},
          "execution_count": 26
        }
      ]
    },
    {
      "cell_type": "code",
      "source": [
        "st1 = ['tim', 'bill']\n",
        "students.extend(st1)\n",
        "students"
      ],
      "metadata": {
        "id": "PljEgpNZbnk7",
        "colab": {
          "base_uri": "https://localhost:8080/"
        },
        "outputId": "6fc2e9e4-f53e-49e5-b015-715367e20cea"
      },
      "execution_count": null,
      "outputs": [
        {
          "output_type": "execute_result",
          "data": {
            "text/plain": [
              "['nick', 'albert', 'jie', 'lisa', 'tim', 'bill']"
            ]
          },
          "metadata": {},
          "execution_count": 27
        }
      ]
    },
    {
      "cell_type": "code",
      "source": [
        "st2 = ['tom', 'bily']\n",
        "students + st2\n",
        "students"
      ],
      "metadata": {
        "id": "k45oVbRau-qG",
        "colab": {
          "base_uri": "https://localhost:8080/"
        },
        "outputId": "3edd4063-76cb-43e9-bc2f-0f45afd8d8b4"
      },
      "execution_count": null,
      "outputs": [
        {
          "output_type": "execute_result",
          "data": {
            "text/plain": [
              "['nick', 'albert', 'jie', 'lisa', 'tim', 'bill']"
            ]
          },
          "metadata": {},
          "execution_count": 30
        }
      ]
    },
    {
      "cell_type": "code",
      "source": [
        "new_students = students + st2\n",
        "new_students"
      ],
      "metadata": {
        "id": "qCJe_ds3vV0q",
        "colab": {
          "base_uri": "https://localhost:8080/"
        },
        "outputId": "80a168e6-c1b4-4810-c877-1325c7e3f6e0"
      },
      "execution_count": null,
      "outputs": [
        {
          "output_type": "execute_result",
          "data": {
            "text/plain": [
              "['nick', 'albert', 'jie', 'lisa', 'tim', 'bill', 'tom', 'bily']"
            ]
          },
          "metadata": {},
          "execution_count": 31
        }
      ]
    },
    {
      "cell_type": "code",
      "source": [
        "st3 = 'jack'\n",
        "students.insert(0, st3)\n",
        "students       # 後加"
      ],
      "metadata": {
        "id": "NdXwCnS1eD4l",
        "colab": {
          "base_uri": "https://localhost:8080/"
        },
        "outputId": "e14bebeb-74f2-4914-8fd4-f69ce5dd941b"
      },
      "execution_count": null,
      "outputs": [
        {
          "output_type": "execute_result",
          "data": {
            "text/plain": [
              "['jack', 'jack', 'nick', 'albert', 'jie', 'lisa', 'tim', 'bill']"
            ]
          },
          "metadata": {},
          "execution_count": 34
        }
      ]
    },
    {
      "cell_type": "code",
      "source": [
        "st = ['jason', 'allen']\n",
        "\n",
        "students.insert(1, st)\n",
        "students       # 後加"
      ],
      "metadata": {
        "id": "_QeYaBbscK2B",
        "colab": {
          "base_uri": "https://localhost:8080/"
        },
        "outputId": "460b1a96-84a1-492c-b65b-6f4401211530"
      },
      "execution_count": null,
      "outputs": [
        {
          "output_type": "execute_result",
          "data": {
            "text/plain": [
              "['jack',\n",
              " ['jason', 'allen'],\n",
              " 'jack',\n",
              " 'nick',\n",
              " 'albert',\n",
              " 'jie',\n",
              " 'lisa',\n",
              " 'tim',\n",
              " 'bill']"
            ]
          },
          "metadata": {},
          "execution_count": 35
        }
      ]
    },
    {
      "cell_type": "markdown",
      "source": [
        "刪除list 元素\n",
        "* remove(e): 移除第⼀個e;若沒有e 則會產生例外\n",
        "\n",
        "* pop(): 回傳並移除最後⼀個\n",
        "* pop(index): 回傳並移除index 的元素"
      ],
      "metadata": {
        "id": "8QXjo9PUgNSm"
      }
    },
    {
      "cell_type": "markdown",
      "source": [
        "## 刪除元素"
      ],
      "metadata": {
        "id": "SCt1BBXTrYD6"
      }
    },
    {
      "cell_type": "code",
      "source": [
        "##### 刪\n",
        "students = ['nick', 'albert', 'jie']\n",
        "students0 = students.copy()\n",
        "students.remove('nick') # 移除第一個名為 nick 的元素\n",
        "students"
      ],
      "metadata": {
        "id": "nJcwirsdhJME",
        "colab": {
          "base_uri": "https://localhost:8080/"
        },
        "outputId": "813bb592-c981-44fd-8598-674b4f3fb67e"
      },
      "execution_count": null,
      "outputs": [
        {
          "output_type": "execute_result",
          "data": {
            "text/plain": [
              "['albert', 'jie']"
            ]
          },
          "metadata": {},
          "execution_count": 39
        }
      ]
    },
    {
      "cell_type": "code",
      "source": [
        "print(students.pop())\n",
        "students"
      ],
      "metadata": {
        "id": "_ztWQ75OexCt",
        "colab": {
          "base_uri": "https://localhost:8080/"
        },
        "outputId": "8096adc8-6c60-4c21-e492-758220c105d2"
      },
      "execution_count": null,
      "outputs": [
        {
          "output_type": "stream",
          "name": "stdout",
          "text": [
            "jie\n"
          ]
        },
        {
          "output_type": "execute_result",
          "data": {
            "text/plain": [
              "['albert']"
            ]
          },
          "metadata": {},
          "execution_count": 40
        }
      ]
    },
    {
      "cell_type": "code",
      "source": [
        "students = students0.copy()\n",
        "st = students.pop() # 取出最後的元素\n",
        "st"
      ],
      "metadata": {
        "id": "ligu8D6YwHFU",
        "colab": {
          "base_uri": "https://localhost:8080/"
        },
        "outputId": "2fa23633-ca22-4745-e79b-cbc604598250"
      },
      "execution_count": null,
      "outputs": [
        {
          "output_type": "execute_result",
          "data": {
            "text/plain": [
              "['nick', 'albert']"
            ]
          },
          "metadata": {},
          "execution_count": 42
        }
      ]
    },
    {
      "cell_type": "code",
      "source": [
        "students = students0.copy()\n",
        "students.pop(0) # 取出第㇐個元素"
      ],
      "metadata": {
        "id": "io1zvNRPwaZr",
        "colab": {
          "base_uri": "https://localhost:8080/",
          "height": 35
        },
        "outputId": "dfc65bc0-f98b-4655-e63d-c9ca4a960027"
      },
      "execution_count": null,
      "outputs": [
        {
          "output_type": "execute_result",
          "data": {
            "text/plain": [
              "'nick'"
            ],
            "application/vnd.google.colaboratory.intrinsic+json": {
              "type": "string"
            }
          },
          "metadata": {},
          "execution_count": 43
        }
      ]
    },
    {
      "cell_type": "code",
      "source": [
        "students"
      ],
      "metadata": {
        "colab": {
          "base_uri": "https://localhost:8080/"
        },
        "id": "kk98hWRNNOh2",
        "outputId": "d2fab42d-2a46-4736-c6f4-04ca879bdce3"
      },
      "execution_count": null,
      "outputs": [
        {
          "output_type": "execute_result",
          "data": {
            "text/plain": [
              "['albert', 'jie']"
            ]
          },
          "metadata": {},
          "execution_count": 44
        }
      ]
    },
    {
      "cell_type": "code",
      "source": [
        "del students[0]\n",
        "students"
      ],
      "metadata": {
        "id": "ILFCcbmcwnej",
        "colab": {
          "base_uri": "https://localhost:8080/"
        },
        "outputId": "679a3edb-8691-4b84-959a-5a1a16b86ab9"
      },
      "execution_count": null,
      "outputs": [
        {
          "output_type": "execute_result",
          "data": {
            "text/plain": [
              "['jie']"
            ]
          },
          "metadata": {},
          "execution_count": 45
        }
      ]
    },
    {
      "cell_type": "code",
      "source": [
        "students = ['nick', 'albert', 'jie']\n",
        "students.clear()\n",
        "print(students)"
      ],
      "metadata": {
        "id": "bDlj_x8JPeMW",
        "colab": {
          "base_uri": "https://localhost:8080/"
        },
        "outputId": "8f07fc42-b85f-422e-f32f-b34c53d4a263"
      },
      "execution_count": null,
      "outputs": [
        {
          "output_type": "stream",
          "name": "stdout",
          "text": [
            "[]\n"
          ]
        }
      ]
    },
    {
      "cell_type": "markdown",
      "source": [
        "## 修改元素"
      ],
      "metadata": {
        "id": "rZA-e-PCrVaS"
      }
    },
    {
      "cell_type": "code",
      "source": [
        "# 修\n",
        "grade = [11, 22, 99, 35, 59]\n",
        "g = grade # 相同參考\n",
        "grade0 = grade.copy() # 不同參考，相同值\n",
        "\n",
        "grade is grade0"
      ],
      "metadata": {
        "id": "06bDy4dAnwYw",
        "colab": {
          "base_uri": "https://localhost:8080/"
        },
        "outputId": "209f97b1-f8e5-48bf-eb88-f1f24354340b"
      },
      "execution_count": null,
      "outputs": [
        {
          "output_type": "execute_result",
          "data": {
            "text/plain": [
              "False"
            ]
          },
          "metadata": {},
          "execution_count": 47
        }
      ]
    },
    {
      "cell_type": "code",
      "source": [
        "grade == grade0 # 檢查內容是否相同"
      ],
      "metadata": {
        "id": "HhOiGvMioA0h",
        "colab": {
          "base_uri": "https://localhost:8080/"
        },
        "outputId": "a1c1184e-a159-4c4e-c2d9-0a1c51455deb"
      },
      "execution_count": null,
      "outputs": [
        {
          "output_type": "execute_result",
          "data": {
            "text/plain": [
              "True"
            ]
          },
          "metadata": {},
          "execution_count": 48
        }
      ]
    },
    {
      "cell_type": "code",
      "source": [
        "grade0"
      ],
      "metadata": {
        "colab": {
          "base_uri": "https://localhost:8080/"
        },
        "id": "KQowAaSFaxda",
        "outputId": "b703d223-cddf-410e-9517-b44faf4c591e"
      },
      "execution_count": null,
      "outputs": [
        {
          "output_type": "execute_result",
          "data": {
            "text/plain": [
              "[11, 22, 99, 35, 59]"
            ]
          },
          "metadata": {},
          "execution_count": 50
        }
      ]
    },
    {
      "cell_type": "code",
      "source": [
        "grade is g"
      ],
      "metadata": {
        "id": "nuvPiF90oDhP",
        "colab": {
          "base_uri": "https://localhost:8080/"
        },
        "outputId": "6d6af05a-247a-43e3-9fb3-c153d76dafd3"
      },
      "execution_count": null,
      "outputs": [
        {
          "output_type": "execute_result",
          "data": {
            "text/plain": [
              "True"
            ]
          },
          "metadata": {},
          "execution_count": 51
        }
      ]
    },
    {
      "cell_type": "code",
      "source": [
        "grade == g"
      ],
      "metadata": {
        "id": "NAGi_4eDoKxz",
        "colab": {
          "base_uri": "https://localhost:8080/"
        },
        "outputId": "b820c03b-0fcd-4f44-9ae7-c20abce23a31"
      },
      "execution_count": null,
      "outputs": [
        {
          "output_type": "execute_result",
          "data": {
            "text/plain": [
              "True"
            ]
          },
          "metadata": {},
          "execution_count": 52
        }
      ]
    },
    {
      "cell_type": "code",
      "source": [
        "grade[0] = 12\n",
        "grade"
      ],
      "metadata": {
        "colab": {
          "base_uri": "https://localhost:8080/"
        },
        "id": "6kbmaGYmbQFa",
        "outputId": "834e4ab6-66cf-40a1-cc71-e86ee2e0f0c8"
      },
      "execution_count": null,
      "outputs": [
        {
          "output_type": "execute_result",
          "data": {
            "text/plain": [
              "[12, 22, 99, 35, 59]"
            ]
          },
          "metadata": {},
          "execution_count": 55
        }
      ]
    },
    {
      "cell_type": "code",
      "source": [
        "g"
      ],
      "metadata": {
        "colab": {
          "base_uri": "https://localhost:8080/"
        },
        "id": "8lIiJ2J5bgQ9",
        "outputId": "1616bf05-d8ef-49f9-aca4-327a3f6edbad"
      },
      "execution_count": null,
      "outputs": [
        {
          "output_type": "execute_result",
          "data": {
            "text/plain": [
              "[12, 22, 99, 35, 59]"
            ]
          },
          "metadata": {},
          "execution_count": 57
        }
      ]
    },
    {
      "cell_type": "code",
      "source": [
        "grade0"
      ],
      "metadata": {
        "colab": {
          "base_uri": "https://localhost:8080/"
        },
        "id": "_3aAanW8bW7f",
        "outputId": "05313130-7468-422c-d870-a3bb1f9b4e7e"
      },
      "execution_count": null,
      "outputs": [
        {
          "output_type": "execute_result",
          "data": {
            "text/plain": [
              "[11, 22, 99, 35, 59]"
            ]
          },
          "metadata": {},
          "execution_count": 56
        }
      ]
    },
    {
      "cell_type": "markdown",
      "source": [
        "List 的比較"
      ],
      "metadata": {
        "id": "GkgErqcsBxn5"
      }
    },
    {
      "cell_type": "code",
      "source": [
        "# List 的比較\n",
        "nums = [10, 20, 40, 50]\n",
        "nums2 = nums\n",
        "nums2[0] = 0 # modifies both\n",
        "nums2"
      ],
      "metadata": {
        "id": "2rhBYBPOpLAU",
        "colab": {
          "base_uri": "https://localhost:8080/"
        },
        "outputId": "796ba88e-0a21-47b7-ff8f-01d3015e9dfa"
      },
      "execution_count": null,
      "outputs": [
        {
          "output_type": "execute_result",
          "data": {
            "text/plain": [
              "[0, 20, 40, 50]"
            ]
          },
          "metadata": {},
          "execution_count": 60
        }
      ]
    },
    {
      "cell_type": "code",
      "source": [
        "nums"
      ],
      "metadata": {
        "id": "fyk9FgMppR8q",
        "colab": {
          "base_uri": "https://localhost:8080/"
        },
        "outputId": "9821c47e-8601-403b-fcd1-7f6a51424e54"
      },
      "execution_count": null,
      "outputs": [
        {
          "output_type": "execute_result",
          "data": {
            "text/plain": [
              "[0, 20, 40, 50]"
            ]
          },
          "metadata": {},
          "execution_count": 61
        }
      ]
    },
    {
      "cell_type": "code",
      "source": [
        "# copy a list (three ways)\n",
        "nums_copy1 = nums[:]\n",
        "nums_copy2 = list(nums)\n",
        "nums_copy3 = nums.copy()"
      ],
      "metadata": {
        "id": "nsXpFOk8pV55"
      },
      "execution_count": null,
      "outputs": []
    },
    {
      "cell_type": "code",
      "source": [
        "nums_copy1"
      ],
      "metadata": {
        "id": "-ShfIN2RpbTh",
        "colab": {
          "base_uri": "https://localhost:8080/"
        },
        "outputId": "22bcb94d-99f5-4f30-d7f3-59c30b0c5654"
      },
      "execution_count": null,
      "outputs": [
        {
          "output_type": "execute_result",
          "data": {
            "text/plain": [
              "[0, 20, 40, 50]"
            ]
          },
          "metadata": {},
          "execution_count": 64
        }
      ]
    },
    {
      "cell_type": "code",
      "source": [
        "# is 檢驗兩物件是否參考相同\n",
        "nums is nums2 # True; same object"
      ],
      "metadata": {
        "id": "GeCcCB1ipc4j",
        "colab": {
          "base_uri": "https://localhost:8080/"
        },
        "outputId": "dfffc95c-11a0-4253-e916-77d161cf8078"
      },
      "execution_count": null,
      "outputs": [
        {
          "output_type": "execute_result",
          "data": {
            "text/plain": [
              "True"
            ]
          },
          "metadata": {},
          "execution_count": 65
        }
      ]
    },
    {
      "cell_type": "code",
      "source": [
        "nums is nums_copy1 # False"
      ],
      "metadata": {
        "id": "Y9fJOjXKpmv-",
        "colab": {
          "base_uri": "https://localhost:8080/"
        },
        "outputId": "492fb0bd-7f2f-4bbe-95e6-3543250a773c"
      },
      "execution_count": null,
      "outputs": [
        {
          "output_type": "execute_result",
          "data": {
            "text/plain": [
              "False"
            ]
          },
          "metadata": {},
          "execution_count": 66
        }
      ]
    },
    {
      "cell_type": "code",
      "source": [
        "# == 檢驗兩物件是否內容相同\n",
        "nums == nums2 # True"
      ],
      "metadata": {
        "id": "GK1dkntVpnHJ",
        "colab": {
          "base_uri": "https://localhost:8080/"
        },
        "outputId": "6b61117d-2fcf-4629-f984-0ce17747c79e"
      },
      "execution_count": null,
      "outputs": [
        {
          "output_type": "execute_result",
          "data": {
            "text/plain": [
              "True"
            ]
          },
          "metadata": {},
          "execution_count": 67
        }
      ]
    },
    {
      "cell_type": "code",
      "source": [
        "nums == nums_copy1 # True; same content"
      ],
      "metadata": {
        "id": "4zNzgNjBpqR3",
        "colab": {
          "base_uri": "https://localhost:8080/"
        },
        "outputId": "78b336fd-9d9a-48f3-8ef5-9dbe4f9620d0"
      },
      "execution_count": null,
      "outputs": [
        {
          "output_type": "execute_result",
          "data": {
            "text/plain": [
              "True"
            ]
          },
          "metadata": {},
          "execution_count": 68
        }
      ]
    },
    {
      "cell_type": "code",
      "source": [
        "nums[0] = 100\n",
        "nums"
      ],
      "metadata": {
        "id": "rzZrH6hQCJQ-",
        "colab": {
          "base_uri": "https://localhost:8080/"
        },
        "outputId": "90f9d5bc-e79c-4d84-b008-327880c93f2e"
      },
      "execution_count": null,
      "outputs": [
        {
          "output_type": "execute_result",
          "data": {
            "text/plain": [
              "[100, 20, 40, 50]"
            ]
          },
          "metadata": {},
          "execution_count": 69
        }
      ]
    },
    {
      "cell_type": "code",
      "source": [
        "nums2"
      ],
      "metadata": {
        "id": "atwOel-hCSTj",
        "colab": {
          "base_uri": "https://localhost:8080/"
        },
        "outputId": "0c805bed-e946-4238-f991-cc31928992de"
      },
      "execution_count": null,
      "outputs": [
        {
          "output_type": "execute_result",
          "data": {
            "text/plain": [
              "[100, 20, 40, 50]"
            ]
          },
          "metadata": {},
          "execution_count": 70
        }
      ]
    },
    {
      "cell_type": "code",
      "source": [
        "nums_copy1"
      ],
      "metadata": {
        "id": "FXA5YzKeCVuA",
        "colab": {
          "base_uri": "https://localhost:8080/"
        },
        "outputId": "b0b40655-a399-4853-f507-49e3d96b1c73"
      },
      "execution_count": null,
      "outputs": [
        {
          "output_type": "execute_result",
          "data": {
            "text/plain": [
              "[0, 20, 40, 50]"
            ]
          },
          "metadata": {},
          "execution_count": 71
        }
      ]
    },
    {
      "cell_type": "code",
      "source": [
        "# 把所有不及格的改為60 分, grade0 = [11, 22, 99, 35, 59]\n",
        "grade = grade0.copy()\n",
        "print(grade)\n",
        "i = 0\n",
        "for s in grade:\n",
        "  if s < 60:\n",
        "    grade[i] = 60\n",
        "  i += 1\n",
        "print(grade)"
      ],
      "metadata": {
        "id": "nBvCHYHRnxHs",
        "colab": {
          "base_uri": "https://localhost:8080/"
        },
        "outputId": "fd0e3fa1-d0b7-42bd-a69c-4a5aabe50697"
      },
      "execution_count": null,
      "outputs": [
        {
          "output_type": "stream",
          "name": "stdout",
          "text": [
            "[11, 22, 99, 35, 59]\n",
            "[60, 60, 99, 60, 60]\n"
          ]
        }
      ]
    },
    {
      "cell_type": "markdown",
      "source": [
        "## 查詢及擷取資料\n",
        "* data[i]: 取得i 位置的值\n",
        "* 資料切片(data slicing)\n",
        "* e in data: 回傳e 是否在data中, True 或 False"
      ],
      "metadata": {
        "id": "Xhdw96hGp6rr"
      }
    },
    {
      "cell_type": "markdown",
      "source": [
        "data[i]: 取得i 位置的值"
      ],
      "metadata": {
        "id": "gCiGitPXDDIp"
      }
    },
    {
      "cell_type": "code",
      "source": [
        "# 查(與取值)\n",
        "### 取得片段資料(list slicing [start:end:step])\n",
        "grade = [11, 22, 99, 35, 59]\n",
        "grade[-1] # 取第0 筆資料, 11"
      ],
      "metadata": {
        "id": "CTK__TJEqFtg",
        "colab": {
          "base_uri": "https://localhost:8080/"
        },
        "outputId": "af3aa522-8fa2-4fd9-a4a7-1424860270a4"
      },
      "execution_count": null,
      "outputs": [
        {
          "output_type": "execute_result",
          "data": {
            "text/plain": [
              "59"
            ]
          },
          "metadata": {},
          "execution_count": 74
        }
      ]
    },
    {
      "cell_type": "markdown",
      "source": [
        "資料切片(data slicing)"
      ],
      "metadata": {
        "id": "n6LWyfNtDAA9"
      }
    },
    {
      "cell_type": "code",
      "source": [
        "grade[0:3] # [11,22,99]"
      ],
      "metadata": {
        "id": "HCAjnAWOqarN",
        "colab": {
          "base_uri": "https://localhost:8080/"
        },
        "outputId": "65ffbafa-3f5a-4620-a0c4-f9c73a95ce36"
      },
      "execution_count": null,
      "outputs": [
        {
          "output_type": "execute_result",
          "data": {
            "text/plain": [
              "[11, 22, 99]"
            ]
          },
          "metadata": {},
          "execution_count": 75
        }
      ]
    },
    {
      "cell_type": "code",
      "source": [
        "grade[:3] # 預設從0 開始, [11,22,99]"
      ],
      "metadata": {
        "id": "jzT_Y6aJqbk2",
        "colab": {
          "base_uri": "https://localhost:8080/"
        },
        "outputId": "44b30cf8-8d5d-43b4-f206-8463eb01e686"
      },
      "execution_count": null,
      "outputs": [
        {
          "output_type": "execute_result",
          "data": {
            "text/plain": [
              "[11, 22, 99]"
            ]
          },
          "metadata": {},
          "execution_count": 76
        }
      ]
    },
    {
      "cell_type": "code",
      "source": [
        "grade[3:] # [35,59]"
      ],
      "metadata": {
        "id": "oTElC8-8qd9d",
        "colab": {
          "base_uri": "https://localhost:8080/"
        },
        "outputId": "0692bfe8-dbf7-4708-bdea-1c0a8a3947d5"
      },
      "execution_count": null,
      "outputs": [
        {
          "output_type": "execute_result",
          "data": {
            "text/plain": [
              "[35, 59]"
            ]
          },
          "metadata": {},
          "execution_count": 77
        }
      ]
    },
    {
      "cell_type": "code",
      "source": [
        "grade[-1] # 59, 倒數第⼀個"
      ],
      "metadata": {
        "id": "IioKaaD4qfIE",
        "colab": {
          "base_uri": "https://localhost:8080/"
        },
        "outputId": "79b3b6d9-7716-45dc-f0ab-b34b49acd315"
      },
      "execution_count": null,
      "outputs": [
        {
          "output_type": "execute_result",
          "data": {
            "text/plain": [
              "59"
            ]
          },
          "metadata": {},
          "execution_count": 78
        }
      ]
    },
    {
      "cell_type": "code",
      "source": [
        "grade[::2] # 11,99,59 ⼀次跳兩步"
      ],
      "metadata": {
        "id": "Dss3B_kjqgcK",
        "colab": {
          "base_uri": "https://localhost:8080/"
        },
        "outputId": "55b8c9ab-e0ec-4935-f8e3-8eb9bdb65961"
      },
      "execution_count": null,
      "outputs": [
        {
          "output_type": "execute_result",
          "data": {
            "text/plain": [
              "[11, 59]"
            ]
          },
          "metadata": {},
          "execution_count": 82
        }
      ]
    },
    {
      "cell_type": "code",
      "source": [
        "### list 是可瀏覽的\n",
        "students = ['nick', 'albert', 'jie']\n",
        "\n",
        "# for list\n",
        "for st in students: # 印出所有學生姓名\n",
        "    print (st)"
      ],
      "metadata": {
        "id": "GEsFZZPlh2cr"
      },
      "execution_count": null,
      "outputs": []
    },
    {
      "cell_type": "code",
      "source": [
        "# 整體資料的運算\n",
        "sum = 0\n",
        "for g in grade:\n",
        "  sum += g\n",
        "print (sum//len(grade))"
      ],
      "metadata": {
        "id": "s99BDbR1iF8W"
      },
      "execution_count": null,
      "outputs": []
    },
    {
      "cell_type": "markdown",
      "source": [
        "## List 常用函式"
      ],
      "metadata": {
        "id": "z-_SnEguqtVp"
      }
    },
    {
      "cell_type": "code",
      "source": [
        "students = ['nick','nick','nick', 'albert', 'jie']\n",
        "age =[12, 56, 40]\n",
        "# list 相關函式\n",
        "len(age) # 元素個數"
      ],
      "metadata": {
        "id": "JGk-hzDcqveH",
        "colab": {
          "base_uri": "https://localhost:8080/"
        },
        "outputId": "d827920b-189b-4777-a552-cd0fc49aa732"
      },
      "execution_count": null,
      "outputs": [
        {
          "output_type": "execute_result",
          "data": {
            "text/plain": [
              "3"
            ]
          },
          "metadata": {},
          "execution_count": 88
        }
      ]
    },
    {
      "cell_type": "code",
      "source": [
        "max(age) # 取得最大的元素值"
      ],
      "metadata": {
        "id": "wah5wT1BqhfY",
        "colab": {
          "base_uri": "https://localhost:8080/"
        },
        "outputId": "de133d68-26d2-4ea4-8a97-e60247eed1c3"
      },
      "execution_count": null,
      "outputs": [
        {
          "output_type": "execute_result",
          "data": {
            "text/plain": [
              "56"
            ]
          },
          "metadata": {},
          "execution_count": 84
        }
      ]
    },
    {
      "cell_type": "code",
      "source": [
        "min(age) # 取得最小的元素值"
      ],
      "metadata": {
        "id": "mk3ZFUlmp3nb",
        "colab": {
          "base_uri": "https://localhost:8080/"
        },
        "outputId": "62bdcfbe-8804-4ac1-fa91-6d8403bc9eb8"
      },
      "execution_count": null,
      "outputs": [
        {
          "output_type": "execute_result",
          "data": {
            "text/plain": [
              "12"
            ]
          },
          "metadata": {},
          "execution_count": 85
        }
      ]
    },
    {
      "cell_type": "code",
      "source": [
        "age2 = sorted(age) # 傳回排序後的結果, age 本身不被排序\n",
        "age2"
      ],
      "metadata": {
        "id": "GdTlonnbq1-J",
        "colab": {
          "base_uri": "https://localhost:8080/"
        },
        "outputId": "752dc5e6-cbbf-4164-fa06-bd700629523d"
      },
      "execution_count": null,
      "outputs": [
        {
          "output_type": "execute_result",
          "data": {
            "text/plain": [
              "[12, 40, 56]"
            ]
          },
          "metadata": {},
          "execution_count": 86
        }
      ]
    },
    {
      "cell_type": "code",
      "source": [
        "# list method\n",
        "c = students.count('nick') # 符合的元素數量\n",
        "c"
      ],
      "metadata": {
        "id": "mVvJbtarq8VA",
        "colab": {
          "base_uri": "https://localhost:8080/"
        },
        "outputId": "b2457fd4-48de-4a46-b13f-b4898c2f11a9"
      },
      "execution_count": null,
      "outputs": [
        {
          "output_type": "execute_result",
          "data": {
            "text/plain": [
              "3"
            ]
          },
          "metadata": {},
          "execution_count": 89
        }
      ]
    },
    {
      "cell_type": "code",
      "source": [
        "idx = students.index('nick') # 所在位置（0 開始）\n",
        "idx"
      ],
      "metadata": {
        "id": "6OVLnpvfrEUQ",
        "colab": {
          "base_uri": "https://localhost:8080/"
        },
        "outputId": "680370d9-e2c3-47be-876d-368ad4eb5970"
      },
      "execution_count": null,
      "outputs": [
        {
          "output_type": "execute_result",
          "data": {
            "text/plain": [
              "0"
            ]
          },
          "metadata": {},
          "execution_count": 91
        }
      ]
    },
    {
      "cell_type": "markdown",
      "source": [
        "二維陣列(List of List /2-Dimensional Array)"
      ],
      "metadata": {
        "id": "FXbaDOJfKn7q"
      }
    },
    {
      "cell_type": "code",
      "source": [
        "##### list of list\n",
        "# List of List\n",
        "grade = [[11, 22, 33], [44, 55, 66],\n",
        "      [77, 88, 99], [90, 91, 92]]\n",
        "grade"
      ],
      "metadata": {
        "id": "j9xY0Ooci3l9",
        "colab": {
          "base_uri": "https://localhost:8080/"
        },
        "outputId": "c850288f-8d21-49fe-8e62-965ddfc5cc3e"
      },
      "execution_count": null,
      "outputs": [
        {
          "output_type": "execute_result",
          "data": {
            "text/plain": [
              "[[11, 22, 33], [44, 55, 66], [77, 88, 99], [90, 91, 92]]"
            ]
          },
          "metadata": {},
          "execution_count": 92
        }
      ]
    },
    {
      "cell_type": "code",
      "source": [
        "grade[2]"
      ],
      "metadata": {
        "id": "QZgzo6VXLk-U",
        "colab": {
          "base_uri": "https://localhost:8080/"
        },
        "outputId": "ad0a9328-e06b-4150-8572-dc599200f3e9"
      },
      "execution_count": null,
      "outputs": [
        {
          "output_type": "execute_result",
          "data": {
            "text/plain": [
              "[77, 88, 99]"
            ]
          },
          "metadata": {},
          "execution_count": 93
        }
      ]
    },
    {
      "cell_type": "code",
      "source": [
        "grade[3][2] # 77"
      ],
      "metadata": {
        "id": "2ps0Rga2jA1y",
        "colab": {
          "base_uri": "https://localhost:8080/"
        },
        "outputId": "d546af5c-703b-455f-9338-6cd91bb9b9eb"
      },
      "execution_count": null,
      "outputs": [
        {
          "output_type": "execute_result",
          "data": {
            "text/plain": [
              "92"
            ]
          },
          "metadata": {},
          "execution_count": 95
        }
      ]
    },
    {
      "cell_type": "code",
      "source": [
        "for row in grade:\n",
        "  # print(row, end=' ')\n",
        "  for element in row:\n",
        "    print(element, end=' ')\n",
        "  print()"
      ],
      "metadata": {
        "id": "FNGF8PVIspD1",
        "colab": {
          "base_uri": "https://localhost:8080/"
        },
        "outputId": "fffbbcd0-254f-494d-81d6-8047cb694919"
      },
      "execution_count": null,
      "outputs": [
        {
          "output_type": "stream",
          "name": "stdout",
          "text": [
            "11 22 33 \n",
            "44 55 66 \n",
            "77 88 99 \n",
            "90 91 92 \n"
          ]
        }
      ]
    },
    {
      "cell_type": "markdown",
      "source": [
        "### Lab: 計算每科目的總和"
      ],
      "metadata": {
        "id": "rkkLGDYjSJV_"
      }
    },
    {
      "cell_type": "code",
      "source": [],
      "metadata": {
        "id": "vpImRiY8SE4d"
      },
      "execution_count": null,
      "outputs": []
    },
    {
      "cell_type": "markdown",
      "source": [
        "使用enumerate"
      ],
      "metadata": {
        "id": "ZqT5DMGWNWou"
      }
    },
    {
      "cell_type": "code",
      "source": [
        "# 列舉(enumerate)\n",
        "### list 是可瀏覽的\n",
        "students = ['nick', 'albert', 'jie']\n",
        "for i, st in enumerate(students):\n",
        "  print (i, st)"
      ],
      "metadata": {
        "id": "lNnGeuiciK-W",
        "colab": {
          "base_uri": "https://localhost:8080/"
        },
        "outputId": "246cd538-5fa9-4b1c-807a-fb9cf17fecbf"
      },
      "execution_count": null,
      "outputs": [
        {
          "output_type": "stream",
          "name": "stdout",
          "text": [
            "0 nick\n",
            "1 albert\n",
            "2 jie\n"
          ]
        }
      ]
    },
    {
      "cell_type": "code",
      "source": [
        "# 利用enumerate 簡化\n",
        "grade = [11,22,99,35,59]\n",
        "print(grade)\n",
        "for j, k in enumerate(grade):\n",
        "  print(j, k)\n",
        "  if k < 60:\n",
        "    grade[j] = 60\n",
        "print(grade)"
      ],
      "metadata": {
        "id": "cr7unNJMofee",
        "colab": {
          "base_uri": "https://localhost:8080/"
        },
        "outputId": "4ad6ffbb-aedc-485a-c637-a84406f17f8f"
      },
      "execution_count": null,
      "outputs": [
        {
          "output_type": "stream",
          "name": "stdout",
          "text": [
            "[11, 22, 99, 35, 59]\n",
            "0 11\n",
            "1 22\n",
            "2 99\n",
            "3 35\n",
            "4 59\n",
            "[60, 60, 99, 60, 60]\n"
          ]
        }
      ]
    },
    {
      "cell_type": "code",
      "source": [
        "# enumerate\n",
        "# List of List\n",
        "grade = [[11, 22, 33], [44, 55, 66],\n",
        "     [77, 88, 99], [90, 91, 92]]\n",
        "for i, row in enumerate(grade):\n",
        "    for j, element in enumerate(row):\n",
        "        print ('grade[{}][{}]={}'.format(i,j,element), end='; ')\n",
        "    print ()"
      ],
      "metadata": {
        "id": "CDCJ07u8jCwf",
        "colab": {
          "base_uri": "https://localhost:8080/"
        },
        "outputId": "c54f58e8-62c9-4c70-83aa-e3231285a9a1"
      },
      "execution_count": null,
      "outputs": [
        {
          "output_type": "stream",
          "name": "stdout",
          "text": [
            "grade[0][0]=11; grade[0][1]=22; grade[0][2]=33; \n",
            "grade[1][0]=44; grade[1][1]=55; grade[1][2]=66; \n",
            "grade[2][0]=77; grade[2][1]=88; grade[2][2]=99; \n",
            "grade[3][0]=90; grade[3][1]=91; grade[3][2]=92; \n"
          ]
        }
      ]
    },
    {
      "cell_type": "markdown",
      "source": [
        "### Lab: 計算每科目的總和"
      ],
      "metadata": {
        "id": "MQOTWjOMtbKC"
      }
    },
    {
      "cell_type": "code",
      "source": [
        "# 使用 enumerate 計算每科目的總和\n"
      ],
      "metadata": {
        "id": "XiJcYC44jE-r"
      },
      "execution_count": null,
      "outputs": []
    },
    {
      "cell_type": "markdown",
      "source": [
        "List 的進階用法- list comprehension"
      ],
      "metadata": {
        "id": "df_aDJXCL-mS"
      }
    },
    {
      "cell_type": "code",
      "source": [
        "a = [i for i in range(0, 10, 2)]\n",
        "# 產生[0, 2, 4, 6, 8]\n",
        "a"
      ],
      "metadata": {
        "id": "xHVu45OFsxXU"
      },
      "execution_count": null,
      "outputs": []
    },
    {
      "cell_type": "code",
      "source": [
        "a = [i for i in range(10)]\n",
        "# 產生[0, 1, 2, 3, 4, 5, 6, 7, 8, 9]\n",
        "a"
      ],
      "metadata": {
        "id": "R69jxAOztCto"
      },
      "execution_count": null,
      "outputs": []
    },
    {
      "cell_type": "markdown",
      "source": [
        "## 排序\n",
        "* data.sort(): 由小到大排序，sort() 會改變本身的資料;\n",
        "\n",
        "* data.sort(reverse=True): 由大到小排序，sorted()不會改變資料，但會回傳⼀個已排序的"
      ],
      "metadata": {
        "id": "sewRiE8Tru4r"
      }
    },
    {
      "cell_type": "markdown",
      "source": [
        "Lab 4 成績加總排序"
      ],
      "metadata": {
        "id": "Yc9hoOpB-yhQ"
      }
    },
    {
      "cell_type": "code",
      "source": [],
      "metadata": {
        "id": "FZWlzsY3SXGA"
      },
      "execution_count": null,
      "outputs": []
    },
    {
      "cell_type": "markdown",
      "source": [
        "## Tuple"
      ],
      "metadata": {
        "id": "WA_INCWvrj1C"
      }
    },
    {
      "cell_type": "code",
      "source": [
        "# 建立 tuple\n",
        "tup1 = ('Nick', 172, 75)\n",
        "tup2 = (1, 2, 3, 4, 5 )\n",
        "tup3 = \"a\", \"b\", \"c\", \"d\"\n",
        "tup4 = tuple([1, 2, 3, 4, 5])  # 由 List 中建立\n",
        "# tup2[0] = 100                  # ERROR!\n",
        "# tup2.append(12)"
      ],
      "metadata": {
        "id": "LYK6dUfiriWD"
      },
      "execution_count": null,
      "outputs": []
    },
    {
      "cell_type": "code",
      "source": [
        "# Tuple 比較省\n",
        "\n",
        "li_grade = [11, 22, 99, 35, 59] # list\n",
        "tu_grade = (11, 22, 99, 35, 59) # tuple\n"
      ],
      "metadata": {
        "id": "pVaMSqGQrwmw"
      },
      "execution_count": null,
      "outputs": []
    },
    {
      "cell_type": "code",
      "source": [
        "import sys\n",
        "print (sys.getsizeof(li_grade))\n",
        "print (sys.getsizeof(tu_grade))"
      ],
      "metadata": {
        "id": "KefeiXserzw4"
      },
      "execution_count": null,
      "outputs": []
    },
    {
      "cell_type": "code",
      "source": [
        "# Tuple 比較快\n",
        "\n",
        "import timeit\n",
        "do_list = timeit.timeit(stmt = '[1,2,3,4,5]',\n",
        "             number = 10000000)\n",
        "do_tupl = timeit.timeit(stmt = '(1,2,3,4,5)',\n",
        "             number = 10000000)\n",
        "print (do_list)\n",
        "print (do_tupl)"
      ],
      "metadata": {
        "id": "JXoS-D2Fr2Vi"
      },
      "execution_count": null,
      "outputs": []
    },
    {
      "cell_type": "code",
      "source": [
        "print(do_list)\n",
        "print(do_tupl)"
      ],
      "metadata": {
        "id": "XkSHCs5nrqSZ"
      },
      "execution_count": null,
      "outputs": []
    },
    {
      "cell_type": "code",
      "source": [
        "'''\n",
        " Tuple 資料的查取，和 List 幾乎一樣\n",
        " tup1 = ('Nick', 172, 75)\n",
        " tup2 = (1, 2, 3, 4, 5 )\n",
        " tup3 = \"a\", \"b\", \"c\", \"d\"\n",
        " tup4 = tuple([1, 2, 3, 4, 5])  # 由 List 中建立\n",
        "'''\n",
        "# Get the elements\n",
        "print(tup1[0])\n",
        "# print(tup2(1:4))   # ERROR\n",
        "print(tup2[1:4])   # (2, 3, 4)\n",
        "print(tup2[-1])    # 5"
      ],
      "metadata": {
        "id": "J1KJbOxfsAkB"
      },
      "execution_count": null,
      "outputs": []
    },
    {
      "cell_type": "code",
      "source": [
        "# Function and method\n",
        "len(tup2) \t\t# 5"
      ],
      "metadata": {
        "id": "HdQBEiCnsHGV"
      },
      "execution_count": null,
      "outputs": []
    },
    {
      "cell_type": "code",
      "source": [
        "tup2.count(1)\t# 1"
      ],
      "metadata": {
        "id": "YQL1rEjwsWkF"
      },
      "execution_count": null,
      "outputs": []
    },
    {
      "cell_type": "code",
      "source": [
        "tup2.index(1)\t# 0"
      ],
      "metadata": {
        "id": "W17l9sIcsYup"
      },
      "execution_count": null,
      "outputs": []
    },
    {
      "cell_type": "code",
      "source": [
        "tup2 = tup2 + tuple([6])\t# ok(1,2,3,4,5,6)\n",
        "tup2"
      ],
      "metadata": {
        "id": "W4ANuLOFsbET"
      },
      "execution_count": null,
      "outputs": []
    },
    {
      "cell_type": "code",
      "source": [
        "tup2 = tup2 + (6)\t        # error\n",
        "tup2"
      ],
      "metadata": {
        "id": "Hits88fYscyY"
      },
      "execution_count": null,
      "outputs": []
    },
    {
      "cell_type": "code",
      "source": [
        "(3, 4) * 2  # returns (3, 4, 3, 4)"
      ],
      "metadata": {
        "id": "zsLdRL5Ps9pE"
      },
      "execution_count": null,
      "outputs": []
    },
    {
      "cell_type": "code",
      "source": [
        "# Sort a list of tuples\n",
        "tens = [(20, 60), (10, 40), (20, 30)]\n",
        "s2 = sorted(tens)\n",
        "s2"
      ],
      "metadata": {
        "id": "Sbo4kMnUs_oy"
      },
      "execution_count": null,
      "outputs": []
    },
    {
      "cell_type": "code",
      "source": [
        "# Tuple unpacking\n",
        "person = ('male', 10, 'nick')   # create a tuple\n",
        "(sex, age, surname) = person    # assign three values at once\n",
        "print(sex, age, surname)"
      ],
      "metadata": {
        "id": "eKtd-GAptDBk"
      },
      "execution_count": null,
      "outputs": []
    },
    {
      "cell_type": "code",
      "source": [
        "sex, age, surname = person      # assign three values at once"
      ],
      "metadata": {
        "id": "lYyoeQ82uCHW"
      },
      "execution_count": null,
      "outputs": []
    },
    {
      "cell_type": "code",
      "source": [
        "sex, age = person          # ERROR"
      ],
      "metadata": {
        "id": "TLuXLpYhtBwn"
      },
      "execution_count": null,
      "outputs": []
    }
  ]
}
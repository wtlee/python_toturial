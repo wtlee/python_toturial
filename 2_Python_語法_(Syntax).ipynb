{
  "cells": [
    {
      "cell_type": "markdown",
      "metadata": {
        "id": "view-in-github",
        "colab_type": "text"
      },
      "source": [
        "<a href=\"https://colab.research.google.com/github/wtlee/python_toturial/blob/main/2_Python_%E8%AA%9E%E6%B3%95_(Syntax).ipynb\" target=\"_parent\"><img src=\"https://colab.research.google.com/assets/colab-badge.svg\" alt=\"Open In Colab\"/></a>"
      ]
    },
    {
      "cell_type": "markdown",
      "id": "768ec242",
      "metadata": {
        "id": "768ec242"
      },
      "source": [
        "## 2. Python Syntax\n",
        "                                    20210713 by Wen-Tin Lee\n",
        "## 寫註解\n",
        "註解的內容不需要執行也不能執行，只希望讓我們看懂程式撰寫的意思，增加程式的可讀性\n",
        "### 有兩種註解方式\n",
        "#### 第一種單行的註解\n",
        "註解方式用#字號來標示 <br>\n",
        "比如說<br>\n",
        "#我的第一個Python程式<br>\n",
        "這樣不會被執行<br>\n",
        "下面的print(Hello,World)才會被執行"
      ]
    },
    {
      "cell_type": "code",
      "execution_count": null,
      "id": "eb5dd23e",
      "metadata": {
        "scrolled": true,
        "id": "eb5dd23e",
        "outputId": "e34c18e8-06b8-4941-d87a-299d63cd2785",
        "colab": {
          "base_uri": "https://localhost:8080/"
        }
      },
      "outputs": [
        {
          "output_type": "stream",
          "name": "stdout",
          "text": [
            "Hello Python!\n"
          ]
        }
      ],
      "source": [
        "# 我的第一個Python程式\n",
        "# 我的第一個Python程式\n",
        "# 我的第一個Python程式\n",
        "print(\"Hello Python!\")"
      ]
    },
    {
      "cell_type": "markdown",
      "id": "c4a254c5",
      "metadata": {
        "id": "c4a254c5"
      },
      "source": [
        "#### 第二種標示多行註解的方式\n",
        "適用於<br>\n",
        "連續三個單引號 或 連續三個雙引號<br>\n",
        "\n",
        "  要在註解的前面先用三個單引號'''<br>\n",
        "  註解結束的地方再用三個單引號'''<br>\n",
        "  或<br>\n",
        "  在註解開始的地方用三個雙引號\"\"\"<br>\n",
        "  註解結束的地方用三個雙引號\"\"\"<br>\n",
        "  記得<br>\n",
        "  要 單對單 雙對雙"
      ]
    },
    {
      "cell_type": "code",
      "execution_count": null,
      "id": "e149805a",
      "metadata": {
        "id": "e149805a",
        "outputId": "0eb09a72-d2f4-4461-d11b-7f7a159d39e4",
        "colab": {
          "base_uri": "https://localhost:8080/"
        }
      },
      "outputs": [
        {
          "output_type": "stream",
          "name": "stdout",
          "text": [
            "Hello Python!\n"
          ]
        }
      ],
      "source": [
        "'''多行註解\n",
        "我的第一個Python程式\n",
        "我的第一個Python程式\n",
        "我的第一個Python程式\n",
        "我的第一個Python程式\n",
        "我的第一個Python程式\n",
        "'''\n",
        "\"\"\"\n",
        "多行註解\n",
        "我的第一個Python程式\n",
        "\"\"\"\n",
        "print(\"Hello Python!\")"
      ]
    },
    {
      "cell_type": "markdown",
      "id": "3ed00e00",
      "metadata": {
        "id": "3ed00e00"
      },
      "source": [
        "### 在使用變數前，需要對其先賦值<br>\n",
        "變數第一次指定就要設定初始值，沒先指定就直接使用會出現錯誤。\n"
      ]
    },
    {
      "cell_type": "code",
      "execution_count": null,
      "id": "bbd195bd",
      "metadata": {
        "id": "bbd195bd",
        "colab": {
          "base_uri": "https://localhost:8080/"
        },
        "outputId": "497befa3-e85d-4eb9-cec1-031033ea279c"
      },
      "outputs": [
        {
          "output_type": "stream",
          "name": "stdout",
          "text": [
            "8\n"
          ]
        }
      ],
      "source": [
        "weight = 8\n",
        "print(weight)"
      ]
    },
    {
      "cell_type": "code",
      "execution_count": null,
      "id": "002baf6a",
      "metadata": {
        "id": "002baf6a",
        "outputId": "25e7fc6e-2dc2-4b87-b08f-5db35f6252cf",
        "colab": {
          "base_uri": "https://localhost:8080/"
        }
      },
      "outputs": [
        {
          "output_type": "stream",
          "name": "stdout",
          "text": [
            "10\n"
          ]
        }
      ],
      "source": [
        "weight = 10\n",
        "print(weight)"
      ]
    },
    {
      "cell_type": "markdown",
      "id": "0b3f74a1",
      "metadata": {
        "id": "0b3f74a1"
      },
      "source": [
        "### 命名規則<br>\n",
        "變數名可以包括字母、數字、下劃線，但不能以數字開頭；<br>\n",
        "區分大小寫"
      ]
    },
    {
      "cell_type": "code",
      "execution_count": null,
      "id": "25f2439f",
      "metadata": {
        "id": "25f2439f",
        "outputId": "04ca2a26-9d47-41ba-cd8d-37669bb47aae",
        "colab": {
          "base_uri": "https://localhost:8080/"
        }
      },
      "outputs": [
        {
          "output_type": "execute_result",
          "data": {
            "text/plain": [
              "('Nick', 92, 88, 60)"
            ]
          },
          "metadata": {},
          "execution_count": 2
        }
      ],
      "source": [
        "x = 100\n",
        "y = 200\n",
        "z = 300; w = 400 # 利用 ; 來區分敘述句\n",
        "p = q = r = s = 100\n",
        "name, eng, math, phy = \"Nick\", 92, 88, 60\n",
        "name,eng,math,phy"
      ]
    },
    {
      "cell_type": "code",
      "execution_count": null,
      "id": "02727113",
      "metadata": {
        "id": "02727113",
        "outputId": "a5de19d0-bb78-485b-c404-284c4ea4335e",
        "colab": {
          "base_uri": "https://localhost:8080/",
          "height": 35
        }
      },
      "outputs": [
        {
          "output_type": "execute_result",
          "data": {
            "text/plain": [
              "'Nick'"
            ],
            "application/vnd.google.colaboratory.intrinsic+json": {
              "type": "string"
            }
          },
          "metadata": {},
          "execution_count": 21
        }
      ],
      "source": [
        "name"
      ]
    },
    {
      "cell_type": "markdown",
      "id": "41c3a7a2",
      "metadata": {
        "id": "41c3a7a2"
      },
      "source": [
        "### 命名規則\n",
        "不可數字開始: 3employee 錯誤<br>\n",
        "不可使用特殊字元<br>\n",
        "&, #, * @ 等特殊字元皆不可<br>\n",
        "大小寫不同<br>\n",
        "employee, Employee 代表的是不同的變數<br>\n",
        "不可與 保留字 相同<br>\n",
        "例如 for, else, import 等都是系統的保留字!"
      ]
    },
    {
      "cell_type": "code",
      "execution_count": null,
      "id": "63a92f27",
      "metadata": {
        "id": "63a92f27",
        "outputId": "6c12ac33-ac73-4f9c-9246-4a4e4c9ab242",
        "colab": {
          "base_uri": "https://localhost:8080/",
          "height": 144
        }
      },
      "outputs": [
        {
          "output_type": "error",
          "ename": "SyntaxError",
          "evalue": "ignored",
          "traceback": [
            "\u001b[0;36m  File \u001b[0;32m\"<ipython-input-25-9f43a62a55b0>\"\u001b[0;36m, line \u001b[0;32m4\u001b[0m\n\u001b[0;31m    and = 1            # Error, and 是保留字\u001b[0m\n\u001b[0m    ^\u001b[0m\n\u001b[0;31mSyntaxError\u001b[0m\u001b[0;31m:\u001b[0m invalid syntax\n"
          ]
        }
      ],
      "source": [
        "3employee = 10\n",
        "# &age = 20\n",
        "# class = 'A'\n",
        "and = 1            # Error, and 是保留字\n",
        "# @employ = 1    # Error, @ 是特殊字元\n"
      ]
    },
    {
      "cell_type": "markdown",
      "id": "c08047a8",
      "metadata": {
        "id": "c08047a8"
      },
      "source": [
        "### 變數型態"
      ]
    },
    {
      "cell_type": "code",
      "source": [
        "# 整數運算\n",
        "x = 5\n",
        "y = 2\n",
        "sum_result = x + y  # 加法\n",
        "diff_result = x - y  # 減法\n",
        "mul_result = x * y  # 乘法\n",
        "div_result = x / y  # 除法\n",
        "mod_result = x % y  # 取餘數\n",
        "\n",
        "# 浮點數運算\n",
        "a = 3.14\n",
        "b = 1.5\n",
        "product = a * b  # 乘法\n",
        "quotient = a / b  # 除法\n",
        "\n",
        "# 整數轉換為浮點數\n",
        "int_to_float = float(x)\n",
        "\n",
        "# 浮點數轉換為整數\n",
        "float_to_int = int(b)"
      ],
      "metadata": {
        "id": "4j66c97rkHeB"
      },
      "id": "4j66c97rkHeB",
      "execution_count": null,
      "outputs": []
    },
    {
      "cell_type": "code",
      "source": [
        "float_to_int"
      ],
      "metadata": {
        "colab": {
          "base_uri": "https://localhost:8080/"
        },
        "id": "HrvbW1nzneF7",
        "outputId": "b03a80b2-2e11-4077-b290-cb052bc4acd6"
      },
      "id": "HrvbW1nzneF7",
      "execution_count": null,
      "outputs": [
        {
          "output_type": "execute_result",
          "data": {
            "text/plain": [
              "1"
            ]
          },
          "metadata": {},
          "execution_count": 35
        }
      ]
    },
    {
      "cell_type": "code",
      "source": [
        "x = 5\n",
        "y = 10\n",
        "is_greater = x > y\n",
        "is_greater\n",
        "z = None\n",
        "type(z)\n"
      ],
      "metadata": {
        "id": "to66joMgkIUu",
        "colab": {
          "base_uri": "https://localhost:8080/"
        },
        "outputId": "f009c326-c70c-4309-a02b-a21e935926ac"
      },
      "id": "to66joMgkIUu",
      "execution_count": null,
      "outputs": [
        {
          "output_type": "execute_result",
          "data": {
            "text/plain": [
              "NoneType"
            ]
          },
          "metadata": {},
          "execution_count": 6
        }
      ]
    },
    {
      "cell_type": "code",
      "execution_count": null,
      "id": "08197a4c",
      "metadata": {
        "id": "08197a4c"
      },
      "outputs": [],
      "source": [
        "a = 100       # int 型態\n",
        "b = 8.9       # float 型態\n",
        "c = \"Tim\"     # str 字串型態\n",
        "d = 'wtlee'   # str 字串型態\n",
        "e = True      # 布林 boolean 型態\n",
        "f = False     # 布林 boolean 型態\n",
        "g = 10 + 1j   # 複數 complex 型態\n",
        "h = 5 + 1j    # 複數 complex 型態\n",
        "list1 = [1, 2, 3, 4]          # list 型態\n",
        "tuple1 = (5, 6, 7)            # tuple 型態\n",
        "set1 = {\"x\", \"y\", \"z\"}        # set 型態\n",
        "dictionary1 = {0:\"a\", 1:\"b\"}  # dict 型態"
      ]
    },
    {
      "cell_type": "markdown",
      "id": "b049900e",
      "metadata": {
        "id": "b049900e"
      },
      "source": [
        "### 變數命名需有意義"
      ]
    },
    {
      "cell_type": "code",
      "execution_count": null,
      "id": "af75d5c3",
      "metadata": {
        "id": "af75d5c3"
      },
      "outputs": [],
      "source": [
        "grade = 100                   # int 型態\n",
        "temperature = 8.9             # float 型態\n",
        "name = \"Tim\"                  # str 字串型態\n",
        "teacherName = 'wtlee'         # str 字串型態\n",
        "isTeacher = True              # 布林 boolean 型態\n",
        "getPass = False               # 布林 boolean 型態\n",
        "List1 = [1, 2, 3, 4]          # list 型態\n",
        "tuple1 = (5, 6, 7)            # tuple 型態\n",
        "set1 = {\"x\", \"y\", \"z\"}        # set 型態\n",
        "dictionary1 = {0:\"a\", 1:\"b\"}  # dict 型態"
      ]
    },
    {
      "cell_type": "code",
      "source": [
        "type(dictionary1)\n"
      ],
      "metadata": {
        "colab": {
          "base_uri": "https://localhost:8080/"
        },
        "id": "HI1652D8rZQn",
        "outputId": "8cd38f7f-01fc-4a23-f213-bbb8c3db89b5"
      },
      "id": "HI1652D8rZQn",
      "execution_count": null,
      "outputs": [
        {
          "output_type": "execute_result",
          "data": {
            "text/plain": [
              "dict"
            ]
          },
          "metadata": {},
          "execution_count": 49
        }
      ]
    },
    {
      "cell_type": "code",
      "source": [
        "# 布林型別\n",
        "is_true = True\n",
        "is_false = False\n",
        "\n",
        "# 複數型別\n",
        "complex_num_1 = complex(3, 2)  # 創建複數 3 + 2j\n",
        "complex_num_2 = 1 + 4j  # 創建複數 1 + 4j\n",
        "\n",
        "# 複數運算\n",
        "sum_complex = complex_num_1 + complex_num_2  # 相加\n",
        "diff_complex = complex_num_1 - complex_num_2  # 相減\n",
        "product_complex = complex_num_1 * complex_num_2  # 相乘\n",
        "quotient_complex = complex_num_1 / complex_num_2  # 相除"
      ],
      "metadata": {
        "id": "YEfHkG2rkSRT"
      },
      "id": "YEfHkG2rkSRT",
      "execution_count": null,
      "outputs": []
    },
    {
      "cell_type": "code",
      "source": [
        "product_complex"
      ],
      "metadata": {
        "colab": {
          "base_uri": "https://localhost:8080/"
        },
        "id": "A1cuUNRWuBZO",
        "outputId": "d0b6ae27-b3e5-48e6-95e2-ea040f6661b8"
      },
      "id": "A1cuUNRWuBZO",
      "execution_count": null,
      "outputs": [
        {
          "output_type": "execute_result",
          "data": {
            "text/plain": [
              "(-5+14j)"
            ]
          },
          "metadata": {},
          "execution_count": 44
        }
      ]
    },
    {
      "cell_type": "markdown",
      "id": "77610599",
      "metadata": {
        "id": "77610599"
      },
      "source": [
        "### 變數型態"
      ]
    },
    {
      "cell_type": "code",
      "execution_count": null,
      "id": "adda419c",
      "metadata": {
        "id": "adda419c",
        "outputId": "2efbbeef-6edc-4f13-bcdf-ec30f6a4dc73",
        "colab": {
          "base_uri": "https://localhost:8080/"
        }
      },
      "outputs": [
        {
          "output_type": "stream",
          "name": "stdout",
          "text": [
            "3\n"
          ]
        }
      ],
      "source": [
        "a = 1\n",
        "b = 2\n",
        "print(a+b)"
      ]
    },
    {
      "cell_type": "code",
      "execution_count": null,
      "id": "7edca1b2",
      "metadata": {
        "id": "7edca1b2",
        "outputId": "7c47b72b-661c-4500-a2cd-3f62a793b369",
        "colab": {
          "base_uri": "https://localhost:8080/",
          "height": 214
        }
      },
      "outputs": [
        {
          "output_type": "error",
          "ename": "TypeError",
          "evalue": "ignored",
          "traceback": [
            "\u001b[0;31m---------------------------------------------------------------------------\u001b[0m",
            "\u001b[0;31mTypeError\u001b[0m                                 Traceback (most recent call last)",
            "\u001b[0;32m<ipython-input-14-a6ef7cb418bc>\u001b[0m in \u001b[0;36m<cell line: 3>\u001b[0;34m()\u001b[0m\n\u001b[1;32m      1\u001b[0m \u001b[0ma\u001b[0m \u001b[0;34m=\u001b[0m \u001b[0;34m'1'\u001b[0m\u001b[0;34m\u001b[0m\u001b[0;34m\u001b[0m\u001b[0m\n\u001b[1;32m      2\u001b[0m \u001b[0mb\u001b[0m \u001b[0;34m=\u001b[0m \u001b[0;36m2\u001b[0m\u001b[0;34m\u001b[0m\u001b[0;34m\u001b[0m\u001b[0m\n\u001b[0;32m----> 3\u001b[0;31m \u001b[0mprint\u001b[0m\u001b[0;34m(\u001b[0m\u001b[0ma\u001b[0m\u001b[0;34m+\u001b[0m\u001b[0mb\u001b[0m\u001b[0;34m)\u001b[0m\u001b[0;34m\u001b[0m\u001b[0;34m\u001b[0m\u001b[0m\n\u001b[0m",
            "\u001b[0;31mTypeError\u001b[0m: can only concatenate str (not \"int\") to str"
          ]
        }
      ],
      "source": [
        "a = '1'\n",
        "b = 2\n",
        "print(a+b)"
      ]
    },
    {
      "cell_type": "code",
      "execution_count": null,
      "id": "d88bae13",
      "metadata": {
        "id": "d88bae13",
        "outputId": "35c5c6cb-45a4-4766-a4c9-c7d0aa0074ae",
        "colab": {
          "base_uri": "https://localhost:8080/"
        }
      },
      "outputs": [
        {
          "output_type": "stream",
          "name": "stdout",
          "text": [
            "applebanana\n"
          ]
        }
      ],
      "source": [
        "x = 'apple'\n",
        "y = 'banana'\n",
        "print(x+y)"
      ]
    },
    {
      "cell_type": "code",
      "execution_count": null,
      "id": "1007a25e",
      "metadata": {
        "id": "1007a25e",
        "outputId": "a3b7ec6b-d41f-47fd-c426-1b1a793cd177",
        "colab": {
          "base_uri": "https://localhost:8080/",
          "height": 167
        }
      },
      "outputs": [
        {
          "output_type": "error",
          "ename": "TypeError",
          "evalue": "ignored",
          "traceback": [
            "\u001b[0;31m---------------------------------------------------------------------------\u001b[0m",
            "\u001b[0;31mTypeError\u001b[0m                                 Traceback (most recent call last)",
            "\u001b[0;32m<ipython-input-24-53a2b7d5baff>\u001b[0m in \u001b[0;36m<module>\u001b[0;34m()\u001b[0m\n\u001b[0;32m----> 1\u001b[0;31m \u001b[0mprint\u001b[0m\u001b[0;34m(\u001b[0m\u001b[0mx\u001b[0m\u001b[0;34m/\u001b[0m\u001b[0my\u001b[0m\u001b[0;34m)\u001b[0m              \u001b[0;31m# Error\u001b[0m\u001b[0;34m\u001b[0m\u001b[0;34m\u001b[0m\u001b[0m\n\u001b[0m",
            "\u001b[0;31mTypeError\u001b[0m: unsupported operand type(s) for /: 'str' and 'str'"
          ]
        }
      ],
      "source": [
        "print(x/y)              # Error"
      ]
    },
    {
      "cell_type": "markdown",
      "id": "5f8efb3b",
      "metadata": {
        "id": "5f8efb3b"
      },
      "source": [
        "### 型態轉換"
      ]
    },
    {
      "cell_type": "code",
      "execution_count": null,
      "id": "a78fb6fc",
      "metadata": {
        "id": "a78fb6fc",
        "outputId": "41dc5839-ec55-4177-dc38-4981fcc3bafd",
        "colab": {
          "base_uri": "https://localhost:8080/"
        }
      },
      "outputs": [
        {
          "output_type": "stream",
          "name": "stdout",
          "text": [
            "2\n"
          ]
        },
        {
          "output_type": "execute_result",
          "data": {
            "text/plain": [
              "2.0"
            ]
          },
          "metadata": {},
          "execution_count": 50
        }
      ],
      "source": [
        "# convert an object to a given type\n",
        "print(2)\n",
        "float(2)"
      ]
    },
    {
      "cell_type": "code",
      "execution_count": null,
      "id": "4888f2b8",
      "metadata": {
        "id": "4888f2b8",
        "outputId": "723ae783-e595-4223-d45c-35a7823c2ca8",
        "colab": {
          "base_uri": "https://localhost:8080/"
        }
      },
      "outputs": [
        {
          "output_type": "execute_result",
          "data": {
            "text/plain": [
              "105"
            ]
          },
          "metadata": {},
          "execution_count": 27
        }
      ],
      "source": [
        "int(105.9)"
      ]
    },
    {
      "cell_type": "code",
      "execution_count": null,
      "id": "5364dc1b",
      "metadata": {
        "id": "5364dc1b",
        "outputId": "52d0858c-9b97-4054-f5b2-37f3a646e6ac",
        "colab": {
          "base_uri": "https://localhost:8080/",
          "height": 35
        }
      },
      "outputs": [
        {
          "output_type": "execute_result",
          "data": {
            "text/plain": [
              "'2.9'"
            ],
            "application/vnd.google.colaboratory.intrinsic+json": {
              "type": "string"
            }
          },
          "metadata": {},
          "execution_count": 28
        }
      ],
      "source": [
        "str(2.9)"
      ]
    },
    {
      "cell_type": "code",
      "execution_count": null,
      "id": "084ac61f",
      "metadata": {
        "id": "084ac61f",
        "outputId": "6eef803e-b76b-47c5-ec30-8ef83c941ceb",
        "colab": {
          "base_uri": "https://localhost:8080/"
        }
      },
      "outputs": [
        {
          "output_type": "execute_result",
          "data": {
            "text/plain": [
              "str"
            ]
          },
          "metadata": {},
          "execution_count": 51
        }
      ],
      "source": [
        "type('Tim')"
      ]
    },
    {
      "cell_type": "code",
      "execution_count": null,
      "id": "72dc27eb",
      "metadata": {
        "id": "72dc27eb",
        "outputId": "5c41eb44-25ef-4987-9d9e-c86a6c257323"
      },
      "outputs": [
        {
          "data": {
            "text/plain": [
              "bool"
            ]
          },
          "execution_count": 18,
          "metadata": {},
          "output_type": "execute_result"
        }
      ],
      "source": [
        "type(False)"
      ]
    },
    {
      "cell_type": "code",
      "execution_count": null,
      "id": "a07d070b",
      "metadata": {
        "id": "a07d070b",
        "outputId": "dc993ae7-6009-4b3c-ee4b-6896d47442b7",
        "colab": {
          "base_uri": "https://localhost:8080/"
        }
      },
      "outputs": [
        {
          "output_type": "execute_result",
          "data": {
            "text/plain": [
              "False"
            ]
          },
          "metadata": {},
          "execution_count": 33
        }
      ],
      "source": [
        "# zero, None, and empty containers are converted to False\n",
        "bool(0)"
      ]
    },
    {
      "cell_type": "code",
      "execution_count": null,
      "id": "f6051e9c",
      "metadata": {
        "id": "f6051e9c",
        "outputId": "826f54fc-a14a-4ced-acfd-12099aa53754",
        "colab": {
          "base_uri": "https://localhost:8080/"
        }
      },
      "outputs": [
        {
          "output_type": "execute_result",
          "data": {
            "text/plain": [
              "True"
            ]
          },
          "metadata": {},
          "execution_count": 52
        }
      ],
      "source": [
        "bool(1)"
      ]
    },
    {
      "cell_type": "code",
      "execution_count": null,
      "id": "1d1bd1bd",
      "metadata": {
        "id": "1d1bd1bd",
        "outputId": "9c49881a-0101-45d7-ed28-90740f076f42",
        "colab": {
          "base_uri": "https://localhost:8080/"
        }
      },
      "outputs": [
        {
          "output_type": "execute_result",
          "data": {
            "text/plain": [
              "False"
            ]
          },
          "metadata": {},
          "execution_count": 53
        }
      ],
      "source": [
        "bool(None)"
      ]
    },
    {
      "cell_type": "code",
      "execution_count": null,
      "id": "876a9cfb",
      "metadata": {
        "id": "876a9cfb",
        "outputId": "ae3d3356-88a3-4b71-a8ec-0c0460bf80bd",
        "colab": {
          "base_uri": "https://localhost:8080/"
        }
      },
      "outputs": [
        {
          "output_type": "execute_result",
          "data": {
            "text/plain": [
              "True"
            ]
          },
          "metadata": {},
          "execution_count": 54
        }
      ],
      "source": [
        "bool('123')    # empty string"
      ]
    },
    {
      "cell_type": "code",
      "execution_count": null,
      "id": "b5ebab68",
      "metadata": {
        "id": "b5ebab68",
        "outputId": "a18811be-cd4b-4d04-d4fe-168c983960e8",
        "colab": {
          "base_uri": "https://localhost:8080/"
        }
      },
      "outputs": [
        {
          "output_type": "execute_result",
          "data": {
            "text/plain": [
              "True"
            ]
          },
          "metadata": {},
          "execution_count": 55
        }
      ],
      "source": [
        "bool([1])    # empty list"
      ]
    },
    {
      "cell_type": "code",
      "execution_count": null,
      "id": "63d3bf01",
      "metadata": {
        "id": "63d3bf01",
        "outputId": "185ab78f-e2cf-4e2d-bd9c-9fbd690de668",
        "colab": {
          "base_uri": "https://localhost:8080/"
        }
      },
      "outputs": [
        {
          "output_type": "execute_result",
          "data": {
            "text/plain": [
              "False"
            ]
          },
          "metadata": {},
          "execution_count": 56
        }
      ],
      "source": [
        "bool({})    # empty dictionary"
      ]
    },
    {
      "cell_type": "code",
      "execution_count": null,
      "id": "0e83c033",
      "metadata": {
        "id": "0e83c033",
        "outputId": "763d9cc9-1289-41cb-d05c-6e529e759329",
        "colab": {
          "base_uri": "https://localhost:8080/"
        }
      },
      "outputs": [
        {
          "output_type": "execute_result",
          "data": {
            "text/plain": [
              "True"
            ]
          },
          "metadata": {},
          "execution_count": 57
        }
      ],
      "source": [
        "# non-empty containers and non-zeros are converted to True\n",
        "bool(2)"
      ]
    },
    {
      "cell_type": "code",
      "execution_count": null,
      "id": "223ad0c1",
      "metadata": {
        "id": "223ad0c1",
        "outputId": "d41d1884-3d20-454d-a070-7caa5196d8f2",
        "colab": {
          "base_uri": "https://localhost:8080/"
        }
      },
      "outputs": [
        {
          "output_type": "execute_result",
          "data": {
            "text/plain": [
              "True"
            ]
          },
          "metadata": {},
          "execution_count": 13
        }
      ],
      "source": [
        "bool(\"1234\")"
      ]
    },
    {
      "cell_type": "code",
      "execution_count": null,
      "id": "341a93ee",
      "metadata": {
        "id": "341a93ee",
        "outputId": "d11ad265-f130-43df-89ee-eff07f122ff5"
      },
      "outputs": [
        {
          "data": {
            "text/plain": [
              "True"
            ]
          },
          "execution_count": 27,
          "metadata": {},
          "output_type": "execute_result"
        }
      ],
      "source": [
        "bool([2])"
      ]
    },
    {
      "cell_type": "markdown",
      "id": "8c2540fd",
      "metadata": {
        "id": "8c2540fd"
      },
      "source": [
        "### 檢查型態 check given type"
      ]
    },
    {
      "cell_type": "code",
      "execution_count": null,
      "id": "7cfedfb8",
      "metadata": {
        "id": "7cfedfb8",
        "outputId": "0d0b8812-f5c9-4444-f1ef-1e5f9165e466",
        "colab": {
          "base_uri": "https://localhost:8080/"
        }
      },
      "outputs": [
        {
          "output_type": "execute_result",
          "data": {
            "text/plain": [
              "True"
            ]
          },
          "metadata": {},
          "execution_count": 67
        }
      ],
      "source": [
        "# 檢查型態 check given type\n",
        "type(grade) == int      # True"
      ]
    },
    {
      "cell_type": "code",
      "execution_count": null,
      "id": "df0ba039",
      "metadata": {
        "id": "df0ba039",
        "outputId": "3ba98a85-24c7-43f7-c6ca-5b642b02fcc8",
        "colab": {
          "base_uri": "https://localhost:8080/"
        }
      },
      "outputs": [
        {
          "output_type": "execute_result",
          "data": {
            "text/plain": [
              "int"
            ]
          },
          "metadata": {},
          "execution_count": 44
        }
      ],
      "source": [
        "type(grade)"
      ]
    },
    {
      "cell_type": "code",
      "execution_count": null,
      "id": "de957080",
      "metadata": {
        "id": "de957080",
        "outputId": "4ba5423a-5464-451b-d6df-a018fe521a68",
        "colab": {
          "base_uri": "https://localhost:8080/"
        }
      },
      "outputs": [
        {
          "output_type": "execute_result",
          "data": {
            "text/plain": [
              "True"
            ]
          },
          "metadata": {},
          "execution_count": 68
        }
      ],
      "source": [
        "grade = 95\n",
        "grade == 95"
      ]
    },
    {
      "cell_type": "code",
      "execution_count": null,
      "id": "36fdf88e",
      "metadata": {
        "id": "36fdf88e",
        "outputId": "a8369520-a733-4e26-d24d-54c8d0445023",
        "colab": {
          "base_uri": "https://localhost:8080/"
        }
      },
      "outputs": [
        {
          "output_type": "execute_result",
          "data": {
            "text/plain": [
              "False"
            ]
          },
          "metadata": {},
          "execution_count": 69
        }
      ],
      "source": [
        "isinstance(grade, float) # False"
      ]
    },
    {
      "cell_type": "code",
      "execution_count": null,
      "id": "47117837",
      "metadata": {
        "id": "47117837",
        "outputId": "e667f557-3057-4cb2-efcf-d12940d80628",
        "colab": {
          "base_uri": "https://localhost:8080/"
        }
      },
      "outputs": [
        {
          "output_type": "execute_result",
          "data": {
            "text/plain": [
              "True"
            ]
          },
          "metadata": {},
          "execution_count": 70
        }
      ],
      "source": [
        "isinstance('two', str)   # True"
      ]
    },
    {
      "cell_type": "code",
      "execution_count": null,
      "id": "60433770",
      "metadata": {
        "id": "60433770",
        "outputId": "0182162f-ae44-4afc-a832-c5476b2d865f",
        "colab": {
          "base_uri": "https://localhost:8080/"
        }
      },
      "outputs": [
        {
          "output_type": "execute_result",
          "data": {
            "text/plain": [
              "False"
            ]
          },
          "metadata": {},
          "execution_count": 47
        }
      ],
      "source": [
        "2 == 3"
      ]
    },
    {
      "cell_type": "code",
      "execution_count": null,
      "id": "9e409d50",
      "metadata": {
        "id": "9e409d50",
        "outputId": "a2be1d2c-01ba-40db-d0f9-3cd2b1445b56",
        "colab": {
          "base_uri": "https://localhost:8080/"
        }
      },
      "outputs": [
        {
          "output_type": "execute_result",
          "data": {
            "text/plain": [
              "True"
            ]
          },
          "metadata": {},
          "execution_count": 49
        }
      ],
      "source": [
        "isinstance(2==3, bool)   # True"
      ]
    },
    {
      "cell_type": "markdown",
      "id": "0772205f",
      "metadata": {
        "id": "0772205f"
      },
      "source": [
        "### 輸入(Input)\n",
        "### input ():使用者由鍵盤輸入資料，回傳輸入的字串"
      ]
    },
    {
      "cell_type": "code",
      "execution_count": null,
      "id": "3f1db988",
      "metadata": {
        "id": "3f1db988",
        "colab": {
          "base_uri": "https://localhost:8080/"
        },
        "outputId": "f59dd5c5-f6a3-48a9-c2c5-0e73b4953fc2"
      },
      "outputs": [
        {
          "output_type": "stream",
          "name": "stdout",
          "text": [
            "tim\n",
            "tim\n",
            "your age? 20\n",
            "20\n",
            "<class 'str'> <class 'str'>\n"
          ]
        }
      ],
      "source": [
        "name = input()\n",
        "print(name)\n",
        "age = input(\"your age? \")\n",
        "print(age)\n",
        "print(type(name), type(age))"
      ]
    },
    {
      "cell_type": "code",
      "execution_count": null,
      "id": "96113fb8",
      "metadata": {
        "id": "96113fb8",
        "colab": {
          "base_uri": "https://localhost:8080/"
        },
        "outputId": "90be3137-6ac6-43ea-b689-e1ec4773f49d"
      },
      "outputs": [
        {
          "output_type": "stream",
          "name": "stdout",
          "text": [
            "輸入成績: 60\n",
            "72.0\n"
          ]
        }
      ],
      "source": [
        "grade = int(input(\"輸入成績: \"))\n",
        "print(grade*1.2)"
      ]
    },
    {
      "cell_type": "code",
      "source": [
        "a, b, c = input(\"請輸入三個數字，以空格分隔：\").split()\n",
        "a, b, c"
      ],
      "metadata": {
        "colab": {
          "base_uri": "https://localhost:8080/"
        },
        "id": "1v3gjuQa2PE2",
        "outputId": "22940826-8479-4de6-b0fc-161e60a71c9f"
      },
      "id": "1v3gjuQa2PE2",
      "execution_count": null,
      "outputs": [
        {
          "name": "stdout",
          "output_type": "stream",
          "text": [
            "請輸入三個數字，以空格分隔：2 3 4\n"
          ]
        },
        {
          "output_type": "execute_result",
          "data": {
            "text/plain": [
              "('2', '3', '4')"
            ]
          },
          "metadata": {},
          "execution_count": 78
        }
      ]
    },
    {
      "cell_type": "code",
      "source": [
        "a, b= input(\"請輸入任意個數字，以逗號分隔：\").split(',')\n",
        "a"
      ],
      "metadata": {
        "colab": {
          "base_uri": "https://localhost:8080/",
          "height": 53
        },
        "id": "RawYeXeA2mDo",
        "outputId": "fe49ceec-6b1d-4d40-83ff-46080fd3199c"
      },
      "id": "RawYeXeA2mDo",
      "execution_count": null,
      "outputs": [
        {
          "name": "stdout",
          "output_type": "stream",
          "text": [
            "請輸入任意個數字，以逗號分隔：2233,44\n"
          ]
        },
        {
          "output_type": "execute_result",
          "data": {
            "text/plain": [
              "'2233'"
            ],
            "application/vnd.google.colaboratory.intrinsic+json": {
              "type": "string"
            }
          },
          "metadata": {},
          "execution_count": 84
        }
      ]
    },
    {
      "cell_type": "code",
      "source": [
        "b"
      ],
      "metadata": {
        "colab": {
          "base_uri": "https://localhost:8080/",
          "height": 35
        },
        "id": "73_tEDZuARXC",
        "outputId": "e212dbae-5f56-416d-ce1b-c88f3aae31ad"
      },
      "id": "73_tEDZuARXC",
      "execution_count": null,
      "outputs": [
        {
          "output_type": "execute_result",
          "data": {
            "text/plain": [
              "'44'"
            ],
            "application/vnd.google.colaboratory.intrinsic+json": {
              "type": "string"
            }
          },
          "metadata": {},
          "execution_count": 86
        }
      ]
    },
    {
      "cell_type": "code",
      "source": [
        "n, *a = input(\"請輸入第一個是資料個數，以及該數量的數字，以空白分隔：\").split()"
      ],
      "metadata": {
        "colab": {
          "base_uri": "https://localhost:8080/"
        },
        "id": "YBjf0lWR29RA",
        "outputId": "372e0277-e924-4d44-c276-ac496ccb2d33"
      },
      "id": "YBjf0lWR29RA",
      "execution_count": null,
      "outputs": [
        {
          "name": "stdout",
          "output_type": "stream",
          "text": [
            "請輸入第一個是資料個數，以及該數量的數字，以空白分隔：3 8 8 8\n"
          ]
        }
      ]
    },
    {
      "cell_type": "code",
      "source": [
        "n\n",
        "a"
      ],
      "metadata": {
        "colab": {
          "base_uri": "https://localhost:8080/"
        },
        "id": "7bC9473H3G92",
        "outputId": "da493a58-b830-40f8-b804-4273ab66d8aa"
      },
      "id": "7bC9473H3G92",
      "execution_count": null,
      "outputs": [
        {
          "output_type": "execute_result",
          "data": {
            "text/plain": [
              "['8', '8', '8']"
            ]
          },
          "metadata": {},
          "execution_count": 89
        }
      ]
    },
    {
      "cell_type": "code",
      "source": [
        "data = input(\"請輸入多個單詞，以空格分隔：\").split(maxsplit=1)"
      ],
      "metadata": {
        "colab": {
          "base_uri": "https://localhost:8080/"
        },
        "id": "1P27keIY3mKt",
        "outputId": "9c9bf81d-c81b-4cf1-df39-f2339344783c"
      },
      "id": "1P27keIY3mKt",
      "execution_count": null,
      "outputs": [
        {
          "name": "stdout",
          "output_type": "stream",
          "text": [
            "請輸入多個單詞，以空格分隔：This is a sentence\n"
          ]
        }
      ]
    },
    {
      "cell_type": "code",
      "source": [
        "data"
      ],
      "metadata": {
        "colab": {
          "base_uri": "https://localhost:8080/"
        },
        "id": "OmFhlOrs3sjP",
        "outputId": "31910b71-0a9e-4f4d-8b87-805d84bfabdc"
      },
      "id": "OmFhlOrs3sjP",
      "execution_count": null,
      "outputs": [
        {
          "output_type": "execute_result",
          "data": {
            "text/plain": [
              "['This', 'is a sentence']"
            ]
          },
          "metadata": {},
          "execution_count": 95
        }
      ]
    },
    {
      "cell_type": "markdown",
      "id": "8a315793",
      "metadata": {
        "id": "8a315793"
      },
      "source": [
        "## 使用 print來輸出文字\n",
        "### print(*objects , sep=' ' , end='\\n' )"
      ]
    },
    {
      "cell_type": "code",
      "execution_count": null,
      "id": "062bb8b8",
      "metadata": {
        "id": "062bb8b8",
        "outputId": "c1596b16-dcd6-4c68-9914-5211246d604e",
        "colab": {
          "base_uri": "https://localhost:8080/"
        }
      },
      "outputs": [
        {
          "output_type": "stream",
          "name": "stdout",
          "text": [
            "Jimmy\n",
            "Jimmy 20\n"
          ]
        }
      ],
      "source": [
        "name = 'Jimmy'; age = 20\n",
        "print(name)\n",
        "print(name, age)"
      ]
    },
    {
      "cell_type": "code",
      "execution_count": null,
      "id": "c52db5b8",
      "metadata": {
        "id": "c52db5b8",
        "outputId": "2b24d6e9-e51b-493a-efe9-47c3d990ba38",
        "colab": {
          "base_uri": "https://localhost:8080/"
        }
      },
      "outputs": [
        {
          "output_type": "stream",
          "name": "stdout",
          "text": [
            "A B C D\n",
            "ABCD\n",
            "A|B|C|D\n",
            "A B C D A B C D\n"
          ]
        }
      ],
      "source": [
        "print(\"A\", \"B\", \"C\", \"D\")\n",
        "\n",
        "print(\"A\", \"B\", \"C\", \"D\", sep = \"\")\n",
        "print(\"A\", \"B\", \"C\", \"D\", sep = \"|\")\n",
        "\n",
        "print(\"A\", \"B\", \"C\", \"D\", end = \" \")\n",
        "print(\"A\", \"B\", \"C\", \"D\", end = \"\\n\")"
      ]
    },
    {
      "cell_type": "code",
      "execution_count": null,
      "id": "82be3aa3",
      "metadata": {
        "id": "82be3aa3",
        "outputId": "2dc212dd-65cf-42e4-8136-0bad35d8a17a",
        "colab": {
          "base_uri": "https://localhost:8080/"
        }
      },
      "outputs": [
        {
          "output_type": "stream",
          "name": "stdout",
          "text": [
            "your name is  Jimmy  and age is  20\n"
          ]
        }
      ],
      "source": [
        "print('your name is ', name, \" and age is \", age)"
      ]
    },
    {
      "cell_type": "code",
      "execution_count": null,
      "id": "a707be02",
      "metadata": {
        "id": "a707be02",
        "outputId": "32ef1b39-c347-4a81-ed94-700d59e7e066",
        "colab": {
          "base_uri": "https://localhost:8080/"
        }
      },
      "outputs": [
        {
          "output_type": "stream",
          "name": "stdout",
          "text": [
            "Jimmy ' age is 20\n"
          ]
        }
      ],
      "source": [
        "print(name,'\\' age is', age)"
      ]
    },
    {
      "cell_type": "markdown",
      "id": "3785f209",
      "metadata": {
        "id": "3785f209"
      },
      "source": [
        "### %參數式格式化輸出\n",
        "### print (輸出字串 % (參數1, 參數2… )"
      ]
    },
    {
      "cell_type": "code",
      "execution_count": null,
      "id": "98ebc56a",
      "metadata": {
        "id": "98ebc56a",
        "outputId": "de175096-c29b-414e-fa2e-0b10d6cbe539",
        "colab": {
          "base_uri": "https://localhost:8080/"
        }
      },
      "outputs": [
        {
          "output_type": "stream",
          "name": "stdout",
          "text": [
            "Your name is Jimmy and age is 20\n"
          ]
        }
      ],
      "source": [
        "str2 = \"Your name is %s and age is %d\" %(name, age)\n",
        "print(str2)"
      ]
    },
    {
      "cell_type": "code",
      "execution_count": null,
      "id": "8ec212fe",
      "metadata": {
        "id": "8ec212fe",
        "outputId": "3488bc5c-6278-48f7-b2a2-7c03e660279a",
        "colab": {
          "base_uri": "https://localhost:8080/"
        }
      },
      "outputs": [
        {
          "output_type": "stream",
          "name": "stdout",
          "text": [
            "Your name is Jimmy and age is 20\n"
          ]
        }
      ],
      "source": [
        "print (\"Your name is %s and age is %d\" %(name, age))"
      ]
    },
    {
      "cell_type": "code",
      "execution_count": null,
      "id": "9a057176",
      "metadata": {
        "scrolled": false,
        "id": "9a057176",
        "outputId": "60af44c4-6073-4295-f665-b8314e311f52",
        "colab": {
          "base_uri": "https://localhost:8080/"
        }
      },
      "outputs": [
        {
          "output_type": "stream",
          "name": "stdout",
          "text": [
            "pi is 3.14\n",
            "pi is 3.14, area = 1.325\n",
            "pi is 3.14, area =   1.3\n"
          ]
        }
      ],
      "source": [
        "# formatting numbers\n",
        "b1 = 'pi is %.2f' % (3.14159)\n",
        "b2 = 'pi is %.2f, area = %5.3f' % (3.14159, 1.325)\n",
        "b3 = 'pi is %.2f, area = %5.1f' % (3.14159, 1.325)\n",
        "print(b1)\n",
        "print(b2)\n",
        "print(b3)"
      ]
    },
    {
      "cell_type": "markdown",
      "id": "1d6dc5d2",
      "metadata": {
        "id": "1d6dc5d2"
      },
      "source": [
        "### format方法的格式化輸出\n",
        "### print (\" … {} … {}\".format( 變數1, 變數2 )"
      ]
    },
    {
      "cell_type": "code",
      "execution_count": null,
      "id": "5ea4f676",
      "metadata": {
        "id": "5ea4f676",
        "outputId": "fd0b663f-7b2c-4a14-beca-5efc9f62ec0d",
        "colab": {
          "base_uri": "https://localhost:8080/"
        }
      },
      "outputs": [
        {
          "output_type": "stream",
          "name": "stdout",
          "text": [
            "Your name is Jimmy and age is 20\n"
          ]
        }
      ],
      "source": [
        "print (\"Your name is {} and age is {}\".format(name, age))"
      ]
    },
    {
      "cell_type": "code",
      "execution_count": null,
      "id": "b12fb7cf",
      "metadata": {
        "id": "b12fb7cf",
        "outputId": "94b53259-5a1c-4483-bfde-79b58201b558",
        "colab": {
          "base_uri": "https://localhost:8080/"
        }
      },
      "outputs": [
        {
          "output_type": "stream",
          "name": "stdout",
          "text": [
            "Your name is Jimmy and age is 20\n"
          ]
        }
      ],
      "source": [
        "str1 = \"Your name is {0} and age is {1}\".format(name, age)\n",
        "print(str1)"
      ]
    },
    {
      "cell_type": "code",
      "execution_count": null,
      "id": "0cfc0196",
      "metadata": {
        "id": "0cfc0196",
        "outputId": "2ce2238e-fb0a-42aa-e352-75522c0ea8fc",
        "colab": {
          "base_uri": "https://localhost:8080/"
        }
      },
      "outputs": [
        {
          "output_type": "stream",
          "name": "stdout",
          "text": [
            "pi is 3.14\n",
            "pi is 3.14, area = 1.325\n",
            "pi is 3.14, area =   1.3\n"
          ]
        }
      ],
      "source": [
        "# formatting numbers\n",
        "b1 = 'pi is {:.2f}'.format(3.14159)\n",
        "b2 = 'pi is {0:.2f}, area = {1}'.format(3.14159, 1.325)\n",
        "b3 = 'pi is {0:.2f}, area = {1:5.1f}'.format(3.14159, 1.325)\n",
        "print(b1)\n",
        "print(b2)\n",
        "print(b3)"
      ]
    },
    {
      "cell_type": "code",
      "execution_count": null,
      "id": "35c9017f",
      "metadata": {
        "id": "35c9017f",
        "outputId": "b6e5996a-be3c-4555-dda2-3a45fbaaf1d3",
        "colab": {
          "base_uri": "https://localhost:8080/"
        }
      },
      "outputs": [
        {
          "output_type": "stream",
          "name": "stdout",
          "text": [
            "Tim         薪水：       98000\n",
            "Alan        薪水：___180000___\n",
            "Mary        薪水：66000*******\n"
          ]
        }
      ],
      "source": [
        "print(\"{0:12}薪水：{1:>12}\".format(\"Tim\", 98000))\n",
        "print(\"{0:12}薪水：{1:_^12}\".format(\"Alan\", 180000))\n",
        "print(\"{0:12}薪水：{1:*<12}\".format(\"Mary\", 66000))"
      ]
    },
    {
      "cell_type": "markdown",
      "id": "4786a346",
      "metadata": {
        "id": "4786a346"
      },
      "source": [
        "### 字串插值（Formatted String Literal）\n",
        "Python 3.6 新增格式字串插值（Formatted String Literal），可以將 Python 運算式嵌入在字串常數中。"
      ]
    },
    {
      "cell_type": "code",
      "execution_count": null,
      "id": "1f493b11",
      "metadata": {
        "id": "1f493b11",
        "outputId": "de2bb914-411f-4e20-ba73-53ad0824c0c4",
        "colab": {
          "base_uri": "https://localhost:8080/"
        }
      },
      "outputs": [
        {
          "output_type": "stream",
          "name": "stdout",
          "text": [
            "Your name is Jimmy and age is 20\n"
          ]
        }
      ],
      "source": [
        "print (f\"Your name is {name} and age is {age}\")"
      ]
    },
    {
      "cell_type": "code",
      "execution_count": null,
      "id": "a3346da2",
      "metadata": {
        "id": "a3346da2",
        "outputId": "4983d97f-5c5d-4e9c-d8c1-301572f8b16d",
        "colab": {
          "base_uri": "https://localhost:8080/"
        }
      },
      "outputs": [
        {
          "output_type": "stream",
          "name": "stdout",
          "text": [
            "x + y = 45\n"
          ]
        }
      ],
      "source": [
        "x = 20\n",
        "y = 25\n",
        "\n",
        "print(f'x + y = {x + y}')"
      ]
    },
    {
      "cell_type": "code",
      "source": [
        "n = int(input())\n",
        "\n",
        "odd = n % 2\n",
        "result = bool(odd)\n",
        "\n",
        "print(f\"Is the integer {n} an odd number?\")\n",
        "print(f\"{result}!\")"
      ],
      "metadata": {
        "colab": {
          "base_uri": "https://localhost:8080/"
        },
        "id": "F3ffo2Cbd8Kz",
        "outputId": "a7a1399d-9980-4d39-9114-b53f606c5f7c"
      },
      "id": "F3ffo2Cbd8Kz",
      "execution_count": null,
      "outputs": [
        {
          "output_type": "stream",
          "name": "stdout",
          "text": [
            "5\n",
            "Is the integer 5 an odd number?\n",
            "True!\n",
            "['/bin/bash: line 1: result: command not found']\n"
          ]
        }
      ]
    }
  ],
  "metadata": {
    "kernelspec": {
      "display_name": "Python 3",
      "language": "python",
      "name": "python3"
    },
    "language_info": {
      "codemirror_mode": {
        "name": "ipython",
        "version": 3
      },
      "file_extension": ".py",
      "mimetype": "text/x-python",
      "name": "python",
      "nbconvert_exporter": "python",
      "pygments_lexer": "ipython3",
      "version": "3.8.8"
    },
    "colab": {
      "provenance": [],
      "include_colab_link": true
    }
  },
  "nbformat": 4,
  "nbformat_minor": 5
}